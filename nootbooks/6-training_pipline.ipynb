{
 "cells": [
  {
   "cell_type": "code",
   "execution_count": 1,
   "metadata": {},
   "outputs": [],
   "source": [
    "%load_ext autoreload\n",
    "%autoreload 2"
   ]
  },
  {
   "cell_type": "code",
   "execution_count": 2,
   "metadata": {},
   "outputs": [
    {
     "name": "stderr",
     "output_type": "stream",
     "text": [
      "d:\\poetry_virtualenvs\\src-o1faXYQI-py3.12\\Lib\\site-packages\\tqdm\\auto.py:21: TqdmWarning: IProgress not found. Please update jupyter and ipywidgets. See https://ipywidgets.readthedocs.io/en/stable/user_install.html\n",
      "  from .autonotebook import tqdm as notebook_tqdm\n"
     ]
    }
   ],
   "source": [
    "import src.component.feature_group_config as config"
   ]
  },
  {
   "cell_type": "code",
   "execution_count": 3,
   "metadata": {},
   "outputs": [
    {
     "name": "stdout",
     "output_type": "stream",
     "text": [
      "2025-01-28 21:05:33,431 INFO: Initializing external client\n",
      "2025-01-28 21:05:33,435 INFO: Base URL: https://c.app.hopsworks.ai:443\n",
      "2025-01-28 21:05:35,275 INFO: Python Engine initialized.\n",
      "\n",
      "Logged in to project, explore it here https://c.app.hopsworks.ai:443/p/1212583\n"
     ]
    }
   ],
   "source": [
    "import hopsworks\n",
    "\n",
    "# connect to the project\n",
    "project = hopsworks.login(\n",
    "    project=config.HOPSWORKS_PROJECT_NAME,\n",
    "    api_key_value=config.HOPSWORKS_API_KEY\n",
    ")\n",
    "\n",
    "# connect to the feature store\n",
    "feature_store = project.get_feature_store()\n",
    "\n",
    "# connect to the feature group\n",
    "feature_group = feature_store.get_feature_group(\n",
    "    name=config.FEATURE_GROUP_NAME,\n",
    "    version=config.FEATURE_GROUP_VERSION,\n",
    ")"
   ]
  },
  {
   "cell_type": "code",
   "execution_count": 4,
   "metadata": {},
   "outputs": [
    {
     "name": "stdout",
     "output_type": "stream",
     "text": [
      "Feature view already existed. Skip creation.\n"
     ]
    }
   ],
   "source": [
    "# create feature view (if it doesn't exist yet)\n",
    "# This feature view only uses on feature group, so the query is trivial\n",
    "try:\n",
    "    # create feature view if it doesn't exist yet\n",
    "    feature_store.create_feature_view(\n",
    "        name=config.FEATURE_VIEW_NAME,\n",
    "        version=config.FEATURE_VIEW_VERSION,\n",
    "        query=feature_group.select_all()\n",
    "    )\n",
    "except:\n",
    "    print('Feature view already existed. Skip creation.')\n",
    "\n",
    "\n",
    "# get feature view\n",
    "feature_view = feature_store.get_feature_view(\n",
    "    name=config.FEATURE_VIEW_NAME,\n",
    "    version=config.FEATURE_VIEW_VERSION\n",
    ")"
   ]
  },
  {
   "cell_type": "code",
   "execution_count": 5,
   "metadata": {},
   "outputs": [
    {
     "name": "stdout",
     "output_type": "stream",
     "text": [
      "Finished: Reading data from Hopsworks, using Hopsworks Feature Query Service (6.64s) \n"
     ]
    },
    {
     "name": "stderr",
     "output_type": "stream",
     "text": [
      "VersionWarning: Incremented version to `3`.\n"
     ]
    }
   ],
   "source": [
    "data, _ = feature_view.training_data(\n",
    "    description='Time-series hourly electricity demand values',\n",
    ")"
   ]
  },
  {
   "cell_type": "code",
   "execution_count": 6,
   "metadata": {},
   "outputs": [
    {
     "data": {
      "text/html": [
       "<div>\n",
       "<style scoped>\n",
       "    .dataframe tbody tr th:only-of-type {\n",
       "        vertical-align: middle;\n",
       "    }\n",
       "\n",
       "    .dataframe tbody tr th {\n",
       "        vertical-align: top;\n",
       "    }\n",
       "\n",
       "    .dataframe thead th {\n",
       "        text-align: right;\n",
       "    }\n",
       "</style>\n",
       "<table border=\"1\" class=\"dataframe\">\n",
       "  <thead>\n",
       "    <tr style=\"text-align: right;\">\n",
       "      <th></th>\n",
       "      <th>date</th>\n",
       "      <th>sub_region_code</th>\n",
       "      <th>demand</th>\n",
       "      <th>temperature_2m</th>\n",
       "    </tr>\n",
       "  </thead>\n",
       "  <tbody>\n",
       "    <tr>\n",
       "      <th>633483</th>\n",
       "      <td>2024-01-01 05:00:00+00:00</td>\n",
       "      <td>0</td>\n",
       "      <td>10761</td>\n",
       "      <td>3.9085</td>\n",
       "    </tr>\n",
       "    <tr>\n",
       "      <th>504954</th>\n",
       "      <td>2024-01-01 06:00:00+00:00</td>\n",
       "      <td>0</td>\n",
       "      <td>10579</td>\n",
       "      <td>3.7585</td>\n",
       "    </tr>\n",
       "    <tr>\n",
       "      <th>581933</th>\n",
       "      <td>2024-01-01 07:00:00+00:00</td>\n",
       "      <td>0</td>\n",
       "      <td>10326</td>\n",
       "      <td>3.4585</td>\n",
       "    </tr>\n",
       "    <tr>\n",
       "      <th>744174</th>\n",
       "      <td>2024-01-01 08:00:00+00:00</td>\n",
       "      <td>0</td>\n",
       "      <td>10083</td>\n",
       "      <td>3.9085</td>\n",
       "    </tr>\n",
       "    <tr>\n",
       "      <th>265932</th>\n",
       "      <td>2024-01-01 09:00:00+00:00</td>\n",
       "      <td>0</td>\n",
       "      <td>9904</td>\n",
       "      <td>4.9085</td>\n",
       "    </tr>\n",
       "    <tr>\n",
       "      <th>...</th>\n",
       "      <td>...</td>\n",
       "      <td>...</td>\n",
       "      <td>...</td>\n",
       "      <td>...</td>\n",
       "    </tr>\n",
       "    <tr>\n",
       "      <th>160799</th>\n",
       "      <td>2025-01-28 10:00:00+00:00</td>\n",
       "      <td>82</td>\n",
       "      <td>1841</td>\n",
       "      <td>5.5085</td>\n",
       "    </tr>\n",
       "    <tr>\n",
       "      <th>132787</th>\n",
       "      <td>2025-01-28 11:00:00+00:00</td>\n",
       "      <td>82</td>\n",
       "      <td>1962</td>\n",
       "      <td>6.8585</td>\n",
       "    </tr>\n",
       "    <tr>\n",
       "      <th>155991</th>\n",
       "      <td>2025-01-28 12:00:00+00:00</td>\n",
       "      <td>82</td>\n",
       "      <td>2153</td>\n",
       "      <td>7.5585</td>\n",
       "    </tr>\n",
       "    <tr>\n",
       "      <th>147408</th>\n",
       "      <td>2025-01-28 13:00:00+00:00</td>\n",
       "      <td>82</td>\n",
       "      <td>2297</td>\n",
       "      <td>7.9585</td>\n",
       "    </tr>\n",
       "    <tr>\n",
       "      <th>139506</th>\n",
       "      <td>2025-01-28 14:00:00+00:00</td>\n",
       "      <td>82</td>\n",
       "      <td>2350</td>\n",
       "      <td>8.3085</td>\n",
       "    </tr>\n",
       "  </tbody>\n",
       "</table>\n",
       "<p>781281 rows × 4 columns</p>\n",
       "</div>"
      ],
      "text/plain": [
       "                             date  sub_region_code demand  temperature_2m\n",
       "633483  2024-01-01 05:00:00+00:00                0  10761          3.9085\n",
       "504954  2024-01-01 06:00:00+00:00                0  10579          3.7585\n",
       "581933  2024-01-01 07:00:00+00:00                0  10326          3.4585\n",
       "744174  2024-01-01 08:00:00+00:00                0  10083          3.9085\n",
       "265932  2024-01-01 09:00:00+00:00                0   9904          4.9085\n",
       "...                           ...              ...    ...             ...\n",
       "160799  2025-01-28 10:00:00+00:00               82   1841          5.5085\n",
       "132787  2025-01-28 11:00:00+00:00               82   1962          6.8585\n",
       "155991  2025-01-28 12:00:00+00:00               82   2153          7.5585\n",
       "147408  2025-01-28 13:00:00+00:00               82   2297          7.9585\n",
       "139506  2025-01-28 14:00:00+00:00               82   2350          8.3085\n",
       "\n",
       "[781281 rows x 4 columns]"
      ]
     },
     "execution_count": 6,
     "metadata": {},
     "output_type": "execute_result"
    }
   ],
   "source": [
    "# drop `date` column\n",
    "data.drop('seconds', axis=1, inplace=True)\n",
    "\n",
    "# sort by `pickup_location_id` and `pickup_hour`\n",
    "data.sort_values(by=['sub_region_code', 'date'], inplace=True)\n",
    "data"
   ]
  },
  {
   "cell_type": "code",
   "execution_count": 7,
   "metadata": {},
   "outputs": [
    {
     "name": "stderr",
     "output_type": "stream",
     "text": [
      "100%|██████████| 83/83 [01:25<00:00,  1.03s/it]\n"
     ]
    },
    {
     "name": "stdout",
     "output_type": "stream",
     "text": [
      "features_and_target.shape=(30278, 676)\n"
     ]
    }
   ],
   "source": [
    "#transform the batch of data to features and target\n",
    "from src.component.data_info import transform_ts_data_into_features_and_target\n",
    "\n",
    "features, targets = transform_ts_data_into_features_and_target(\n",
    "    data,\n",
    "    input_seq_len=24*28*1, # one month\n",
    "    step_size=24,\n",
    ")\n",
    "\n",
    "features_and_target = features.copy()\n",
    "features_and_target['target_demand_values_next_hour'] = targets\n",
    "\n",
    "print(f'{features_and_target.shape=}')"
   ]
  },
  {
   "cell_type": "code",
   "execution_count": 8,
   "metadata": {},
   "outputs": [
    {
     "data": {
      "text/plain": [
       "'2024-01-29 05:00:00+00:00'"
      ]
     },
     "execution_count": 8,
     "metadata": {},
     "output_type": "execute_result"
    }
   ],
   "source": [
    "features_and_target.date.min()"
   ]
  },
  {
   "cell_type": "code",
   "execution_count": 9,
   "metadata": {},
   "outputs": [
    {
     "data": {
      "text/plain": [
       "'2025-01-28 10:00:00+00:00'"
      ]
     },
     "execution_count": 9,
     "metadata": {},
     "output_type": "execute_result"
    }
   ],
   "source": [
    "features_and_target.date.max()"
   ]
  },
  {
   "cell_type": "code",
   "execution_count": 10,
   "metadata": {},
   "outputs": [
    {
     "name": "stdout",
     "output_type": "stream",
     "text": [
      "cutoff_date=Timestamp('2024-12-31 00:00:00+0000', tz='UTC')\n"
     ]
    },
    {
     "ename": "ValueError",
     "evalue": "unconverted data remains when parsing with format \"%Y-%m-%d %H:%M:%S\": \"+00:00\", at position 0. You might want to try:\n    - passing `format` if your strings have a consistent format;\n    - passing `format='ISO8601'` if your strings are all ISO8601 but not necessarily in exactly the same format;\n    - passing `format='mixed'`, and the format will be inferred for each element individually. You might want to use `dayfirst` alongside this.",
     "output_type": "error",
     "traceback": [
      "\u001b[1;31m---------------------------------------------------------------------------\u001b[0m",
      "\u001b[1;31mValueError\u001b[0m                                Traceback (most recent call last)",
      "Cell \u001b[1;32mIn[10], line 12\u001b[0m\n\u001b[0;32m      8\u001b[0m cutoff_date \u001b[38;5;241m=\u001b[39m pd\u001b[38;5;241m.\u001b[39mto_datetime(date\u001b[38;5;241m.\u001b[39mtoday() \u001b[38;5;241m-\u001b[39m timedelta(days\u001b[38;5;241m=\u001b[39m\u001b[38;5;241m28\u001b[39m\u001b[38;5;241m*\u001b[39m\u001b[38;5;241m1\u001b[39m), utc\u001b[38;5;241m=\u001b[39m\u001b[38;5;28;01mTrue\u001b[39;00m)\n\u001b[0;32m     10\u001b[0m \u001b[38;5;28mprint\u001b[39m(\u001b[38;5;124mf\u001b[39m\u001b[38;5;124m'\u001b[39m\u001b[38;5;132;01m{\u001b[39;00mcutoff_date\u001b[38;5;132;01m=}\u001b[39;00m\u001b[38;5;124m'\u001b[39m)\n\u001b[1;32m---> 12\u001b[0m X_train, y_train, X_test, y_test \u001b[38;5;241m=\u001b[39m \u001b[43mtrain_test_split\u001b[49m\u001b[43m(\u001b[49m\n\u001b[0;32m     13\u001b[0m \u001b[43m    \u001b[49m\u001b[43mfeatures_and_target\u001b[49m\u001b[43m,\u001b[49m\n\u001b[0;32m     14\u001b[0m \u001b[43m    \u001b[49m\u001b[43mcutoff_date\u001b[49m\u001b[43m,\u001b[49m\n\u001b[0;32m     15\u001b[0m \u001b[43m    \u001b[49m\u001b[43mtarget_column_name\u001b[49m\u001b[38;5;241;43m=\u001b[39;49m\u001b[38;5;124;43m'\u001b[39;49m\u001b[38;5;124;43mtarget_demand_values_next_hour\u001b[39;49m\u001b[38;5;124;43m'\u001b[39;49m\u001b[43m   \u001b[49m\n\u001b[0;32m     16\u001b[0m \u001b[43m)\u001b[49m\n\u001b[0;32m     18\u001b[0m \u001b[38;5;28mprint\u001b[39m(\u001b[38;5;124mf\u001b[39m\u001b[38;5;124m'\u001b[39m\u001b[38;5;132;01m{\u001b[39;00mX_train\u001b[38;5;241m.\u001b[39mshape\u001b[38;5;132;01m=}\u001b[39;00m\u001b[38;5;124m'\u001b[39m)\n\u001b[0;32m     19\u001b[0m \u001b[38;5;28mprint\u001b[39m(\u001b[38;5;124mf\u001b[39m\u001b[38;5;124m'\u001b[39m\u001b[38;5;132;01m{\u001b[39;00my_train\u001b[38;5;241m.\u001b[39mshape\u001b[38;5;132;01m=}\u001b[39;00m\u001b[38;5;124m'\u001b[39m)\n",
      "File \u001b[1;32mD:\\Electricity_demand_predictor2\\src\\component\\data_info.py:433\u001b[0m, in \u001b[0;36mtrain_test_split\u001b[1;34m(df, cutoff_date, target_column_name)\u001b[0m\n\u001b[0;32m    427\u001b[0m \u001b[38;5;28;01mdef\u001b[39;00m\u001b[38;5;250m \u001b[39m\u001b[38;5;21mtrain_test_split\u001b[39m(\n\u001b[0;32m    428\u001b[0m     df: pd\u001b[38;5;241m.\u001b[39mDataFrame,\n\u001b[0;32m    429\u001b[0m     cutoff_date: datetime,\n\u001b[0;32m    430\u001b[0m     target_column_name: \u001b[38;5;28mstr\u001b[39m,\n\u001b[0;32m    431\u001b[0m ) \u001b[38;5;241m-\u001b[39m\u001b[38;5;241m>\u001b[39m Tuple[pd\u001b[38;5;241m.\u001b[39mDataFrame, pd\u001b[38;5;241m.\u001b[39mSeries, pd\u001b[38;5;241m.\u001b[39mDataFrame, pd\u001b[38;5;241m.\u001b[39mSeries]:\n\u001b[0;32m    432\u001b[0m \u001b[38;5;250m    \u001b[39m\u001b[38;5;124;03m\"\"\" \"\"\"\u001b[39;00m\n\u001b[1;32m--> 433\u001b[0m     df[\u001b[38;5;124m'\u001b[39m\u001b[38;5;124mdate\u001b[39m\u001b[38;5;124m'\u001b[39m]\u001b[38;5;241m=\u001b[39m\u001b[43mpd\u001b[49m\u001b[38;5;241;43m.\u001b[39;49m\u001b[43mto_datetime\u001b[49m\u001b[43m(\u001b[49m\u001b[43mdf\u001b[49m\u001b[43m[\u001b[49m\u001b[38;5;124;43m'\u001b[39;49m\u001b[38;5;124;43mdate\u001b[39;49m\u001b[38;5;124;43m'\u001b[39;49m\u001b[43m]\u001b[49m\u001b[43m,\u001b[49m\u001b[43m \u001b[49m\u001b[38;5;28;43mformat\u001b[39;49m\u001b[38;5;241;43m=\u001b[39;49m\u001b[38;5;124;43m'\u001b[39;49m\u001b[38;5;124;43m%\u001b[39;49m\u001b[38;5;124;43mY-\u001b[39;49m\u001b[38;5;124;43m%\u001b[39;49m\u001b[38;5;124;43mm-\u001b[39;49m\u001b[38;5;132;43;01m%d\u001b[39;49;00m\u001b[38;5;124;43m \u001b[39;49m\u001b[38;5;124;43m%\u001b[39;49m\u001b[38;5;124;43mH:\u001b[39;49m\u001b[38;5;124;43m%\u001b[39;49m\u001b[38;5;124;43mM:\u001b[39;49m\u001b[38;5;124;43m%\u001b[39;49m\u001b[38;5;124;43mS\u001b[39;49m\u001b[38;5;124;43m'\u001b[39;49m\u001b[43m)\u001b[49m\n\u001b[0;32m    434\u001b[0m     train_data \u001b[38;5;241m=\u001b[39m df[df\u001b[38;5;241m.\u001b[39mdate \u001b[38;5;241m<\u001b[39m cutoff_date]\u001b[38;5;241m.\u001b[39mreset_index(drop\u001b[38;5;241m=\u001b[39m\u001b[38;5;28;01mTrue\u001b[39;00m)\n\u001b[0;32m    435\u001b[0m     test_data \u001b[38;5;241m=\u001b[39m df[df\u001b[38;5;241m.\u001b[39mdate \u001b[38;5;241m>\u001b[39m\u001b[38;5;241m=\u001b[39m cutoff_date]\u001b[38;5;241m.\u001b[39mreset_index(drop\u001b[38;5;241m=\u001b[39m\u001b[38;5;28;01mTrue\u001b[39;00m)\n",
      "File \u001b[1;32md:\\poetry_virtualenvs\\src-o1faXYQI-py3.12\\Lib\\site-packages\\pandas\\core\\tools\\datetimes.py:1112\u001b[0m, in \u001b[0;36mto_datetime\u001b[1;34m(arg, errors, dayfirst, yearfirst, utc, format, exact, unit, infer_datetime_format, origin, cache)\u001b[0m\n\u001b[0;32m   1110\u001b[0m         result \u001b[38;5;241m=\u001b[39m arg\u001b[38;5;241m.\u001b[39mmap(cache_array)\n\u001b[0;32m   1111\u001b[0m     \u001b[38;5;28;01melse\u001b[39;00m:\n\u001b[1;32m-> 1112\u001b[0m         values \u001b[38;5;241m=\u001b[39m \u001b[43mconvert_listlike\u001b[49m\u001b[43m(\u001b[49m\u001b[43marg\u001b[49m\u001b[38;5;241;43m.\u001b[39;49m\u001b[43m_values\u001b[49m\u001b[43m,\u001b[49m\u001b[43m \u001b[49m\u001b[38;5;28;43mformat\u001b[39;49m\u001b[43m)\u001b[49m\n\u001b[0;32m   1113\u001b[0m         result \u001b[38;5;241m=\u001b[39m arg\u001b[38;5;241m.\u001b[39m_constructor(values, index\u001b[38;5;241m=\u001b[39marg\u001b[38;5;241m.\u001b[39mindex, name\u001b[38;5;241m=\u001b[39marg\u001b[38;5;241m.\u001b[39mname)\n\u001b[0;32m   1114\u001b[0m \u001b[38;5;28;01melif\u001b[39;00m \u001b[38;5;28misinstance\u001b[39m(arg, (ABCDataFrame, abc\u001b[38;5;241m.\u001b[39mMutableMapping)):\n",
      "File \u001b[1;32md:\\poetry_virtualenvs\\src-o1faXYQI-py3.12\\Lib\\site-packages\\pandas\\core\\tools\\datetimes.py:488\u001b[0m, in \u001b[0;36m_convert_listlike_datetimes\u001b[1;34m(arg, format, name, utc, unit, errors, dayfirst, yearfirst, exact)\u001b[0m\n\u001b[0;32m    486\u001b[0m \u001b[38;5;66;03m# `format` could be inferred, or user didn't ask for mixed-format parsing.\u001b[39;00m\n\u001b[0;32m    487\u001b[0m \u001b[38;5;28;01mif\u001b[39;00m \u001b[38;5;28mformat\u001b[39m \u001b[38;5;129;01mis\u001b[39;00m \u001b[38;5;129;01mnot\u001b[39;00m \u001b[38;5;28;01mNone\u001b[39;00m \u001b[38;5;129;01mand\u001b[39;00m \u001b[38;5;28mformat\u001b[39m \u001b[38;5;241m!=\u001b[39m \u001b[38;5;124m\"\u001b[39m\u001b[38;5;124mmixed\u001b[39m\u001b[38;5;124m\"\u001b[39m:\n\u001b[1;32m--> 488\u001b[0m     \u001b[38;5;28;01mreturn\u001b[39;00m \u001b[43m_array_strptime_with_fallback\u001b[49m\u001b[43m(\u001b[49m\u001b[43marg\u001b[49m\u001b[43m,\u001b[49m\u001b[43m \u001b[49m\u001b[43mname\u001b[49m\u001b[43m,\u001b[49m\u001b[43m \u001b[49m\u001b[43mutc\u001b[49m\u001b[43m,\u001b[49m\u001b[43m \u001b[49m\u001b[38;5;28;43mformat\u001b[39;49m\u001b[43m,\u001b[49m\u001b[43m \u001b[49m\u001b[43mexact\u001b[49m\u001b[43m,\u001b[49m\u001b[43m \u001b[49m\u001b[43merrors\u001b[49m\u001b[43m)\u001b[49m\n\u001b[0;32m    490\u001b[0m result, tz_parsed \u001b[38;5;241m=\u001b[39m objects_to_datetime64ns(\n\u001b[0;32m    491\u001b[0m     arg,\n\u001b[0;32m    492\u001b[0m     dayfirst\u001b[38;5;241m=\u001b[39mdayfirst,\n\u001b[1;32m   (...)\u001b[0m\n\u001b[0;32m    496\u001b[0m     allow_object\u001b[38;5;241m=\u001b[39m\u001b[38;5;28;01mTrue\u001b[39;00m,\n\u001b[0;32m    497\u001b[0m )\n\u001b[0;32m    499\u001b[0m \u001b[38;5;28;01mif\u001b[39;00m tz_parsed \u001b[38;5;129;01mis\u001b[39;00m \u001b[38;5;129;01mnot\u001b[39;00m \u001b[38;5;28;01mNone\u001b[39;00m:\n\u001b[0;32m    500\u001b[0m     \u001b[38;5;66;03m# We can take a shortcut since the datetime64 numpy array\u001b[39;00m\n\u001b[0;32m    501\u001b[0m     \u001b[38;5;66;03m# is in UTC\u001b[39;00m\n",
      "File \u001b[1;32md:\\poetry_virtualenvs\\src-o1faXYQI-py3.12\\Lib\\site-packages\\pandas\\core\\tools\\datetimes.py:519\u001b[0m, in \u001b[0;36m_array_strptime_with_fallback\u001b[1;34m(arg, name, utc, fmt, exact, errors)\u001b[0m\n\u001b[0;32m    508\u001b[0m \u001b[38;5;28;01mdef\u001b[39;00m\u001b[38;5;250m \u001b[39m\u001b[38;5;21m_array_strptime_with_fallback\u001b[39m(\n\u001b[0;32m    509\u001b[0m     arg,\n\u001b[0;32m    510\u001b[0m     name,\n\u001b[1;32m   (...)\u001b[0m\n\u001b[0;32m    514\u001b[0m     errors: \u001b[38;5;28mstr\u001b[39m,\n\u001b[0;32m    515\u001b[0m ) \u001b[38;5;241m-\u001b[39m\u001b[38;5;241m>\u001b[39m Index:\n\u001b[0;32m    516\u001b[0m \u001b[38;5;250m    \u001b[39m\u001b[38;5;124;03m\"\"\"\u001b[39;00m\n\u001b[0;32m    517\u001b[0m \u001b[38;5;124;03m    Call array_strptime, with fallback behavior depending on 'errors'.\u001b[39;00m\n\u001b[0;32m    518\u001b[0m \u001b[38;5;124;03m    \"\"\"\u001b[39;00m\n\u001b[1;32m--> 519\u001b[0m     result, timezones \u001b[38;5;241m=\u001b[39m \u001b[43marray_strptime\u001b[49m\u001b[43m(\u001b[49m\u001b[43marg\u001b[49m\u001b[43m,\u001b[49m\u001b[43m \u001b[49m\u001b[43mfmt\u001b[49m\u001b[43m,\u001b[49m\u001b[43m \u001b[49m\u001b[43mexact\u001b[49m\u001b[38;5;241;43m=\u001b[39;49m\u001b[43mexact\u001b[49m\u001b[43m,\u001b[49m\u001b[43m \u001b[49m\u001b[43merrors\u001b[49m\u001b[38;5;241;43m=\u001b[39;49m\u001b[43merrors\u001b[49m\u001b[43m,\u001b[49m\u001b[43m \u001b[49m\u001b[43mutc\u001b[49m\u001b[38;5;241;43m=\u001b[39;49m\u001b[43mutc\u001b[49m\u001b[43m)\u001b[49m\n\u001b[0;32m    520\u001b[0m     \u001b[38;5;28;01mif\u001b[39;00m \u001b[38;5;28many\u001b[39m(tz \u001b[38;5;129;01mis\u001b[39;00m \u001b[38;5;129;01mnot\u001b[39;00m \u001b[38;5;28;01mNone\u001b[39;00m \u001b[38;5;28;01mfor\u001b[39;00m tz \u001b[38;5;129;01min\u001b[39;00m timezones):\n\u001b[0;32m    521\u001b[0m         \u001b[38;5;28;01mreturn\u001b[39;00m _return_parsed_timezone_results(result, timezones, utc, name)\n",
      "File \u001b[1;32mstrptime.pyx:534\u001b[0m, in \u001b[0;36mpandas._libs.tslibs.strptime.array_strptime\u001b[1;34m()\u001b[0m\n",
      "File \u001b[1;32mstrptime.pyx:359\u001b[0m, in \u001b[0;36mpandas._libs.tslibs.strptime.array_strptime\u001b[1;34m()\u001b[0m\n",
      "\u001b[1;31mValueError\u001b[0m: unconverted data remains when parsing with format \"%Y-%m-%d %H:%M:%S\": \"+00:00\", at position 0. You might want to try:\n    - passing `format` if your strings have a consistent format;\n    - passing `format='ISO8601'` if your strings are all ISO8601 but not necessarily in exactly the same format;\n    - passing `format='mixed'`, and the format will be inferred for each element individually. You might want to use `dayfirst` alongside this."
     ]
    }
   ],
   "source": [
    "#split the data\n",
    "from datetime import date, timedelta\n",
    "from pytz import timezone\n",
    "import pandas as pd\n",
    "from src.component.data_info import train_test_split\n",
    "\n",
    "\n",
    "cutoff_date = pd.to_datetime(date.today() - timedelta(days=28*1), utc=True)\n",
    "\n",
    "print(f'{cutoff_date=}')\n",
    "\n",
    "X_train, y_train, X_test, y_test = train_test_split(\n",
    "    features_and_target,\n",
    "    cutoff_date,\n",
    "    target_column_name='target_demand_values_next_hour'   \n",
    ")\n",
    "\n",
    "print(f'{X_train.shape=}')\n",
    "print(f'{y_train.shape=}')\n",
    "print(f'{X_test.shape=}')\n",
    "print(f'{y_test.shape=}')\n",
    "print(f\"Training data range: {X_train['date'].min()} to {X_train['date'].max()}\")\n",
    "print(f\"Testing data range: {X_test['date'].min()} to {X_test['date'].max()}\")\n"
   ]
  },
  {
   "cell_type": "code",
   "execution_count": 31,
   "metadata": {},
   "outputs": [],
   "source": [
    "x_tr=X_train.drop(['date'],axis=1)\n",
    "x_ts=X_test.drop(['date'],axis=1)"
   ]
  },
  {
   "cell_type": "code",
   "execution_count": null,
   "metadata": {},
   "outputs": [],
   "source": []
  },
  {
   "cell_type": "code",
   "execution_count": 32,
   "metadata": {},
   "outputs": [
    {
     "data": {
      "text/html": [
       "<style>#sk-container-id-2 {\n",
       "  /* Definition of color scheme common for light and dark mode */\n",
       "  --sklearn-color-text: black;\n",
       "  --sklearn-color-line: gray;\n",
       "  /* Definition of color scheme for unfitted estimators */\n",
       "  --sklearn-color-unfitted-level-0: #fff5e6;\n",
       "  --sklearn-color-unfitted-level-1: #f6e4d2;\n",
       "  --sklearn-color-unfitted-level-2: #ffe0b3;\n",
       "  --sklearn-color-unfitted-level-3: chocolate;\n",
       "  /* Definition of color scheme for fitted estimators */\n",
       "  --sklearn-color-fitted-level-0: #f0f8ff;\n",
       "  --sklearn-color-fitted-level-1: #d4ebff;\n",
       "  --sklearn-color-fitted-level-2: #b3dbfd;\n",
       "  --sklearn-color-fitted-level-3: cornflowerblue;\n",
       "\n",
       "  /* Specific color for light theme */\n",
       "  --sklearn-color-text-on-default-background: var(--sg-text-color, var(--theme-code-foreground, var(--jp-content-font-color1, black)));\n",
       "  --sklearn-color-background: var(--sg-background-color, var(--theme-background, var(--jp-layout-color0, white)));\n",
       "  --sklearn-color-border-box: var(--sg-text-color, var(--theme-code-foreground, var(--jp-content-font-color1, black)));\n",
       "  --sklearn-color-icon: #696969;\n",
       "\n",
       "  @media (prefers-color-scheme: dark) {\n",
       "    /* Redefinition of color scheme for dark theme */\n",
       "    --sklearn-color-text-on-default-background: var(--sg-text-color, var(--theme-code-foreground, var(--jp-content-font-color1, white)));\n",
       "    --sklearn-color-background: var(--sg-background-color, var(--theme-background, var(--jp-layout-color0, #111)));\n",
       "    --sklearn-color-border-box: var(--sg-text-color, var(--theme-code-foreground, var(--jp-content-font-color1, white)));\n",
       "    --sklearn-color-icon: #878787;\n",
       "  }\n",
       "}\n",
       "\n",
       "#sk-container-id-2 {\n",
       "  color: var(--sklearn-color-text);\n",
       "}\n",
       "\n",
       "#sk-container-id-2 pre {\n",
       "  padding: 0;\n",
       "}\n",
       "\n",
       "#sk-container-id-2 input.sk-hidden--visually {\n",
       "  border: 0;\n",
       "  clip: rect(1px 1px 1px 1px);\n",
       "  clip: rect(1px, 1px, 1px, 1px);\n",
       "  height: 1px;\n",
       "  margin: -1px;\n",
       "  overflow: hidden;\n",
       "  padding: 0;\n",
       "  position: absolute;\n",
       "  width: 1px;\n",
       "}\n",
       "\n",
       "#sk-container-id-2 div.sk-dashed-wrapped {\n",
       "  border: 1px dashed var(--sklearn-color-line);\n",
       "  margin: 0 0.4em 0.5em 0.4em;\n",
       "  box-sizing: border-box;\n",
       "  padding-bottom: 0.4em;\n",
       "  background-color: var(--sklearn-color-background);\n",
       "}\n",
       "\n",
       "#sk-container-id-2 div.sk-container {\n",
       "  /* jupyter's `normalize.less` sets `[hidden] { display: none; }`\n",
       "     but bootstrap.min.css set `[hidden] { display: none !important; }`\n",
       "     so we also need the `!important` here to be able to override the\n",
       "     default hidden behavior on the sphinx rendered scikit-learn.org.\n",
       "     See: https://github.com/scikit-learn/scikit-learn/issues/21755 */\n",
       "  display: inline-block !important;\n",
       "  position: relative;\n",
       "}\n",
       "\n",
       "#sk-container-id-2 div.sk-text-repr-fallback {\n",
       "  display: none;\n",
       "}\n",
       "\n",
       "div.sk-parallel-item,\n",
       "div.sk-serial,\n",
       "div.sk-item {\n",
       "  /* draw centered vertical line to link estimators */\n",
       "  background-image: linear-gradient(var(--sklearn-color-text-on-default-background), var(--sklearn-color-text-on-default-background));\n",
       "  background-size: 2px 100%;\n",
       "  background-repeat: no-repeat;\n",
       "  background-position: center center;\n",
       "}\n",
       "\n",
       "/* Parallel-specific style estimator block */\n",
       "\n",
       "#sk-container-id-2 div.sk-parallel-item::after {\n",
       "  content: \"\";\n",
       "  width: 100%;\n",
       "  border-bottom: 2px solid var(--sklearn-color-text-on-default-background);\n",
       "  flex-grow: 1;\n",
       "}\n",
       "\n",
       "#sk-container-id-2 div.sk-parallel {\n",
       "  display: flex;\n",
       "  align-items: stretch;\n",
       "  justify-content: center;\n",
       "  background-color: var(--sklearn-color-background);\n",
       "  position: relative;\n",
       "}\n",
       "\n",
       "#sk-container-id-2 div.sk-parallel-item {\n",
       "  display: flex;\n",
       "  flex-direction: column;\n",
       "}\n",
       "\n",
       "#sk-container-id-2 div.sk-parallel-item:first-child::after {\n",
       "  align-self: flex-end;\n",
       "  width: 50%;\n",
       "}\n",
       "\n",
       "#sk-container-id-2 div.sk-parallel-item:last-child::after {\n",
       "  align-self: flex-start;\n",
       "  width: 50%;\n",
       "}\n",
       "\n",
       "#sk-container-id-2 div.sk-parallel-item:only-child::after {\n",
       "  width: 0;\n",
       "}\n",
       "\n",
       "/* Serial-specific style estimator block */\n",
       "\n",
       "#sk-container-id-2 div.sk-serial {\n",
       "  display: flex;\n",
       "  flex-direction: column;\n",
       "  align-items: center;\n",
       "  background-color: var(--sklearn-color-background);\n",
       "  padding-right: 1em;\n",
       "  padding-left: 1em;\n",
       "}\n",
       "\n",
       "\n",
       "/* Toggleable style: style used for estimator/Pipeline/ColumnTransformer box that is\n",
       "clickable and can be expanded/collapsed.\n",
       "- Pipeline and ColumnTransformer use this feature and define the default style\n",
       "- Estimators will overwrite some part of the style using the `sk-estimator` class\n",
       "*/\n",
       "\n",
       "/* Pipeline and ColumnTransformer style (default) */\n",
       "\n",
       "#sk-container-id-2 div.sk-toggleable {\n",
       "  /* Default theme specific background. It is overwritten whether we have a\n",
       "  specific estimator or a Pipeline/ColumnTransformer */\n",
       "  background-color: var(--sklearn-color-background);\n",
       "}\n",
       "\n",
       "/* Toggleable label */\n",
       "#sk-container-id-2 label.sk-toggleable__label {\n",
       "  cursor: pointer;\n",
       "  display: block;\n",
       "  width: 100%;\n",
       "  margin-bottom: 0;\n",
       "  padding: 0.5em;\n",
       "  box-sizing: border-box;\n",
       "  text-align: center;\n",
       "}\n",
       "\n",
       "#sk-container-id-2 label.sk-toggleable__label-arrow:before {\n",
       "  /* Arrow on the left of the label */\n",
       "  content: \"▸\";\n",
       "  float: left;\n",
       "  margin-right: 0.25em;\n",
       "  color: var(--sklearn-color-icon);\n",
       "}\n",
       "\n",
       "#sk-container-id-2 label.sk-toggleable__label-arrow:hover:before {\n",
       "  color: var(--sklearn-color-text);\n",
       "}\n",
       "\n",
       "/* Toggleable content - dropdown */\n",
       "\n",
       "#sk-container-id-2 div.sk-toggleable__content {\n",
       "  max-height: 0;\n",
       "  max-width: 0;\n",
       "  overflow: hidden;\n",
       "  text-align: left;\n",
       "  /* unfitted */\n",
       "  background-color: var(--sklearn-color-unfitted-level-0);\n",
       "}\n",
       "\n",
       "#sk-container-id-2 div.sk-toggleable__content.fitted {\n",
       "  /* fitted */\n",
       "  background-color: var(--sklearn-color-fitted-level-0);\n",
       "}\n",
       "\n",
       "#sk-container-id-2 div.sk-toggleable__content pre {\n",
       "  margin: 0.2em;\n",
       "  border-radius: 0.25em;\n",
       "  color: var(--sklearn-color-text);\n",
       "  /* unfitted */\n",
       "  background-color: var(--sklearn-color-unfitted-level-0);\n",
       "}\n",
       "\n",
       "#sk-container-id-2 div.sk-toggleable__content.fitted pre {\n",
       "  /* unfitted */\n",
       "  background-color: var(--sklearn-color-fitted-level-0);\n",
       "}\n",
       "\n",
       "#sk-container-id-2 input.sk-toggleable__control:checked~div.sk-toggleable__content {\n",
       "  /* Expand drop-down */\n",
       "  max-height: 200px;\n",
       "  max-width: 100%;\n",
       "  overflow: auto;\n",
       "}\n",
       "\n",
       "#sk-container-id-2 input.sk-toggleable__control:checked~label.sk-toggleable__label-arrow:before {\n",
       "  content: \"▾\";\n",
       "}\n",
       "\n",
       "/* Pipeline/ColumnTransformer-specific style */\n",
       "\n",
       "#sk-container-id-2 div.sk-label input.sk-toggleable__control:checked~label.sk-toggleable__label {\n",
       "  color: var(--sklearn-color-text);\n",
       "  background-color: var(--sklearn-color-unfitted-level-2);\n",
       "}\n",
       "\n",
       "#sk-container-id-2 div.sk-label.fitted input.sk-toggleable__control:checked~label.sk-toggleable__label {\n",
       "  background-color: var(--sklearn-color-fitted-level-2);\n",
       "}\n",
       "\n",
       "/* Estimator-specific style */\n",
       "\n",
       "/* Colorize estimator box */\n",
       "#sk-container-id-2 div.sk-estimator input.sk-toggleable__control:checked~label.sk-toggleable__label {\n",
       "  /* unfitted */\n",
       "  background-color: var(--sklearn-color-unfitted-level-2);\n",
       "}\n",
       "\n",
       "#sk-container-id-2 div.sk-estimator.fitted input.sk-toggleable__control:checked~label.sk-toggleable__label {\n",
       "  /* fitted */\n",
       "  background-color: var(--sklearn-color-fitted-level-2);\n",
       "}\n",
       "\n",
       "#sk-container-id-2 div.sk-label label.sk-toggleable__label,\n",
       "#sk-container-id-2 div.sk-label label {\n",
       "  /* The background is the default theme color */\n",
       "  color: var(--sklearn-color-text-on-default-background);\n",
       "}\n",
       "\n",
       "/* On hover, darken the color of the background */\n",
       "#sk-container-id-2 div.sk-label:hover label.sk-toggleable__label {\n",
       "  color: var(--sklearn-color-text);\n",
       "  background-color: var(--sklearn-color-unfitted-level-2);\n",
       "}\n",
       "\n",
       "/* Label box, darken color on hover, fitted */\n",
       "#sk-container-id-2 div.sk-label.fitted:hover label.sk-toggleable__label.fitted {\n",
       "  color: var(--sklearn-color-text);\n",
       "  background-color: var(--sklearn-color-fitted-level-2);\n",
       "}\n",
       "\n",
       "/* Estimator label */\n",
       "\n",
       "#sk-container-id-2 div.sk-label label {\n",
       "  font-family: monospace;\n",
       "  font-weight: bold;\n",
       "  display: inline-block;\n",
       "  line-height: 1.2em;\n",
       "}\n",
       "\n",
       "#sk-container-id-2 div.sk-label-container {\n",
       "  text-align: center;\n",
       "}\n",
       "\n",
       "/* Estimator-specific */\n",
       "#sk-container-id-2 div.sk-estimator {\n",
       "  font-family: monospace;\n",
       "  border: 1px dotted var(--sklearn-color-border-box);\n",
       "  border-radius: 0.25em;\n",
       "  box-sizing: border-box;\n",
       "  margin-bottom: 0.5em;\n",
       "  /* unfitted */\n",
       "  background-color: var(--sklearn-color-unfitted-level-0);\n",
       "}\n",
       "\n",
       "#sk-container-id-2 div.sk-estimator.fitted {\n",
       "  /* fitted */\n",
       "  background-color: var(--sklearn-color-fitted-level-0);\n",
       "}\n",
       "\n",
       "/* on hover */\n",
       "#sk-container-id-2 div.sk-estimator:hover {\n",
       "  /* unfitted */\n",
       "  background-color: var(--sklearn-color-unfitted-level-2);\n",
       "}\n",
       "\n",
       "#sk-container-id-2 div.sk-estimator.fitted:hover {\n",
       "  /* fitted */\n",
       "  background-color: var(--sklearn-color-fitted-level-2);\n",
       "}\n",
       "\n",
       "/* Specification for estimator info (e.g. \"i\" and \"?\") */\n",
       "\n",
       "/* Common style for \"i\" and \"?\" */\n",
       "\n",
       ".sk-estimator-doc-link,\n",
       "a:link.sk-estimator-doc-link,\n",
       "a:visited.sk-estimator-doc-link {\n",
       "  float: right;\n",
       "  font-size: smaller;\n",
       "  line-height: 1em;\n",
       "  font-family: monospace;\n",
       "  background-color: var(--sklearn-color-background);\n",
       "  border-radius: 1em;\n",
       "  height: 1em;\n",
       "  width: 1em;\n",
       "  text-decoration: none !important;\n",
       "  margin-left: 1ex;\n",
       "  /* unfitted */\n",
       "  border: var(--sklearn-color-unfitted-level-1) 1pt solid;\n",
       "  color: var(--sklearn-color-unfitted-level-1);\n",
       "}\n",
       "\n",
       ".sk-estimator-doc-link.fitted,\n",
       "a:link.sk-estimator-doc-link.fitted,\n",
       "a:visited.sk-estimator-doc-link.fitted {\n",
       "  /* fitted */\n",
       "  border: var(--sklearn-color-fitted-level-1) 1pt solid;\n",
       "  color: var(--sklearn-color-fitted-level-1);\n",
       "}\n",
       "\n",
       "/* On hover */\n",
       "div.sk-estimator:hover .sk-estimator-doc-link:hover,\n",
       ".sk-estimator-doc-link:hover,\n",
       "div.sk-label-container:hover .sk-estimator-doc-link:hover,\n",
       ".sk-estimator-doc-link:hover {\n",
       "  /* unfitted */\n",
       "  background-color: var(--sklearn-color-unfitted-level-3);\n",
       "  color: var(--sklearn-color-background);\n",
       "  text-decoration: none;\n",
       "}\n",
       "\n",
       "div.sk-estimator.fitted:hover .sk-estimator-doc-link.fitted:hover,\n",
       ".sk-estimator-doc-link.fitted:hover,\n",
       "div.sk-label-container:hover .sk-estimator-doc-link.fitted:hover,\n",
       ".sk-estimator-doc-link.fitted:hover {\n",
       "  /* fitted */\n",
       "  background-color: var(--sklearn-color-fitted-level-3);\n",
       "  color: var(--sklearn-color-background);\n",
       "  text-decoration: none;\n",
       "}\n",
       "\n",
       "/* Span, style for the box shown on hovering the info icon */\n",
       ".sk-estimator-doc-link span {\n",
       "  display: none;\n",
       "  z-index: 9999;\n",
       "  position: relative;\n",
       "  font-weight: normal;\n",
       "  right: .2ex;\n",
       "  padding: .5ex;\n",
       "  margin: .5ex;\n",
       "  width: min-content;\n",
       "  min-width: 20ex;\n",
       "  max-width: 50ex;\n",
       "  color: var(--sklearn-color-text);\n",
       "  box-shadow: 2pt 2pt 4pt #999;\n",
       "  /* unfitted */\n",
       "  background: var(--sklearn-color-unfitted-level-0);\n",
       "  border: .5pt solid var(--sklearn-color-unfitted-level-3);\n",
       "}\n",
       "\n",
       ".sk-estimator-doc-link.fitted span {\n",
       "  /* fitted */\n",
       "  background: var(--sklearn-color-fitted-level-0);\n",
       "  border: var(--sklearn-color-fitted-level-3);\n",
       "}\n",
       "\n",
       ".sk-estimator-doc-link:hover span {\n",
       "  display: block;\n",
       "}\n",
       "\n",
       "/* \"?\"-specific style due to the `<a>` HTML tag */\n",
       "\n",
       "#sk-container-id-2 a.estimator_doc_link {\n",
       "  float: right;\n",
       "  font-size: 1rem;\n",
       "  line-height: 1em;\n",
       "  font-family: monospace;\n",
       "  background-color: var(--sklearn-color-background);\n",
       "  border-radius: 1rem;\n",
       "  height: 1rem;\n",
       "  width: 1rem;\n",
       "  text-decoration: none;\n",
       "  /* unfitted */\n",
       "  color: var(--sklearn-color-unfitted-level-1);\n",
       "  border: var(--sklearn-color-unfitted-level-1) 1pt solid;\n",
       "}\n",
       "\n",
       "#sk-container-id-2 a.estimator_doc_link.fitted {\n",
       "  /* fitted */\n",
       "  border: var(--sklearn-color-fitted-level-1) 1pt solid;\n",
       "  color: var(--sklearn-color-fitted-level-1);\n",
       "}\n",
       "\n",
       "/* On hover */\n",
       "#sk-container-id-2 a.estimator_doc_link:hover {\n",
       "  /* unfitted */\n",
       "  background-color: var(--sklearn-color-unfitted-level-3);\n",
       "  color: var(--sklearn-color-background);\n",
       "  text-decoration: none;\n",
       "}\n",
       "\n",
       "#sk-container-id-2 a.estimator_doc_link.fitted:hover {\n",
       "  /* fitted */\n",
       "  background-color: var(--sklearn-color-fitted-level-3);\n",
       "}\n",
       "</style><div id=\"sk-container-id-2\" class=\"sk-top-container\"><div class=\"sk-text-repr-fallback\"><pre>LinearRegression()</pre><b>In a Jupyter environment, please rerun this cell to show the HTML representation or trust the notebook. <br />On GitHub, the HTML representation is unable to render, please try loading this page with nbviewer.org.</b></div><div class=\"sk-container\" hidden><div class=\"sk-item\"><div class=\"sk-estimator fitted sk-toggleable\"><input class=\"sk-toggleable__control sk-hidden--visually\" id=\"sk-estimator-id-2\" type=\"checkbox\" checked><label for=\"sk-estimator-id-2\" class=\"sk-toggleable__label fitted sk-toggleable__label-arrow fitted\">&nbsp;&nbsp;LinearRegression<a class=\"sk-estimator-doc-link fitted\" rel=\"noreferrer\" target=\"_blank\" href=\"https://scikit-learn.org/1.5/modules/generated/sklearn.linear_model.LinearRegression.html\">?<span>Documentation for LinearRegression</span></a><span class=\"sk-estimator-doc-link fitted\">i<span>Fitted</span></span></label><div class=\"sk-toggleable__content fitted\"><pre>LinearRegression()</pre></div> </div></div></div></div>"
      ],
      "text/plain": [
       "LinearRegression()"
      ]
     },
     "execution_count": 32,
     "metadata": {},
     "output_type": "execute_result"
    }
   ],
   "source": [
    "#basleline model linear regrisson\n",
    "from sklearn.linear_model import LinearRegression\n",
    "from sklearn.metrics import mean_squared_error\n",
    "\n",
    "# Create and train the linear regression model\n",
    "model = LinearRegression()\n",
    "model.fit(x_tr, y_train)"
   ]
  },
  {
   "cell_type": "code",
   "execution_count": null,
   "metadata": {},
   "outputs": [
    {
     "data": {
      "text/plain": [
       "array([11407.99970529, 11942.97524434, 12377.56911167, ...,\n",
       "        1764.85387983,  1796.88051552,  1848.10665766])"
      ]
     },
     "execution_count": 33,
     "metadata": {},
     "output_type": "execute_result"
    }
   ],
   "source": [
    "y_pred = model.predict(x_ts)\n",
    "y_pred"
   ]
  },
  {
   "cell_type": "code",
   "execution_count": 34,
   "metadata": {},
   "outputs": [],
   "source": [
    "from sklearn.metrics import mean_absolute_percentage_error\n",
    "from sklearn.metrics import mean_absolute_error\n",
    "def evaluate_model(y_test, y_pred):\n",
    "    test_mae = mean_absolute_error(y_test, y_pred)\n",
    "    test_mape = mean_absolute_percentage_error(y_test, y_pred)\n",
    "    return f\"MAE is {test_mae:.4f} and MAPE is: {test_mape:.4f}\""
   ]
  },
  {
   "cell_type": "code",
   "execution_count": null,
   "metadata": {},
   "outputs": [
    {
     "data": {
      "text/plain": [
       "'MAE is 36.2222 and MAPE is: 0.0153'"
      ]
     },
     "execution_count": 35,
     "metadata": {},
     "output_type": "execute_result"
    }
   ],
   "source": [
    "evaluate_model(y_test, y_pred)"
   ]
  },
  {
   "cell_type": "code",
   "execution_count": 28,
   "metadata": {},
   "outputs": [],
   "source": [
    "import numpy as np\n",
    "from sklearn.model_selection import KFold, TimeSeriesSplit\n",
    "from sklearn.pipeline import make_pipeline\n",
    "from sklearn.metrics import mean_absolute_error\n",
    "import optuna\n",
    "\n",
    "# from src.model_info import get_pipeline\n",
    "\n",
    "def objective(trial: optuna.trial.Trial) -> float:\n",
    "    \"\"\"\n",
    "    Given a set of hyper-parameters, it trains a model and computes an average\n",
    "    validation error based on a TimeSeriesSplit\n",
    "    \"\"\"\n",
    "    # pick hyper-parameters\n",
    "    hyperparams = {\n",
    "        \"metric\": 'mae',\n",
    "        \"verbose\": -1,\n",
    "        \"num_leaves\": trial.suggest_int(\"num_leaves\", 2, 256),\n",
    "        \"feature_fraction\": trial.suggest_float(\"feature_fraction\", 0.2, 1.0),\n",
    "        \"bagging_fraction\": trial.suggest_float(\"bagging_fraction\", 0.2, 1.0),\n",
    "        \"min_child_samples\": trial.suggest_int(\"min_child_samples\", 3, 100), \n",
    "        #\"learning_rate\": trial.suggest_float(\"learning_rate\", 1e-3, 1e-1, log=True)\n",
    "  \n",
    "    }\n",
    "       \n",
    "    tss = KFold(n_splits=6)\n",
    "    scores = []\n",
    "        \n",
    "    for train_index, val_index in tss.split(X_train):\n",
    "\n",
    "        # split data for training and validation\n",
    "        X_train_, X_val_ = X_train.iloc[train_index, :], X_train.iloc[val_index,:]\n",
    "        y_train_, y_val_ = y_train.iloc[train_index], y_train.iloc[val_index]\n",
    "        \n",
    "        # train the model\n",
    "        pipeline = get_pipeline(**hyperparams)\n",
    "        pipeline.fit(X_train_, y_train_)\n",
    "        \n",
    "        # evaluate the model\n",
    "        y_pred = pipeline.predict(X_val_)\n",
    "        mae = mean_absolute_error(y_val_, y_pred)\n",
    "\n",
    "        scores.append(mae)\n",
    "   \n",
    "    # Return the mean score\n",
    "    return np.array(scores).mean()"
   ]
  },
  {
   "cell_type": "code",
   "execution_count": 29,
   "metadata": {},
   "outputs": [
    {
     "name": "stderr",
     "output_type": "stream",
     "text": [
      "[I 2025-01-28 20:55:57,465] A new study created in memory with name: no-name-39961181-3944-40a4-a68e-9f11345bfe82\n",
      "SettingWithCopyWarning: \n",
      "A value is trying to be set on a copy of a slice from a DataFrame.\n",
      "Try using .loc[row_indexer,col_indexer] = value instead\n",
      "\n",
      "See the caveats in the documentation: https://pandas.pydata.org/pandas-docs/stable/user_guide/indexing.html#returning-a-view-versus-a-copy\n",
      "SettingWithCopyWarning: \n",
      "A value is trying to be set on a copy of a slice from a DataFrame.\n",
      "Try using .loc[row_indexer,col_indexer] = value instead\n",
      "\n",
      "See the caveats in the documentation: https://pandas.pydata.org/pandas-docs/stable/user_guide/indexing.html#returning-a-view-versus-a-copy\n",
      "SettingWithCopyWarning: \n",
      "A value is trying to be set on a copy of a slice from a DataFrame.\n",
      "Try using .loc[row_indexer,col_indexer] = value instead\n",
      "\n",
      "See the caveats in the documentation: https://pandas.pydata.org/pandas-docs/stable/user_guide/indexing.html#returning-a-view-versus-a-copy\n",
      "SettingWithCopyWarning: \n",
      "A value is trying to be set on a copy of a slice from a DataFrame.\n",
      "Try using .loc[row_indexer,col_indexer] = value instead\n",
      "\n",
      "See the caveats in the documentation: https://pandas.pydata.org/pandas-docs/stable/user_guide/indexing.html#returning-a-view-versus-a-copy\n",
      "SettingWithCopyWarning: \n",
      "A value is trying to be set on a copy of a slice from a DataFrame.\n",
      "Try using .loc[row_indexer,col_indexer] = value instead\n",
      "\n",
      "See the caveats in the documentation: https://pandas.pydata.org/pandas-docs/stable/user_guide/indexing.html#returning-a-view-versus-a-copy\n",
      "SettingWithCopyWarning: \n",
      "A value is trying to be set on a copy of a slice from a DataFrame.\n",
      "Try using .loc[row_indexer,col_indexer] = value instead\n",
      "\n",
      "See the caveats in the documentation: https://pandas.pydata.org/pandas-docs/stable/user_guide/indexing.html#returning-a-view-versus-a-copy\n",
      "SettingWithCopyWarning: \n",
      "A value is trying to be set on a copy of a slice from a DataFrame.\n",
      "Try using .loc[row_indexer,col_indexer] = value instead\n",
      "\n",
      "See the caveats in the documentation: https://pandas.pydata.org/pandas-docs/stable/user_guide/indexing.html#returning-a-view-versus-a-copy\n",
      "SettingWithCopyWarning: \n",
      "A value is trying to be set on a copy of a slice from a DataFrame.\n",
      "Try using .loc[row_indexer,col_indexer] = value instead\n",
      "\n",
      "See the caveats in the documentation: https://pandas.pydata.org/pandas-docs/stable/user_guide/indexing.html#returning-a-view-versus-a-copy\n",
      "SettingWithCopyWarning: \n",
      "A value is trying to be set on a copy of a slice from a DataFrame.\n",
      "Try using .loc[row_indexer,col_indexer] = value instead\n",
      "\n",
      "See the caveats in the documentation: https://pandas.pydata.org/pandas-docs/stable/user_guide/indexing.html#returning-a-view-versus-a-copy\n",
      "SettingWithCopyWarning: \n",
      "A value is trying to be set on a copy of a slice from a DataFrame.\n",
      "Try using .loc[row_indexer,col_indexer] = value instead\n",
      "\n",
      "See the caveats in the documentation: https://pandas.pydata.org/pandas-docs/stable/user_guide/indexing.html#returning-a-view-versus-a-copy\n",
      "[I 2025-01-28 20:56:38,821] Trial 0 finished with value: 3608.3911481984023 and parameters: {'num_leaves': 128, 'feature_fraction': 0.2884369158696912, 'bagging_fraction': 0.2061605664208874, 'min_child_samples': 68}. Best is trial 0 with value: 3608.3911481984023.\n",
      "SettingWithCopyWarning: \n",
      "A value is trying to be set on a copy of a slice from a DataFrame.\n",
      "Try using .loc[row_indexer,col_indexer] = value instead\n",
      "\n",
      "See the caveats in the documentation: https://pandas.pydata.org/pandas-docs/stable/user_guide/indexing.html#returning-a-view-versus-a-copy\n",
      "SettingWithCopyWarning: \n",
      "A value is trying to be set on a copy of a slice from a DataFrame.\n",
      "Try using .loc[row_indexer,col_indexer] = value instead\n",
      "\n",
      "See the caveats in the documentation: https://pandas.pydata.org/pandas-docs/stable/user_guide/indexing.html#returning-a-view-versus-a-copy\n",
      "SettingWithCopyWarning: \n",
      "A value is trying to be set on a copy of a slice from a DataFrame.\n",
      "Try using .loc[row_indexer,col_indexer] = value instead\n",
      "\n",
      "See the caveats in the documentation: https://pandas.pydata.org/pandas-docs/stable/user_guide/indexing.html#returning-a-view-versus-a-copy\n",
      "SettingWithCopyWarning: \n",
      "A value is trying to be set on a copy of a slice from a DataFrame.\n",
      "Try using .loc[row_indexer,col_indexer] = value instead\n",
      "\n",
      "See the caveats in the documentation: https://pandas.pydata.org/pandas-docs/stable/user_guide/indexing.html#returning-a-view-versus-a-copy\n",
      "SettingWithCopyWarning: \n",
      "A value is trying to be set on a copy of a slice from a DataFrame.\n",
      "Try using .loc[row_indexer,col_indexer] = value instead\n",
      "\n",
      "See the caveats in the documentation: https://pandas.pydata.org/pandas-docs/stable/user_guide/indexing.html#returning-a-view-versus-a-copy\n",
      "SettingWithCopyWarning: \n",
      "A value is trying to be set on a copy of a slice from a DataFrame.\n",
      "Try using .loc[row_indexer,col_indexer] = value instead\n",
      "\n",
      "See the caveats in the documentation: https://pandas.pydata.org/pandas-docs/stable/user_guide/indexing.html#returning-a-view-versus-a-copy\n",
      "SettingWithCopyWarning: \n",
      "A value is trying to be set on a copy of a slice from a DataFrame.\n",
      "Try using .loc[row_indexer,col_indexer] = value instead\n",
      "\n",
      "See the caveats in the documentation: https://pandas.pydata.org/pandas-docs/stable/user_guide/indexing.html#returning-a-view-versus-a-copy\n",
      "SettingWithCopyWarning: \n",
      "A value is trying to be set on a copy of a slice from a DataFrame.\n",
      "Try using .loc[row_indexer,col_indexer] = value instead\n",
      "\n",
      "See the caveats in the documentation: https://pandas.pydata.org/pandas-docs/stable/user_guide/indexing.html#returning-a-view-versus-a-copy\n",
      "SettingWithCopyWarning: \n",
      "A value is trying to be set on a copy of a slice from a DataFrame.\n",
      "Try using .loc[row_indexer,col_indexer] = value instead\n",
      "\n",
      "See the caveats in the documentation: https://pandas.pydata.org/pandas-docs/stable/user_guide/indexing.html#returning-a-view-versus-a-copy\n",
      "SettingWithCopyWarning: \n",
      "A value is trying to be set on a copy of a slice from a DataFrame.\n",
      "Try using .loc[row_indexer,col_indexer] = value instead\n",
      "\n",
      "See the caveats in the documentation: https://pandas.pydata.org/pandas-docs/stable/user_guide/indexing.html#returning-a-view-versus-a-copy\n",
      "[I 2025-01-28 20:56:58,115] Trial 1 finished with value: 3742.480800605071 and parameters: {'num_leaves': 40, 'feature_fraction': 0.20643137632533, 'bagging_fraction': 0.9904371739246927, 'min_child_samples': 33}. Best is trial 0 with value: 3608.3911481984023.\n",
      "SettingWithCopyWarning: \n",
      "A value is trying to be set on a copy of a slice from a DataFrame.\n",
      "Try using .loc[row_indexer,col_indexer] = value instead\n",
      "\n",
      "See the caveats in the documentation: https://pandas.pydata.org/pandas-docs/stable/user_guide/indexing.html#returning-a-view-versus-a-copy\n",
      "SettingWithCopyWarning: \n",
      "A value is trying to be set on a copy of a slice from a DataFrame.\n",
      "Try using .loc[row_indexer,col_indexer] = value instead\n",
      "\n",
      "See the caveats in the documentation: https://pandas.pydata.org/pandas-docs/stable/user_guide/indexing.html#returning-a-view-versus-a-copy\n",
      "SettingWithCopyWarning: \n",
      "A value is trying to be set on a copy of a slice from a DataFrame.\n",
      "Try using .loc[row_indexer,col_indexer] = value instead\n",
      "\n",
      "See the caveats in the documentation: https://pandas.pydata.org/pandas-docs/stable/user_guide/indexing.html#returning-a-view-versus-a-copy\n",
      "SettingWithCopyWarning: \n",
      "A value is trying to be set on a copy of a slice from a DataFrame.\n",
      "Try using .loc[row_indexer,col_indexer] = value instead\n",
      "\n",
      "See the caveats in the documentation: https://pandas.pydata.org/pandas-docs/stable/user_guide/indexing.html#returning-a-view-versus-a-copy\n",
      "SettingWithCopyWarning: \n",
      "A value is trying to be set on a copy of a slice from a DataFrame.\n",
      "Try using .loc[row_indexer,col_indexer] = value instead\n",
      "\n",
      "See the caveats in the documentation: https://pandas.pydata.org/pandas-docs/stable/user_guide/indexing.html#returning-a-view-versus-a-copy\n",
      "SettingWithCopyWarning: \n",
      "A value is trying to be set on a copy of a slice from a DataFrame.\n",
      "Try using .loc[row_indexer,col_indexer] = value instead\n",
      "\n",
      "See the caveats in the documentation: https://pandas.pydata.org/pandas-docs/stable/user_guide/indexing.html#returning-a-view-versus-a-copy\n",
      "SettingWithCopyWarning: \n",
      "A value is trying to be set on a copy of a slice from a DataFrame.\n",
      "Try using .loc[row_indexer,col_indexer] = value instead\n",
      "\n",
      "See the caveats in the documentation: https://pandas.pydata.org/pandas-docs/stable/user_guide/indexing.html#returning-a-view-versus-a-copy\n",
      "SettingWithCopyWarning: \n",
      "A value is trying to be set on a copy of a slice from a DataFrame.\n",
      "Try using .loc[row_indexer,col_indexer] = value instead\n",
      "\n",
      "See the caveats in the documentation: https://pandas.pydata.org/pandas-docs/stable/user_guide/indexing.html#returning-a-view-versus-a-copy\n",
      "SettingWithCopyWarning: \n",
      "A value is trying to be set on a copy of a slice from a DataFrame.\n",
      "Try using .loc[row_indexer,col_indexer] = value instead\n",
      "\n",
      "See the caveats in the documentation: https://pandas.pydata.org/pandas-docs/stable/user_guide/indexing.html#returning-a-view-versus-a-copy\n",
      "SettingWithCopyWarning: \n",
      "A value is trying to be set on a copy of a slice from a DataFrame.\n",
      "Try using .loc[row_indexer,col_indexer] = value instead\n",
      "\n",
      "See the caveats in the documentation: https://pandas.pydata.org/pandas-docs/stable/user_guide/indexing.html#returning-a-view-versus-a-copy\n",
      "[I 2025-01-28 20:57:18,889] Trial 2 finished with value: 3584.9651397076013 and parameters: {'num_leaves': 26, 'feature_fraction': 0.41265659867973714, 'bagging_fraction': 0.8308016122809712, 'min_child_samples': 34}. Best is trial 2 with value: 3584.9651397076013.\n",
      "SettingWithCopyWarning: \n",
      "A value is trying to be set on a copy of a slice from a DataFrame.\n",
      "Try using .loc[row_indexer,col_indexer] = value instead\n",
      "\n",
      "See the caveats in the documentation: https://pandas.pydata.org/pandas-docs/stable/user_guide/indexing.html#returning-a-view-versus-a-copy\n",
      "SettingWithCopyWarning: \n",
      "A value is trying to be set on a copy of a slice from a DataFrame.\n",
      "Try using .loc[row_indexer,col_indexer] = value instead\n",
      "\n",
      "See the caveats in the documentation: https://pandas.pydata.org/pandas-docs/stable/user_guide/indexing.html#returning-a-view-versus-a-copy\n",
      "SettingWithCopyWarning: \n",
      "A value is trying to be set on a copy of a slice from a DataFrame.\n",
      "Try using .loc[row_indexer,col_indexer] = value instead\n",
      "\n",
      "See the caveats in the documentation: https://pandas.pydata.org/pandas-docs/stable/user_guide/indexing.html#returning-a-view-versus-a-copy\n",
      "SettingWithCopyWarning: \n",
      "A value is trying to be set on a copy of a slice from a DataFrame.\n",
      "Try using .loc[row_indexer,col_indexer] = value instead\n",
      "\n",
      "See the caveats in the documentation: https://pandas.pydata.org/pandas-docs/stable/user_guide/indexing.html#returning-a-view-versus-a-copy\n",
      "SettingWithCopyWarning: \n",
      "A value is trying to be set on a copy of a slice from a DataFrame.\n",
      "Try using .loc[row_indexer,col_indexer] = value instead\n",
      "\n",
      "See the caveats in the documentation: https://pandas.pydata.org/pandas-docs/stable/user_guide/indexing.html#returning-a-view-versus-a-copy\n",
      "SettingWithCopyWarning: \n",
      "A value is trying to be set on a copy of a slice from a DataFrame.\n",
      "Try using .loc[row_indexer,col_indexer] = value instead\n",
      "\n",
      "See the caveats in the documentation: https://pandas.pydata.org/pandas-docs/stable/user_guide/indexing.html#returning-a-view-versus-a-copy\n",
      "SettingWithCopyWarning: \n",
      "A value is trying to be set on a copy of a slice from a DataFrame.\n",
      "Try using .loc[row_indexer,col_indexer] = value instead\n",
      "\n",
      "See the caveats in the documentation: https://pandas.pydata.org/pandas-docs/stable/user_guide/indexing.html#returning-a-view-versus-a-copy\n",
      "SettingWithCopyWarning: \n",
      "A value is trying to be set on a copy of a slice from a DataFrame.\n",
      "Try using .loc[row_indexer,col_indexer] = value instead\n",
      "\n",
      "See the caveats in the documentation: https://pandas.pydata.org/pandas-docs/stable/user_guide/indexing.html#returning-a-view-versus-a-copy\n",
      "SettingWithCopyWarning: \n",
      "A value is trying to be set on a copy of a slice from a DataFrame.\n",
      "Try using .loc[row_indexer,col_indexer] = value instead\n",
      "\n",
      "See the caveats in the documentation: https://pandas.pydata.org/pandas-docs/stable/user_guide/indexing.html#returning-a-view-versus-a-copy\n",
      "[W 2025-01-28 20:59:13,538] Trial 3 failed with parameters: {'num_leaves': 11, 'feature_fraction': 0.8212033408742647, 'bagging_fraction': 0.27353887806275906, 'min_child_samples': 83} because of the following error: KeyboardInterrupt().\n",
      "Traceback (most recent call last):\n",
      "  File \"d:\\poetry_virtualenvs\\src-o1faXYQI-py3.12\\Lib\\site-packages\\optuna\\study\\_optimize.py\", line 197, in _run_trial\n",
      "    value_or_values = func(trial)\n",
      "                      ^^^^^^^^^^^\n",
      "  File \"C:\\Users\\Hadeel\\AppData\\Local\\Temp\\ipykernel_26124\\721306646.py\", line 38, in objective\n",
      "    pipeline.fit(X_train_, y_train_)\n",
      "  File \"d:\\poetry_virtualenvs\\src-o1faXYQI-py3.12\\Lib\\site-packages\\sklearn\\base.py\", line 1473, in wrapper\n",
      "    return fit_method(estimator, *args, **kwargs)\n",
      "           ^^^^^^^^^^^^^^^^^^^^^^^^^^^^^^^^^^^^^^\n",
      "  File \"d:\\poetry_virtualenvs\\src-o1faXYQI-py3.12\\Lib\\site-packages\\sklearn\\pipeline.py\", line 473, in fit\n",
      "    self._final_estimator.fit(Xt, y, **last_step_params[\"fit\"])\n",
      "  File \"d:\\poetry_virtualenvs\\src-o1faXYQI-py3.12\\Lib\\site-packages\\lightgbm\\sklearn.py\", line 1189, in fit\n",
      "    super().fit(\n",
      "  File \"d:\\poetry_virtualenvs\\src-o1faXYQI-py3.12\\Lib\\site-packages\\lightgbm\\sklearn.py\", line 955, in fit\n",
      "    self._Booster = train(\n",
      "                    ^^^^^^\n",
      "  File \"d:\\poetry_virtualenvs\\src-o1faXYQI-py3.12\\Lib\\site-packages\\lightgbm\\engine.py\", line 307, in train\n",
      "    booster.update(fobj=fobj)\n",
      "  File \"d:\\poetry_virtualenvs\\src-o1faXYQI-py3.12\\Lib\\site-packages\\lightgbm\\basic.py\", line 4136, in update\n",
      "    _LIB.LGBM_BoosterUpdateOneIter(\n",
      "KeyboardInterrupt\n",
      "[W 2025-01-28 20:59:13,545] Trial 3 failed with value None.\n"
     ]
    },
    {
     "ename": "KeyboardInterrupt",
     "evalue": "",
     "output_type": "error",
     "traceback": [
      "\u001b[1;31m---------------------------------------------------------------------------\u001b[0m",
      "\u001b[1;31mKeyboardInterrupt\u001b[0m                         Traceback (most recent call last)",
      "Cell \u001b[1;32mIn[29], line 2\u001b[0m\n\u001b[0;32m      1\u001b[0m study \u001b[38;5;241m=\u001b[39m optuna\u001b[38;5;241m.\u001b[39mcreate_study(direction\u001b[38;5;241m=\u001b[39m\u001b[38;5;124m\"\u001b[39m\u001b[38;5;124mminimize\u001b[39m\u001b[38;5;124m\"\u001b[39m)\n\u001b[1;32m----> 2\u001b[0m \u001b[43mstudy\u001b[49m\u001b[38;5;241;43m.\u001b[39;49m\u001b[43moptimize\u001b[49m\u001b[43m(\u001b[49m\u001b[43mobjective\u001b[49m\u001b[43m,\u001b[49m\u001b[43m \u001b[49m\u001b[43mn_trials\u001b[49m\u001b[38;5;241;43m=\u001b[39;49m\u001b[38;5;241;43m8\u001b[39;49m\u001b[43m)\u001b[49m\n",
      "File \u001b[1;32md:\\poetry_virtualenvs\\src-o1faXYQI-py3.12\\Lib\\site-packages\\optuna\\study\\study.py:475\u001b[0m, in \u001b[0;36mStudy.optimize\u001b[1;34m(self, func, n_trials, timeout, n_jobs, catch, callbacks, gc_after_trial, show_progress_bar)\u001b[0m\n\u001b[0;32m    373\u001b[0m \u001b[38;5;28;01mdef\u001b[39;00m\u001b[38;5;250m \u001b[39m\u001b[38;5;21moptimize\u001b[39m(\n\u001b[0;32m    374\u001b[0m     \u001b[38;5;28mself\u001b[39m,\n\u001b[0;32m    375\u001b[0m     func: ObjectiveFuncType,\n\u001b[1;32m   (...)\u001b[0m\n\u001b[0;32m    382\u001b[0m     show_progress_bar: \u001b[38;5;28mbool\u001b[39m \u001b[38;5;241m=\u001b[39m \u001b[38;5;28;01mFalse\u001b[39;00m,\n\u001b[0;32m    383\u001b[0m ) \u001b[38;5;241m-\u001b[39m\u001b[38;5;241m>\u001b[39m \u001b[38;5;28;01mNone\u001b[39;00m:\n\u001b[0;32m    384\u001b[0m \u001b[38;5;250m    \u001b[39m\u001b[38;5;124;03m\"\"\"Optimize an objective function.\u001b[39;00m\n\u001b[0;32m    385\u001b[0m \n\u001b[0;32m    386\u001b[0m \u001b[38;5;124;03m    Optimization is done by choosing a suitable set of hyperparameter values from a given\u001b[39;00m\n\u001b[1;32m   (...)\u001b[0m\n\u001b[0;32m    473\u001b[0m \u001b[38;5;124;03m            If nested invocation of this method occurs.\u001b[39;00m\n\u001b[0;32m    474\u001b[0m \u001b[38;5;124;03m    \"\"\"\u001b[39;00m\n\u001b[1;32m--> 475\u001b[0m     \u001b[43m_optimize\u001b[49m\u001b[43m(\u001b[49m\n\u001b[0;32m    476\u001b[0m \u001b[43m        \u001b[49m\u001b[43mstudy\u001b[49m\u001b[38;5;241;43m=\u001b[39;49m\u001b[38;5;28;43mself\u001b[39;49m\u001b[43m,\u001b[49m\n\u001b[0;32m    477\u001b[0m \u001b[43m        \u001b[49m\u001b[43mfunc\u001b[49m\u001b[38;5;241;43m=\u001b[39;49m\u001b[43mfunc\u001b[49m\u001b[43m,\u001b[49m\n\u001b[0;32m    478\u001b[0m \u001b[43m        \u001b[49m\u001b[43mn_trials\u001b[49m\u001b[38;5;241;43m=\u001b[39;49m\u001b[43mn_trials\u001b[49m\u001b[43m,\u001b[49m\n\u001b[0;32m    479\u001b[0m \u001b[43m        \u001b[49m\u001b[43mtimeout\u001b[49m\u001b[38;5;241;43m=\u001b[39;49m\u001b[43mtimeout\u001b[49m\u001b[43m,\u001b[49m\n\u001b[0;32m    480\u001b[0m \u001b[43m        \u001b[49m\u001b[43mn_jobs\u001b[49m\u001b[38;5;241;43m=\u001b[39;49m\u001b[43mn_jobs\u001b[49m\u001b[43m,\u001b[49m\n\u001b[0;32m    481\u001b[0m \u001b[43m        \u001b[49m\u001b[43mcatch\u001b[49m\u001b[38;5;241;43m=\u001b[39;49m\u001b[38;5;28;43mtuple\u001b[39;49m\u001b[43m(\u001b[49m\u001b[43mcatch\u001b[49m\u001b[43m)\u001b[49m\u001b[43m \u001b[49m\u001b[38;5;28;43;01mif\u001b[39;49;00m\u001b[43m \u001b[49m\u001b[38;5;28;43misinstance\u001b[39;49m\u001b[43m(\u001b[49m\u001b[43mcatch\u001b[49m\u001b[43m,\u001b[49m\u001b[43m \u001b[49m\u001b[43mIterable\u001b[49m\u001b[43m)\u001b[49m\u001b[43m \u001b[49m\u001b[38;5;28;43;01melse\u001b[39;49;00m\u001b[43m \u001b[49m\u001b[43m(\u001b[49m\u001b[43mcatch\u001b[49m\u001b[43m,\u001b[49m\u001b[43m)\u001b[49m\u001b[43m,\u001b[49m\n\u001b[0;32m    482\u001b[0m \u001b[43m        \u001b[49m\u001b[43mcallbacks\u001b[49m\u001b[38;5;241;43m=\u001b[39;49m\u001b[43mcallbacks\u001b[49m\u001b[43m,\u001b[49m\n\u001b[0;32m    483\u001b[0m \u001b[43m        \u001b[49m\u001b[43mgc_after_trial\u001b[49m\u001b[38;5;241;43m=\u001b[39;49m\u001b[43mgc_after_trial\u001b[49m\u001b[43m,\u001b[49m\n\u001b[0;32m    484\u001b[0m \u001b[43m        \u001b[49m\u001b[43mshow_progress_bar\u001b[49m\u001b[38;5;241;43m=\u001b[39;49m\u001b[43mshow_progress_bar\u001b[49m\u001b[43m,\u001b[49m\n\u001b[0;32m    485\u001b[0m \u001b[43m    \u001b[49m\u001b[43m)\u001b[49m\n",
      "File \u001b[1;32md:\\poetry_virtualenvs\\src-o1faXYQI-py3.12\\Lib\\site-packages\\optuna\\study\\_optimize.py:63\u001b[0m, in \u001b[0;36m_optimize\u001b[1;34m(study, func, n_trials, timeout, n_jobs, catch, callbacks, gc_after_trial, show_progress_bar)\u001b[0m\n\u001b[0;32m     61\u001b[0m \u001b[38;5;28;01mtry\u001b[39;00m:\n\u001b[0;32m     62\u001b[0m     \u001b[38;5;28;01mif\u001b[39;00m n_jobs \u001b[38;5;241m==\u001b[39m \u001b[38;5;241m1\u001b[39m:\n\u001b[1;32m---> 63\u001b[0m         \u001b[43m_optimize_sequential\u001b[49m\u001b[43m(\u001b[49m\n\u001b[0;32m     64\u001b[0m \u001b[43m            \u001b[49m\u001b[43mstudy\u001b[49m\u001b[43m,\u001b[49m\n\u001b[0;32m     65\u001b[0m \u001b[43m            \u001b[49m\u001b[43mfunc\u001b[49m\u001b[43m,\u001b[49m\n\u001b[0;32m     66\u001b[0m \u001b[43m            \u001b[49m\u001b[43mn_trials\u001b[49m\u001b[43m,\u001b[49m\n\u001b[0;32m     67\u001b[0m \u001b[43m            \u001b[49m\u001b[43mtimeout\u001b[49m\u001b[43m,\u001b[49m\n\u001b[0;32m     68\u001b[0m \u001b[43m            \u001b[49m\u001b[43mcatch\u001b[49m\u001b[43m,\u001b[49m\n\u001b[0;32m     69\u001b[0m \u001b[43m            \u001b[49m\u001b[43mcallbacks\u001b[49m\u001b[43m,\u001b[49m\n\u001b[0;32m     70\u001b[0m \u001b[43m            \u001b[49m\u001b[43mgc_after_trial\u001b[49m\u001b[43m,\u001b[49m\n\u001b[0;32m     71\u001b[0m \u001b[43m            \u001b[49m\u001b[43mreseed_sampler_rng\u001b[49m\u001b[38;5;241;43m=\u001b[39;49m\u001b[38;5;28;43;01mFalse\u001b[39;49;00m\u001b[43m,\u001b[49m\n\u001b[0;32m     72\u001b[0m \u001b[43m            \u001b[49m\u001b[43mtime_start\u001b[49m\u001b[38;5;241;43m=\u001b[39;49m\u001b[38;5;28;43;01mNone\u001b[39;49;00m\u001b[43m,\u001b[49m\n\u001b[0;32m     73\u001b[0m \u001b[43m            \u001b[49m\u001b[43mprogress_bar\u001b[49m\u001b[38;5;241;43m=\u001b[39;49m\u001b[43mprogress_bar\u001b[49m\u001b[43m,\u001b[49m\n\u001b[0;32m     74\u001b[0m \u001b[43m        \u001b[49m\u001b[43m)\u001b[49m\n\u001b[0;32m     75\u001b[0m     \u001b[38;5;28;01melse\u001b[39;00m:\n\u001b[0;32m     76\u001b[0m         \u001b[38;5;28;01mif\u001b[39;00m n_jobs \u001b[38;5;241m==\u001b[39m \u001b[38;5;241m-\u001b[39m\u001b[38;5;241m1\u001b[39m:\n",
      "File \u001b[1;32md:\\poetry_virtualenvs\\src-o1faXYQI-py3.12\\Lib\\site-packages\\optuna\\study\\_optimize.py:160\u001b[0m, in \u001b[0;36m_optimize_sequential\u001b[1;34m(study, func, n_trials, timeout, catch, callbacks, gc_after_trial, reseed_sampler_rng, time_start, progress_bar)\u001b[0m\n\u001b[0;32m    157\u001b[0m         \u001b[38;5;28;01mbreak\u001b[39;00m\n\u001b[0;32m    159\u001b[0m \u001b[38;5;28;01mtry\u001b[39;00m:\n\u001b[1;32m--> 160\u001b[0m     frozen_trial \u001b[38;5;241m=\u001b[39m \u001b[43m_run_trial\u001b[49m\u001b[43m(\u001b[49m\u001b[43mstudy\u001b[49m\u001b[43m,\u001b[49m\u001b[43m \u001b[49m\u001b[43mfunc\u001b[49m\u001b[43m,\u001b[49m\u001b[43m \u001b[49m\u001b[43mcatch\u001b[49m\u001b[43m)\u001b[49m\n\u001b[0;32m    161\u001b[0m \u001b[38;5;28;01mfinally\u001b[39;00m:\n\u001b[0;32m    162\u001b[0m     \u001b[38;5;66;03m# The following line mitigates memory problems that can be occurred in some\u001b[39;00m\n\u001b[0;32m    163\u001b[0m     \u001b[38;5;66;03m# environments (e.g., services that use computing containers such as GitHub Actions).\u001b[39;00m\n\u001b[0;32m    164\u001b[0m     \u001b[38;5;66;03m# Please refer to the following PR for further details:\u001b[39;00m\n\u001b[0;32m    165\u001b[0m     \u001b[38;5;66;03m# https://github.com/optuna/optuna/pull/325.\u001b[39;00m\n\u001b[0;32m    166\u001b[0m     \u001b[38;5;28;01mif\u001b[39;00m gc_after_trial:\n",
      "File \u001b[1;32md:\\poetry_virtualenvs\\src-o1faXYQI-py3.12\\Lib\\site-packages\\optuna\\study\\_optimize.py:248\u001b[0m, in \u001b[0;36m_run_trial\u001b[1;34m(study, func, catch)\u001b[0m\n\u001b[0;32m    241\u001b[0m         \u001b[38;5;28;01massert\u001b[39;00m \u001b[38;5;28;01mFalse\u001b[39;00m, \u001b[38;5;124m\"\u001b[39m\u001b[38;5;124mShould not reach.\u001b[39m\u001b[38;5;124m\"\u001b[39m\n\u001b[0;32m    243\u001b[0m \u001b[38;5;28;01mif\u001b[39;00m (\n\u001b[0;32m    244\u001b[0m     frozen_trial\u001b[38;5;241m.\u001b[39mstate \u001b[38;5;241m==\u001b[39m TrialState\u001b[38;5;241m.\u001b[39mFAIL\n\u001b[0;32m    245\u001b[0m     \u001b[38;5;129;01mand\u001b[39;00m func_err \u001b[38;5;129;01mis\u001b[39;00m \u001b[38;5;129;01mnot\u001b[39;00m \u001b[38;5;28;01mNone\u001b[39;00m\n\u001b[0;32m    246\u001b[0m     \u001b[38;5;129;01mand\u001b[39;00m \u001b[38;5;129;01mnot\u001b[39;00m \u001b[38;5;28misinstance\u001b[39m(func_err, catch)\n\u001b[0;32m    247\u001b[0m ):\n\u001b[1;32m--> 248\u001b[0m     \u001b[38;5;28;01mraise\u001b[39;00m func_err\n\u001b[0;32m    249\u001b[0m \u001b[38;5;28;01mreturn\u001b[39;00m frozen_trial\n",
      "File \u001b[1;32md:\\poetry_virtualenvs\\src-o1faXYQI-py3.12\\Lib\\site-packages\\optuna\\study\\_optimize.py:197\u001b[0m, in \u001b[0;36m_run_trial\u001b[1;34m(study, func, catch)\u001b[0m\n\u001b[0;32m    195\u001b[0m \u001b[38;5;28;01mwith\u001b[39;00m get_heartbeat_thread(trial\u001b[38;5;241m.\u001b[39m_trial_id, study\u001b[38;5;241m.\u001b[39m_storage):\n\u001b[0;32m    196\u001b[0m     \u001b[38;5;28;01mtry\u001b[39;00m:\n\u001b[1;32m--> 197\u001b[0m         value_or_values \u001b[38;5;241m=\u001b[39m \u001b[43mfunc\u001b[49m\u001b[43m(\u001b[49m\u001b[43mtrial\u001b[49m\u001b[43m)\u001b[49m\n\u001b[0;32m    198\u001b[0m     \u001b[38;5;28;01mexcept\u001b[39;00m exceptions\u001b[38;5;241m.\u001b[39mTrialPruned \u001b[38;5;28;01mas\u001b[39;00m e:\n\u001b[0;32m    199\u001b[0m         \u001b[38;5;66;03m# TODO(mamu): Handle multi-objective cases.\u001b[39;00m\n\u001b[0;32m    200\u001b[0m         state \u001b[38;5;241m=\u001b[39m TrialState\u001b[38;5;241m.\u001b[39mPRUNED\n",
      "Cell \u001b[1;32mIn[28], line 38\u001b[0m, in \u001b[0;36mobjective\u001b[1;34m(trial)\u001b[0m\n\u001b[0;32m     35\u001b[0m \u001b[38;5;66;03m#print(X_train_.dtypes)\u001b[39;00m\n\u001b[0;32m     36\u001b[0m \u001b[38;5;66;03m# train the model\u001b[39;00m\n\u001b[0;32m     37\u001b[0m pipeline \u001b[38;5;241m=\u001b[39m get_pipeline(\u001b[38;5;241m*\u001b[39m\u001b[38;5;241m*\u001b[39mhyperparams)\n\u001b[1;32m---> 38\u001b[0m \u001b[43mpipeline\u001b[49m\u001b[38;5;241;43m.\u001b[39;49m\u001b[43mfit\u001b[49m\u001b[43m(\u001b[49m\u001b[43mX_train_\u001b[49m\u001b[43m,\u001b[49m\u001b[43m \u001b[49m\u001b[43my_train_\u001b[49m\u001b[43m)\u001b[49m\n\u001b[0;32m     40\u001b[0m \u001b[38;5;66;03m# evaluate the model\u001b[39;00m\n\u001b[0;32m     41\u001b[0m y_pred \u001b[38;5;241m=\u001b[39m pipeline\u001b[38;5;241m.\u001b[39mpredict(X_val_)\n",
      "File \u001b[1;32md:\\poetry_virtualenvs\\src-o1faXYQI-py3.12\\Lib\\site-packages\\sklearn\\base.py:1473\u001b[0m, in \u001b[0;36m_fit_context.<locals>.decorator.<locals>.wrapper\u001b[1;34m(estimator, *args, **kwargs)\u001b[0m\n\u001b[0;32m   1466\u001b[0m     estimator\u001b[38;5;241m.\u001b[39m_validate_params()\n\u001b[0;32m   1468\u001b[0m \u001b[38;5;28;01mwith\u001b[39;00m config_context(\n\u001b[0;32m   1469\u001b[0m     skip_parameter_validation\u001b[38;5;241m=\u001b[39m(\n\u001b[0;32m   1470\u001b[0m         prefer_skip_nested_validation \u001b[38;5;129;01mor\u001b[39;00m global_skip_validation\n\u001b[0;32m   1471\u001b[0m     )\n\u001b[0;32m   1472\u001b[0m ):\n\u001b[1;32m-> 1473\u001b[0m     \u001b[38;5;28;01mreturn\u001b[39;00m \u001b[43mfit_method\u001b[49m\u001b[43m(\u001b[49m\u001b[43mestimator\u001b[49m\u001b[43m,\u001b[49m\u001b[43m \u001b[49m\u001b[38;5;241;43m*\u001b[39;49m\u001b[43margs\u001b[49m\u001b[43m,\u001b[49m\u001b[43m \u001b[49m\u001b[38;5;241;43m*\u001b[39;49m\u001b[38;5;241;43m*\u001b[39;49m\u001b[43mkwargs\u001b[49m\u001b[43m)\u001b[49m\n",
      "File \u001b[1;32md:\\poetry_virtualenvs\\src-o1faXYQI-py3.12\\Lib\\site-packages\\sklearn\\pipeline.py:473\u001b[0m, in \u001b[0;36mPipeline.fit\u001b[1;34m(self, X, y, **params)\u001b[0m\n\u001b[0;32m    471\u001b[0m     \u001b[38;5;28;01mif\u001b[39;00m \u001b[38;5;28mself\u001b[39m\u001b[38;5;241m.\u001b[39m_final_estimator \u001b[38;5;241m!=\u001b[39m \u001b[38;5;124m\"\u001b[39m\u001b[38;5;124mpassthrough\u001b[39m\u001b[38;5;124m\"\u001b[39m:\n\u001b[0;32m    472\u001b[0m         last_step_params \u001b[38;5;241m=\u001b[39m routed_params[\u001b[38;5;28mself\u001b[39m\u001b[38;5;241m.\u001b[39msteps[\u001b[38;5;241m-\u001b[39m\u001b[38;5;241m1\u001b[39m][\u001b[38;5;241m0\u001b[39m]]\n\u001b[1;32m--> 473\u001b[0m         \u001b[38;5;28;43mself\u001b[39;49m\u001b[38;5;241;43m.\u001b[39;49m\u001b[43m_final_estimator\u001b[49m\u001b[38;5;241;43m.\u001b[39;49m\u001b[43mfit\u001b[49m\u001b[43m(\u001b[49m\u001b[43mXt\u001b[49m\u001b[43m,\u001b[49m\u001b[43m \u001b[49m\u001b[43my\u001b[49m\u001b[43m,\u001b[49m\u001b[43m \u001b[49m\u001b[38;5;241;43m*\u001b[39;49m\u001b[38;5;241;43m*\u001b[39;49m\u001b[43mlast_step_params\u001b[49m\u001b[43m[\u001b[49m\u001b[38;5;124;43m\"\u001b[39;49m\u001b[38;5;124;43mfit\u001b[39;49m\u001b[38;5;124;43m\"\u001b[39;49m\u001b[43m]\u001b[49m\u001b[43m)\u001b[49m\n\u001b[0;32m    475\u001b[0m \u001b[38;5;28;01mreturn\u001b[39;00m \u001b[38;5;28mself\u001b[39m\n",
      "File \u001b[1;32md:\\poetry_virtualenvs\\src-o1faXYQI-py3.12\\Lib\\site-packages\\lightgbm\\sklearn.py:1189\u001b[0m, in \u001b[0;36mLGBMRegressor.fit\u001b[1;34m(self, X, y, sample_weight, init_score, eval_set, eval_names, eval_sample_weight, eval_init_score, eval_metric, feature_name, categorical_feature, callbacks, init_model)\u001b[0m\n\u001b[0;32m   1172\u001b[0m \u001b[38;5;28;01mdef\u001b[39;00m\u001b[38;5;250m \u001b[39m\u001b[38;5;21mfit\u001b[39m(  \u001b[38;5;66;03m# type: ignore[override]\u001b[39;00m\n\u001b[0;32m   1173\u001b[0m     \u001b[38;5;28mself\u001b[39m,\n\u001b[0;32m   1174\u001b[0m     X: _LGBM_ScikitMatrixLike,\n\u001b[1;32m   (...)\u001b[0m\n\u001b[0;32m   1186\u001b[0m     init_model: Optional[Union[\u001b[38;5;28mstr\u001b[39m, Path, Booster, LGBMModel]] \u001b[38;5;241m=\u001b[39m \u001b[38;5;28;01mNone\u001b[39;00m,\n\u001b[0;32m   1187\u001b[0m ) \u001b[38;5;241m-\u001b[39m\u001b[38;5;241m>\u001b[39m \u001b[38;5;124m\"\u001b[39m\u001b[38;5;124mLGBMRegressor\u001b[39m\u001b[38;5;124m\"\u001b[39m:\n\u001b[0;32m   1188\u001b[0m \u001b[38;5;250m    \u001b[39m\u001b[38;5;124;03m\"\"\"Docstring is inherited from the LGBMModel.\"\"\"\u001b[39;00m\n\u001b[1;32m-> 1189\u001b[0m     \u001b[38;5;28;43msuper\u001b[39;49m\u001b[43m(\u001b[49m\u001b[43m)\u001b[49m\u001b[38;5;241;43m.\u001b[39;49m\u001b[43mfit\u001b[49m\u001b[43m(\u001b[49m\n\u001b[0;32m   1190\u001b[0m \u001b[43m        \u001b[49m\u001b[43mX\u001b[49m\u001b[43m,\u001b[49m\n\u001b[0;32m   1191\u001b[0m \u001b[43m        \u001b[49m\u001b[43my\u001b[49m\u001b[43m,\u001b[49m\n\u001b[0;32m   1192\u001b[0m \u001b[43m        \u001b[49m\u001b[43msample_weight\u001b[49m\u001b[38;5;241;43m=\u001b[39;49m\u001b[43msample_weight\u001b[49m\u001b[43m,\u001b[49m\n\u001b[0;32m   1193\u001b[0m \u001b[43m        \u001b[49m\u001b[43minit_score\u001b[49m\u001b[38;5;241;43m=\u001b[39;49m\u001b[43minit_score\u001b[49m\u001b[43m,\u001b[49m\n\u001b[0;32m   1194\u001b[0m \u001b[43m        \u001b[49m\u001b[43meval_set\u001b[49m\u001b[38;5;241;43m=\u001b[39;49m\u001b[43meval_set\u001b[49m\u001b[43m,\u001b[49m\n\u001b[0;32m   1195\u001b[0m \u001b[43m        \u001b[49m\u001b[43meval_names\u001b[49m\u001b[38;5;241;43m=\u001b[39;49m\u001b[43meval_names\u001b[49m\u001b[43m,\u001b[49m\n\u001b[0;32m   1196\u001b[0m \u001b[43m        \u001b[49m\u001b[43meval_sample_weight\u001b[49m\u001b[38;5;241;43m=\u001b[39;49m\u001b[43meval_sample_weight\u001b[49m\u001b[43m,\u001b[49m\n\u001b[0;32m   1197\u001b[0m \u001b[43m        \u001b[49m\u001b[43meval_init_score\u001b[49m\u001b[38;5;241;43m=\u001b[39;49m\u001b[43meval_init_score\u001b[49m\u001b[43m,\u001b[49m\n\u001b[0;32m   1198\u001b[0m \u001b[43m        \u001b[49m\u001b[43meval_metric\u001b[49m\u001b[38;5;241;43m=\u001b[39;49m\u001b[43meval_metric\u001b[49m\u001b[43m,\u001b[49m\n\u001b[0;32m   1199\u001b[0m \u001b[43m        \u001b[49m\u001b[43mfeature_name\u001b[49m\u001b[38;5;241;43m=\u001b[39;49m\u001b[43mfeature_name\u001b[49m\u001b[43m,\u001b[49m\n\u001b[0;32m   1200\u001b[0m \u001b[43m        \u001b[49m\u001b[43mcategorical_feature\u001b[49m\u001b[38;5;241;43m=\u001b[39;49m\u001b[43mcategorical_feature\u001b[49m\u001b[43m,\u001b[49m\n\u001b[0;32m   1201\u001b[0m \u001b[43m        \u001b[49m\u001b[43mcallbacks\u001b[49m\u001b[38;5;241;43m=\u001b[39;49m\u001b[43mcallbacks\u001b[49m\u001b[43m,\u001b[49m\n\u001b[0;32m   1202\u001b[0m \u001b[43m        \u001b[49m\u001b[43minit_model\u001b[49m\u001b[38;5;241;43m=\u001b[39;49m\u001b[43minit_model\u001b[49m\u001b[43m,\u001b[49m\n\u001b[0;32m   1203\u001b[0m \u001b[43m    \u001b[49m\u001b[43m)\u001b[49m\n\u001b[0;32m   1204\u001b[0m     \u001b[38;5;28;01mreturn\u001b[39;00m \u001b[38;5;28mself\u001b[39m\n",
      "File \u001b[1;32md:\\poetry_virtualenvs\\src-o1faXYQI-py3.12\\Lib\\site-packages\\lightgbm\\sklearn.py:955\u001b[0m, in \u001b[0;36mLGBMModel.fit\u001b[1;34m(self, X, y, sample_weight, init_score, group, eval_set, eval_names, eval_sample_weight, eval_class_weight, eval_init_score, eval_group, eval_metric, feature_name, categorical_feature, callbacks, init_model)\u001b[0m\n\u001b[0;32m    952\u001b[0m evals_result: _EvalResultDict \u001b[38;5;241m=\u001b[39m {}\n\u001b[0;32m    953\u001b[0m callbacks\u001b[38;5;241m.\u001b[39mappend(record_evaluation(evals_result))\n\u001b[1;32m--> 955\u001b[0m \u001b[38;5;28mself\u001b[39m\u001b[38;5;241m.\u001b[39m_Booster \u001b[38;5;241m=\u001b[39m \u001b[43mtrain\u001b[49m\u001b[43m(\u001b[49m\n\u001b[0;32m    956\u001b[0m \u001b[43m    \u001b[49m\u001b[43mparams\u001b[49m\u001b[38;5;241;43m=\u001b[39;49m\u001b[43mparams\u001b[49m\u001b[43m,\u001b[49m\n\u001b[0;32m    957\u001b[0m \u001b[43m    \u001b[49m\u001b[43mtrain_set\u001b[49m\u001b[38;5;241;43m=\u001b[39;49m\u001b[43mtrain_set\u001b[49m\u001b[43m,\u001b[49m\n\u001b[0;32m    958\u001b[0m \u001b[43m    \u001b[49m\u001b[43mnum_boost_round\u001b[49m\u001b[38;5;241;43m=\u001b[39;49m\u001b[38;5;28;43mself\u001b[39;49m\u001b[38;5;241;43m.\u001b[39;49m\u001b[43mn_estimators\u001b[49m\u001b[43m,\u001b[49m\n\u001b[0;32m    959\u001b[0m \u001b[43m    \u001b[49m\u001b[43mvalid_sets\u001b[49m\u001b[38;5;241;43m=\u001b[39;49m\u001b[43mvalid_sets\u001b[49m\u001b[43m,\u001b[49m\n\u001b[0;32m    960\u001b[0m \u001b[43m    \u001b[49m\u001b[43mvalid_names\u001b[49m\u001b[38;5;241;43m=\u001b[39;49m\u001b[43meval_names\u001b[49m\u001b[43m,\u001b[49m\n\u001b[0;32m    961\u001b[0m \u001b[43m    \u001b[49m\u001b[43mfeval\u001b[49m\u001b[38;5;241;43m=\u001b[39;49m\u001b[43meval_metrics_callable\u001b[49m\u001b[43m,\u001b[49m\u001b[43m  \u001b[49m\u001b[38;5;66;43;03m# type: ignore[arg-type]\u001b[39;49;00m\n\u001b[0;32m    962\u001b[0m \u001b[43m    \u001b[49m\u001b[43minit_model\u001b[49m\u001b[38;5;241;43m=\u001b[39;49m\u001b[43minit_model\u001b[49m\u001b[43m,\u001b[49m\n\u001b[0;32m    963\u001b[0m \u001b[43m    \u001b[49m\u001b[43mcallbacks\u001b[49m\u001b[38;5;241;43m=\u001b[39;49m\u001b[43mcallbacks\u001b[49m\u001b[43m,\u001b[49m\n\u001b[0;32m    964\u001b[0m \u001b[43m\u001b[49m\u001b[43m)\u001b[49m\n\u001b[0;32m    966\u001b[0m \u001b[38;5;28mself\u001b[39m\u001b[38;5;241m.\u001b[39m_evals_result \u001b[38;5;241m=\u001b[39m evals_result\n\u001b[0;32m    967\u001b[0m \u001b[38;5;28mself\u001b[39m\u001b[38;5;241m.\u001b[39m_best_iteration \u001b[38;5;241m=\u001b[39m \u001b[38;5;28mself\u001b[39m\u001b[38;5;241m.\u001b[39m_Booster\u001b[38;5;241m.\u001b[39mbest_iteration\n",
      "File \u001b[1;32md:\\poetry_virtualenvs\\src-o1faXYQI-py3.12\\Lib\\site-packages\\lightgbm\\engine.py:307\u001b[0m, in \u001b[0;36mtrain\u001b[1;34m(params, train_set, num_boost_round, valid_sets, valid_names, feval, init_model, feature_name, categorical_feature, keep_training_booster, callbacks)\u001b[0m\n\u001b[0;32m    295\u001b[0m \u001b[38;5;28;01mfor\u001b[39;00m cb \u001b[38;5;129;01min\u001b[39;00m callbacks_before_iter:\n\u001b[0;32m    296\u001b[0m     cb(\n\u001b[0;32m    297\u001b[0m         callback\u001b[38;5;241m.\u001b[39mCallbackEnv(\n\u001b[0;32m    298\u001b[0m             model\u001b[38;5;241m=\u001b[39mbooster,\n\u001b[1;32m   (...)\u001b[0m\n\u001b[0;32m    304\u001b[0m         )\n\u001b[0;32m    305\u001b[0m     )\n\u001b[1;32m--> 307\u001b[0m \u001b[43mbooster\u001b[49m\u001b[38;5;241;43m.\u001b[39;49m\u001b[43mupdate\u001b[49m\u001b[43m(\u001b[49m\u001b[43mfobj\u001b[49m\u001b[38;5;241;43m=\u001b[39;49m\u001b[43mfobj\u001b[49m\u001b[43m)\u001b[49m\n\u001b[0;32m    309\u001b[0m evaluation_result_list: List[_LGBM_BoosterEvalMethodResultType] \u001b[38;5;241m=\u001b[39m []\n\u001b[0;32m    310\u001b[0m \u001b[38;5;66;03m# check evaluation result.\u001b[39;00m\n",
      "File \u001b[1;32md:\\poetry_virtualenvs\\src-o1faXYQI-py3.12\\Lib\\site-packages\\lightgbm\\basic.py:4136\u001b[0m, in \u001b[0;36mBooster.update\u001b[1;34m(self, train_set, fobj)\u001b[0m\n\u001b[0;32m   4133\u001b[0m \u001b[38;5;28;01mif\u001b[39;00m \u001b[38;5;28mself\u001b[39m\u001b[38;5;241m.\u001b[39m__set_objective_to_none:\n\u001b[0;32m   4134\u001b[0m     \u001b[38;5;28;01mraise\u001b[39;00m LightGBMError(\u001b[38;5;124m\"\u001b[39m\u001b[38;5;124mCannot update due to null objective function.\u001b[39m\u001b[38;5;124m\"\u001b[39m)\n\u001b[0;32m   4135\u001b[0m _safe_call(\n\u001b[1;32m-> 4136\u001b[0m     \u001b[43m_LIB\u001b[49m\u001b[38;5;241;43m.\u001b[39;49m\u001b[43mLGBM_BoosterUpdateOneIter\u001b[49m\u001b[43m(\u001b[49m\n\u001b[0;32m   4137\u001b[0m \u001b[43m        \u001b[49m\u001b[38;5;28;43mself\u001b[39;49m\u001b[38;5;241;43m.\u001b[39;49m\u001b[43m_handle\u001b[49m\u001b[43m,\u001b[49m\n\u001b[0;32m   4138\u001b[0m \u001b[43m        \u001b[49m\u001b[43mctypes\u001b[49m\u001b[38;5;241;43m.\u001b[39;49m\u001b[43mbyref\u001b[49m\u001b[43m(\u001b[49m\u001b[43mis_finished\u001b[49m\u001b[43m)\u001b[49m\u001b[43m,\u001b[49m\n\u001b[0;32m   4139\u001b[0m \u001b[43m    \u001b[49m\u001b[43m)\u001b[49m\n\u001b[0;32m   4140\u001b[0m )\n\u001b[0;32m   4141\u001b[0m \u001b[38;5;28mself\u001b[39m\u001b[38;5;241m.\u001b[39m__is_predicted_cur_iter \u001b[38;5;241m=\u001b[39m [\u001b[38;5;28;01mFalse\u001b[39;00m \u001b[38;5;28;01mfor\u001b[39;00m _ \u001b[38;5;129;01min\u001b[39;00m \u001b[38;5;28mrange\u001b[39m(\u001b[38;5;28mself\u001b[39m\u001b[38;5;241m.\u001b[39m__num_dataset)]\n\u001b[0;32m   4142\u001b[0m \u001b[38;5;28;01mreturn\u001b[39;00m is_finished\u001b[38;5;241m.\u001b[39mvalue \u001b[38;5;241m==\u001b[39m \u001b[38;5;241m1\u001b[39m\n",
      "\u001b[1;31mKeyboardInterrupt\u001b[0m: "
     ]
    }
   ],
   "source": [
    "study = optuna.create_study(direction=\"minimize\")\n",
    "study.optimize(objective, n_trials=8)"
   ]
  },
  {
   "cell_type": "code",
   "execution_count": null,
   "metadata": {},
   "outputs": [
    {
     "name": "stdout",
     "output_type": "stream",
     "text": [
      "best_params={'num_leaves': 240, 'feature_fraction': 0.8542643833568271, 'bagging_fraction': 0.5402028804645826, 'min_child_samples': 20}\n"
     ]
    }
   ],
   "source": [
    "best_params = study.best_trial.params\n",
    "print(f'{best_params=}')"
   ]
  },
  {
   "cell_type": "code",
   "execution_count": 24,
   "metadata": {},
   "outputs": [],
   "source": [
    "pipeline = get_pipeline(**best_params)\n",
    "pipeline.fit(X_train, y_train);"
   ]
  },
  {
   "cell_type": "code",
   "execution_count": null,
   "metadata": {},
   "outputs": [
    {
     "name": "stdout",
     "output_type": "stream",
     "text": [
      "MAE is 5953.6442 and MAPE is: 76.6076\n"
     ]
    }
   ],
   "source": [
    "from src.component.model_info import evaluate_model\n",
    "predictions = pipeline.predict(X_test)\n",
    "test_results = evaluate_model(y_test, predictions)\n",
    "print(test_results)"
   ]
  },
  {
   "cell_type": "code",
   "execution_count": 33,
   "metadata": {},
   "outputs": [],
   "source": [
    "# Load the pipeline from the file\n",
    "import joblib\n",
    "from src.paths import MODELS_DIR\n",
    "loaded_pipeline = joblib.load(MODELS_DIR/'pipeline_model.pkl')"
   ]
  },
  {
   "cell_type": "code",
   "execution_count": null,
   "metadata": {},
   "outputs": [
    {
     "name": "stdout",
     "output_type": "stream",
     "text": [
      "MAE is 108.0006 and MAPE is: 0.0410\n"
     ]
    }
   ],
   "source": [
    "predictions=loaded_pipeline.predict(X_test)\n",
    "test_results = evaluate_model(y_test, predictions)\n",
    "print(test_results)"
   ]
  },
  {
   "cell_type": "code",
   "execution_count": 38,
   "metadata": {},
   "outputs": [
    {
     "data": {
      "application/vnd.plotly.v1+json": {
       "config": {
        "plotlyServerURL": "https://plot.ly"
       },
       "data": [
        {
         "hovertemplate": "x=%{x}<br>y=%{y}<extra></extra>",
         "legendgroup": "",
         "line": {
          "color": "#636efa",
          "dash": "solid"
         },
         "marker": {
          "symbol": "circle"
         },
         "mode": "lines+markers",
         "name": "",
         "orientation": "v",
         "showlegend": false,
         "type": "scatter",
         "x": [
          "2024-12-03T23:00:00+00:00",
          "2024-12-04T00:00:00+00:00",
          "2024-12-04T01:00:00+00:00",
          "2024-12-04T02:00:00+00:00",
          "2024-12-04T03:00:00+00:00",
          "2024-12-04T04:00:00+00:00",
          "2024-12-04T05:00:00+00:00",
          "2024-12-04T06:00:00+00:00",
          "2024-12-04T07:00:00+00:00",
          "2024-12-04T08:00:00+00:00",
          "2024-12-04T09:00:00+00:00",
          "2024-12-04T10:00:00+00:00",
          "2024-12-04T11:00:00+00:00",
          "2024-12-04T12:00:00+00:00",
          "2024-12-04T13:00:00+00:00",
          "2024-12-04T14:00:00+00:00",
          "2024-12-04T15:00:00+00:00",
          "2024-12-04T16:00:00+00:00",
          "2024-12-04T17:00:00+00:00",
          "2024-12-04T18:00:00+00:00",
          "2024-12-04T19:00:00+00:00",
          "2024-12-04T20:00:00+00:00",
          "2024-12-04T21:00:00+00:00",
          "2024-12-04T22:00:00+00:00",
          "2024-12-04T23:00:00+00:00",
          "2024-12-05T00:00:00+00:00",
          "2024-12-05T01:00:00+00:00",
          "2024-12-05T02:00:00+00:00",
          "2024-12-05T03:00:00+00:00",
          "2024-12-05T04:00:00+00:00",
          "2024-12-05T05:00:00+00:00",
          "2024-12-05T06:00:00+00:00",
          "2024-12-05T07:00:00+00:00",
          "2024-12-05T08:00:00+00:00",
          "2024-12-05T09:00:00+00:00",
          "2024-12-05T10:00:00+00:00",
          "2024-12-05T11:00:00+00:00",
          "2024-12-05T12:00:00+00:00",
          "2024-12-05T13:00:00+00:00",
          "2024-12-05T14:00:00+00:00",
          "2024-12-05T15:00:00+00:00",
          "2024-12-05T16:00:00+00:00",
          "2024-12-05T17:00:00+00:00",
          "2024-12-05T18:00:00+00:00",
          "2024-12-05T19:00:00+00:00",
          "2024-12-05T20:00:00+00:00",
          "2024-12-05T21:00:00+00:00",
          "2024-12-05T22:00:00+00:00",
          "2024-12-05T23:00:00+00:00",
          "2024-12-06T00:00:00+00:00",
          "2024-12-06T01:00:00+00:00",
          "2024-12-06T02:00:00+00:00",
          "2024-12-06T03:00:00+00:00",
          "2024-12-06T04:00:00+00:00",
          "2024-12-06T05:00:00+00:00",
          "2024-12-06T06:00:00+00:00",
          "2024-12-06T07:00:00+00:00",
          "2024-12-06T08:00:00+00:00",
          "2024-12-06T09:00:00+00:00",
          "2024-12-06T10:00:00+00:00",
          "2024-12-06T11:00:00+00:00",
          "2024-12-06T12:00:00+00:00",
          "2024-12-06T13:00:00+00:00",
          "2024-12-06T14:00:00+00:00",
          "2024-12-06T15:00:00+00:00",
          "2024-12-06T16:00:00+00:00",
          "2024-12-06T17:00:00+00:00",
          "2024-12-06T18:00:00+00:00",
          "2024-12-06T19:00:00+00:00",
          "2024-12-06T20:00:00+00:00",
          "2024-12-06T21:00:00+00:00",
          "2024-12-06T22:00:00+00:00",
          "2024-12-06T23:00:00+00:00",
          "2024-12-07T00:00:00+00:00",
          "2024-12-07T01:00:00+00:00",
          "2024-12-07T02:00:00+00:00",
          "2024-12-07T03:00:00+00:00",
          "2024-12-07T04:00:00+00:00",
          "2024-12-07T05:00:00+00:00",
          "2024-12-07T06:00:00+00:00",
          "2024-12-07T07:00:00+00:00",
          "2024-12-07T08:00:00+00:00",
          "2024-12-07T09:00:00+00:00",
          "2024-12-07T10:00:00+00:00",
          "2024-12-07T11:00:00+00:00",
          "2024-12-07T12:00:00+00:00",
          "2024-12-07T13:00:00+00:00",
          "2024-12-07T14:00:00+00:00",
          "2024-12-07T15:00:00+00:00",
          "2024-12-07T16:00:00+00:00",
          "2024-12-07T17:00:00+00:00",
          "2024-12-07T18:00:00+00:00",
          "2024-12-07T19:00:00+00:00",
          "2024-12-07T20:00:00+00:00",
          "2024-12-07T21:00:00+00:00",
          "2024-12-07T22:00:00+00:00",
          "2024-12-07T23:00:00+00:00",
          "2024-12-08T00:00:00+00:00",
          "2024-12-08T01:00:00+00:00",
          "2024-12-08T02:00:00+00:00",
          "2024-12-08T03:00:00+00:00",
          "2024-12-08T04:00:00+00:00",
          "2024-12-08T05:00:00+00:00",
          "2024-12-08T06:00:00+00:00",
          "2024-12-08T07:00:00+00:00",
          "2024-12-08T08:00:00+00:00",
          "2024-12-08T09:00:00+00:00",
          "2024-12-08T10:00:00+00:00",
          "2024-12-08T11:00:00+00:00",
          "2024-12-08T12:00:00+00:00",
          "2024-12-08T13:00:00+00:00",
          "2024-12-08T14:00:00+00:00",
          "2024-12-08T15:00:00+00:00",
          "2024-12-08T16:00:00+00:00",
          "2024-12-08T17:00:00+00:00",
          "2024-12-08T18:00:00+00:00",
          "2024-12-08T19:00:00+00:00",
          "2024-12-08T20:00:00+00:00",
          "2024-12-08T21:00:00+00:00",
          "2024-12-08T22:00:00+00:00",
          "2024-12-08T23:00:00+00:00",
          "2024-12-09T00:00:00+00:00",
          "2024-12-09T01:00:00+00:00",
          "2024-12-09T02:00:00+00:00",
          "2024-12-09T03:00:00+00:00",
          "2024-12-09T04:00:00+00:00",
          "2024-12-09T05:00:00+00:00",
          "2024-12-09T06:00:00+00:00",
          "2024-12-09T07:00:00+00:00",
          "2024-12-09T08:00:00+00:00",
          "2024-12-09T09:00:00+00:00",
          "2024-12-09T10:00:00+00:00",
          "2024-12-09T11:00:00+00:00",
          "2024-12-09T12:00:00+00:00",
          "2024-12-09T13:00:00+00:00",
          "2024-12-09T14:00:00+00:00",
          "2024-12-09T15:00:00+00:00",
          "2024-12-09T16:00:00+00:00",
          "2024-12-09T17:00:00+00:00",
          "2024-12-09T18:00:00+00:00",
          "2024-12-09T19:00:00+00:00",
          "2024-12-09T20:00:00+00:00",
          "2024-12-09T21:00:00+00:00",
          "2024-12-09T22:00:00+00:00",
          "2024-12-09T23:00:00+00:00",
          "2024-12-10T00:00:00+00:00",
          "2024-12-10T01:00:00+00:00",
          "2024-12-10T02:00:00+00:00",
          "2024-12-10T03:00:00+00:00",
          "2024-12-10T04:00:00+00:00",
          "2024-12-10T05:00:00+00:00",
          "2024-12-10T06:00:00+00:00",
          "2024-12-10T07:00:00+00:00",
          "2024-12-10T08:00:00+00:00",
          "2024-12-10T09:00:00+00:00",
          "2024-12-10T10:00:00+00:00",
          "2024-12-10T11:00:00+00:00",
          "2024-12-10T12:00:00+00:00",
          "2024-12-10T13:00:00+00:00",
          "2024-12-10T14:00:00+00:00",
          "2024-12-10T15:00:00+00:00",
          "2024-12-10T16:00:00+00:00",
          "2024-12-10T17:00:00+00:00",
          "2024-12-10T18:00:00+00:00",
          "2024-12-10T19:00:00+00:00",
          "2024-12-10T20:00:00+00:00",
          "2024-12-10T21:00:00+00:00",
          "2024-12-10T22:00:00+00:00",
          "2024-12-10T23:00:00+00:00",
          "2024-12-11T00:00:00+00:00",
          "2024-12-11T01:00:00+00:00",
          "2024-12-11T02:00:00+00:00",
          "2024-12-11T03:00:00+00:00",
          "2024-12-11T04:00:00+00:00",
          "2024-12-11T05:00:00+00:00",
          "2024-12-11T06:00:00+00:00",
          "2024-12-11T07:00:00+00:00",
          "2024-12-11T08:00:00+00:00",
          "2024-12-11T09:00:00+00:00",
          "2024-12-11T10:00:00+00:00",
          "2024-12-11T11:00:00+00:00",
          "2024-12-11T12:00:00+00:00",
          "2024-12-11T13:00:00+00:00",
          "2024-12-11T14:00:00+00:00",
          "2024-12-11T15:00:00+00:00",
          "2024-12-11T16:00:00+00:00",
          "2024-12-11T17:00:00+00:00",
          "2024-12-11T18:00:00+00:00",
          "2024-12-11T19:00:00+00:00",
          "2024-12-11T20:00:00+00:00",
          "2024-12-11T21:00:00+00:00",
          "2024-12-11T22:00:00+00:00",
          "2024-12-11T23:00:00+00:00",
          "2024-12-12T00:00:00+00:00",
          "2024-12-12T01:00:00+00:00",
          "2024-12-12T02:00:00+00:00",
          "2024-12-12T03:00:00+00:00",
          "2024-12-12T04:00:00+00:00",
          "2024-12-12T05:00:00+00:00",
          "2024-12-12T06:00:00+00:00",
          "2024-12-12T07:00:00+00:00",
          "2024-12-12T08:00:00+00:00",
          "2024-12-12T09:00:00+00:00",
          "2024-12-12T10:00:00+00:00",
          "2024-12-12T11:00:00+00:00",
          "2024-12-12T12:00:00+00:00",
          "2024-12-12T13:00:00+00:00",
          "2024-12-12T14:00:00+00:00",
          "2024-12-12T15:00:00+00:00",
          "2024-12-12T16:00:00+00:00",
          "2024-12-12T17:00:00+00:00",
          "2024-12-12T18:00:00+00:00",
          "2024-12-12T19:00:00+00:00",
          "2024-12-12T20:00:00+00:00",
          "2024-12-12T21:00:00+00:00",
          "2024-12-12T22:00:00+00:00",
          "2024-12-12T23:00:00+00:00",
          "2024-12-13T00:00:00+00:00",
          "2024-12-13T01:00:00+00:00",
          "2024-12-13T02:00:00+00:00",
          "2024-12-13T03:00:00+00:00",
          "2024-12-13T04:00:00+00:00",
          "2024-12-13T05:00:00+00:00",
          "2024-12-13T06:00:00+00:00",
          "2024-12-13T07:00:00+00:00",
          "2024-12-13T08:00:00+00:00",
          "2024-12-13T09:00:00+00:00",
          "2024-12-13T10:00:00+00:00",
          "2024-12-13T11:00:00+00:00",
          "2024-12-13T12:00:00+00:00",
          "2024-12-13T13:00:00+00:00",
          "2024-12-13T14:00:00+00:00",
          "2024-12-13T15:00:00+00:00",
          "2024-12-13T16:00:00+00:00",
          "2024-12-13T17:00:00+00:00",
          "2024-12-13T18:00:00+00:00",
          "2024-12-13T19:00:00+00:00",
          "2024-12-13T20:00:00+00:00",
          "2024-12-13T21:00:00+00:00",
          "2024-12-13T22:00:00+00:00",
          "2024-12-13T23:00:00+00:00",
          "2024-12-14T00:00:00+00:00",
          "2024-12-14T01:00:00+00:00",
          "2024-12-14T02:00:00+00:00",
          "2024-12-14T03:00:00+00:00",
          "2024-12-14T04:00:00+00:00",
          "2024-12-14T05:00:00+00:00",
          "2024-12-14T06:00:00+00:00",
          "2024-12-14T07:00:00+00:00",
          "2024-12-14T08:00:00+00:00",
          "2024-12-14T09:00:00+00:00",
          "2024-12-14T10:00:00+00:00",
          "2024-12-14T11:00:00+00:00",
          "2024-12-14T12:00:00+00:00",
          "2024-12-14T13:00:00+00:00",
          "2024-12-14T14:00:00+00:00",
          "2024-12-14T15:00:00+00:00",
          "2024-12-14T16:00:00+00:00",
          "2024-12-14T17:00:00+00:00",
          "2024-12-14T18:00:00+00:00",
          "2024-12-14T19:00:00+00:00",
          "2024-12-14T20:00:00+00:00",
          "2024-12-14T21:00:00+00:00",
          "2024-12-14T22:00:00+00:00",
          "2024-12-14T23:00:00+00:00",
          "2024-12-15T00:00:00+00:00",
          "2024-12-15T01:00:00+00:00",
          "2024-12-15T02:00:00+00:00",
          "2024-12-15T03:00:00+00:00",
          "2024-12-15T04:00:00+00:00",
          "2024-12-15T05:00:00+00:00",
          "2024-12-15T06:00:00+00:00",
          "2024-12-15T07:00:00+00:00",
          "2024-12-15T08:00:00+00:00",
          "2024-12-15T09:00:00+00:00",
          "2024-12-15T10:00:00+00:00",
          "2024-12-15T11:00:00+00:00",
          "2024-12-15T12:00:00+00:00",
          "2024-12-15T13:00:00+00:00",
          "2024-12-15T14:00:00+00:00",
          "2024-12-15T15:00:00+00:00",
          "2024-12-15T16:00:00+00:00",
          "2024-12-15T17:00:00+00:00",
          "2024-12-15T18:00:00+00:00",
          "2024-12-15T19:00:00+00:00",
          "2024-12-15T20:00:00+00:00",
          "2024-12-15T21:00:00+00:00",
          "2024-12-15T22:00:00+00:00",
          "2024-12-15T23:00:00+00:00",
          "2024-12-16T00:00:00+00:00",
          "2024-12-16T01:00:00+00:00",
          "2024-12-16T02:00:00+00:00",
          "2024-12-16T03:00:00+00:00",
          "2024-12-16T04:00:00+00:00",
          "2024-12-16T05:00:00+00:00",
          "2024-12-16T06:00:00+00:00",
          "2024-12-16T07:00:00+00:00",
          "2024-12-16T08:00:00+00:00",
          "2024-12-16T09:00:00+00:00",
          "2024-12-16T10:00:00+00:00",
          "2024-12-16T11:00:00+00:00",
          "2024-12-16T12:00:00+00:00",
          "2024-12-16T13:00:00+00:00",
          "2024-12-16T14:00:00+00:00",
          "2024-12-16T15:00:00+00:00",
          "2024-12-16T16:00:00+00:00",
          "2024-12-16T17:00:00+00:00",
          "2024-12-16T18:00:00+00:00",
          "2024-12-16T19:00:00+00:00",
          "2024-12-16T20:00:00+00:00",
          "2024-12-16T21:00:00+00:00",
          "2024-12-16T22:00:00+00:00",
          "2024-12-16T23:00:00+00:00",
          "2024-12-17T00:00:00+00:00",
          "2024-12-17T01:00:00+00:00",
          "2024-12-17T02:00:00+00:00",
          "2024-12-17T03:00:00+00:00",
          "2024-12-17T04:00:00+00:00",
          "2024-12-17T05:00:00+00:00",
          "2024-12-17T06:00:00+00:00",
          "2024-12-17T07:00:00+00:00",
          "2024-12-17T08:00:00+00:00",
          "2024-12-17T09:00:00+00:00",
          "2024-12-17T10:00:00+00:00",
          "2024-12-17T11:00:00+00:00",
          "2024-12-17T12:00:00+00:00",
          "2024-12-17T13:00:00+00:00",
          "2024-12-17T14:00:00+00:00",
          "2024-12-17T15:00:00+00:00",
          "2024-12-17T16:00:00+00:00",
          "2024-12-17T17:00:00+00:00",
          "2024-12-17T18:00:00+00:00",
          "2024-12-17T19:00:00+00:00",
          "2024-12-17T20:00:00+00:00",
          "2024-12-17T21:00:00+00:00",
          "2024-12-17T22:00:00+00:00",
          "2024-12-17T23:00:00+00:00",
          "2024-12-18T00:00:00+00:00",
          "2024-12-18T01:00:00+00:00",
          "2024-12-18T02:00:00+00:00",
          "2024-12-18T03:00:00+00:00",
          "2024-12-18T04:00:00+00:00",
          "2024-12-18T05:00:00+00:00",
          "2024-12-18T06:00:00+00:00",
          "2024-12-18T07:00:00+00:00",
          "2024-12-18T08:00:00+00:00",
          "2024-12-18T09:00:00+00:00",
          "2024-12-18T10:00:00+00:00",
          "2024-12-18T11:00:00+00:00",
          "2024-12-18T12:00:00+00:00",
          "2024-12-18T13:00:00+00:00",
          "2024-12-18T14:00:00+00:00",
          "2024-12-18T15:00:00+00:00",
          "2024-12-18T16:00:00+00:00",
          "2024-12-18T17:00:00+00:00",
          "2024-12-18T18:00:00+00:00",
          "2024-12-18T19:00:00+00:00",
          "2024-12-18T20:00:00+00:00",
          "2024-12-18T21:00:00+00:00",
          "2024-12-18T22:00:00+00:00",
          "2024-12-18T23:00:00+00:00",
          "2024-12-19T00:00:00+00:00",
          "2024-12-19T01:00:00+00:00",
          "2024-12-19T02:00:00+00:00",
          "2024-12-19T03:00:00+00:00",
          "2024-12-19T04:00:00+00:00",
          "2024-12-19T05:00:00+00:00",
          "2024-12-19T06:00:00+00:00",
          "2024-12-19T07:00:00+00:00",
          "2024-12-19T08:00:00+00:00",
          "2024-12-19T09:00:00+00:00",
          "2024-12-19T10:00:00+00:00",
          "2024-12-19T11:00:00+00:00",
          "2024-12-19T12:00:00+00:00",
          "2024-12-19T13:00:00+00:00",
          "2024-12-19T14:00:00+00:00",
          "2024-12-19T15:00:00+00:00",
          "2024-12-19T16:00:00+00:00",
          "2024-12-19T17:00:00+00:00",
          "2024-12-19T18:00:00+00:00",
          "2024-12-19T19:00:00+00:00",
          "2024-12-19T20:00:00+00:00",
          "2024-12-19T21:00:00+00:00",
          "2024-12-19T22:00:00+00:00",
          "2024-12-19T23:00:00+00:00",
          "2024-12-20T00:00:00+00:00",
          "2024-12-20T01:00:00+00:00",
          "2024-12-20T02:00:00+00:00",
          "2024-12-20T03:00:00+00:00",
          "2024-12-20T04:00:00+00:00",
          "2024-12-20T05:00:00+00:00",
          "2024-12-20T06:00:00+00:00",
          "2024-12-20T07:00:00+00:00",
          "2024-12-20T08:00:00+00:00",
          "2024-12-20T09:00:00+00:00",
          "2024-12-20T10:00:00+00:00",
          "2024-12-20T11:00:00+00:00",
          "2024-12-20T12:00:00+00:00",
          "2024-12-20T13:00:00+00:00",
          "2024-12-20T14:00:00+00:00",
          "2024-12-20T15:00:00+00:00",
          "2024-12-20T16:00:00+00:00",
          "2024-12-20T17:00:00+00:00",
          "2024-12-20T18:00:00+00:00",
          "2024-12-20T19:00:00+00:00",
          "2024-12-20T20:00:00+00:00",
          "2024-12-20T21:00:00+00:00",
          "2024-12-20T22:00:00+00:00",
          "2024-12-20T23:00:00+00:00",
          "2024-12-21T00:00:00+00:00",
          "2024-12-21T01:00:00+00:00",
          "2024-12-21T02:00:00+00:00",
          "2024-12-21T03:00:00+00:00",
          "2024-12-21T04:00:00+00:00",
          "2024-12-21T05:00:00+00:00",
          "2024-12-21T06:00:00+00:00",
          "2024-12-21T07:00:00+00:00",
          "2024-12-21T08:00:00+00:00",
          "2024-12-21T09:00:00+00:00",
          "2024-12-21T10:00:00+00:00",
          "2024-12-21T11:00:00+00:00",
          "2024-12-21T12:00:00+00:00",
          "2024-12-21T13:00:00+00:00",
          "2024-12-21T14:00:00+00:00",
          "2024-12-21T15:00:00+00:00",
          "2024-12-21T16:00:00+00:00",
          "2024-12-21T17:00:00+00:00",
          "2024-12-21T18:00:00+00:00",
          "2024-12-21T19:00:00+00:00",
          "2024-12-21T20:00:00+00:00",
          "2024-12-21T21:00:00+00:00",
          "2024-12-21T22:00:00+00:00",
          "2024-12-21T23:00:00+00:00",
          "2024-12-22T00:00:00+00:00",
          "2024-12-22T01:00:00+00:00",
          "2024-12-22T02:00:00+00:00",
          "2024-12-22T03:00:00+00:00",
          "2024-12-22T04:00:00+00:00",
          "2024-12-22T05:00:00+00:00",
          "2024-12-22T06:00:00+00:00",
          "2024-12-22T07:00:00+00:00",
          "2024-12-22T08:00:00+00:00",
          "2024-12-22T09:00:00+00:00",
          "2024-12-22T10:00:00+00:00",
          "2024-12-22T11:00:00+00:00",
          "2024-12-22T12:00:00+00:00",
          "2024-12-22T13:00:00+00:00",
          "2024-12-22T14:00:00+00:00",
          "2024-12-22T15:00:00+00:00",
          "2024-12-22T16:00:00+00:00",
          "2024-12-22T17:00:00+00:00",
          "2024-12-22T18:00:00+00:00",
          "2024-12-22T19:00:00+00:00",
          "2024-12-22T20:00:00+00:00",
          "2024-12-22T21:00:00+00:00",
          "2024-12-22T22:00:00+00:00",
          "2024-12-22T23:00:00+00:00",
          "2024-12-23T00:00:00+00:00",
          "2024-12-23T01:00:00+00:00",
          "2024-12-23T02:00:00+00:00",
          "2024-12-23T03:00:00+00:00",
          "2024-12-23T04:00:00+00:00",
          "2024-12-23T05:00:00+00:00",
          "2024-12-23T06:00:00+00:00",
          "2024-12-23T07:00:00+00:00",
          "2024-12-23T08:00:00+00:00",
          "2024-12-23T09:00:00+00:00",
          "2024-12-23T10:00:00+00:00",
          "2024-12-23T11:00:00+00:00",
          "2024-12-23T12:00:00+00:00",
          "2024-12-23T13:00:00+00:00",
          "2024-12-23T14:00:00+00:00",
          "2024-12-23T15:00:00+00:00",
          "2024-12-23T16:00:00+00:00",
          "2024-12-23T17:00:00+00:00",
          "2024-12-23T18:00:00+00:00",
          "2024-12-23T19:00:00+00:00",
          "2024-12-23T20:00:00+00:00",
          "2024-12-23T21:00:00+00:00",
          "2024-12-23T22:00:00+00:00",
          "2024-12-23T23:00:00+00:00",
          "2024-12-24T00:00:00+00:00",
          "2024-12-24T01:00:00+00:00",
          "2024-12-24T02:00:00+00:00",
          "2024-12-24T03:00:00+00:00",
          "2024-12-24T04:00:00+00:00",
          "2024-12-24T05:00:00+00:00",
          "2024-12-24T06:00:00+00:00",
          "2024-12-24T07:00:00+00:00",
          "2024-12-24T08:00:00+00:00",
          "2024-12-24T09:00:00+00:00",
          "2024-12-24T10:00:00+00:00",
          "2024-12-24T11:00:00+00:00",
          "2024-12-24T12:00:00+00:00",
          "2024-12-24T13:00:00+00:00",
          "2024-12-24T14:00:00+00:00",
          "2024-12-24T15:00:00+00:00",
          "2024-12-24T16:00:00+00:00",
          "2024-12-24T17:00:00+00:00",
          "2024-12-24T18:00:00+00:00",
          "2024-12-24T19:00:00+00:00",
          "2024-12-24T20:00:00+00:00",
          "2024-12-24T21:00:00+00:00",
          "2024-12-24T22:00:00+00:00",
          "2024-12-24T23:00:00+00:00",
          "2024-12-25T00:00:00+00:00",
          "2024-12-25T01:00:00+00:00",
          "2024-12-25T02:00:00+00:00",
          "2024-12-25T03:00:00+00:00",
          "2024-12-25T04:00:00+00:00",
          "2024-12-25T05:00:00+00:00",
          "2024-12-25T06:00:00+00:00",
          "2024-12-25T07:00:00+00:00",
          "2024-12-25T08:00:00+00:00",
          "2024-12-25T09:00:00+00:00",
          "2024-12-25T10:00:00+00:00",
          "2024-12-25T11:00:00+00:00",
          "2024-12-25T12:00:00+00:00",
          "2024-12-25T13:00:00+00:00",
          "2024-12-25T14:00:00+00:00",
          "2024-12-25T15:00:00+00:00",
          "2024-12-25T16:00:00+00:00",
          "2024-12-25T17:00:00+00:00",
          "2024-12-25T18:00:00+00:00",
          "2024-12-25T19:00:00+00:00",
          "2024-12-25T20:00:00+00:00",
          "2024-12-25T21:00:00+00:00",
          "2024-12-25T22:00:00+00:00",
          "2024-12-25T23:00:00+00:00",
          "2024-12-26T00:00:00+00:00",
          "2024-12-26T01:00:00+00:00",
          "2024-12-26T02:00:00+00:00",
          "2024-12-26T03:00:00+00:00",
          "2024-12-26T04:00:00+00:00",
          "2024-12-26T05:00:00+00:00",
          "2024-12-26T06:00:00+00:00",
          "2024-12-26T07:00:00+00:00",
          "2024-12-26T08:00:00+00:00",
          "2024-12-26T09:00:00+00:00",
          "2024-12-26T10:00:00+00:00",
          "2024-12-26T11:00:00+00:00",
          "2024-12-26T12:00:00+00:00",
          "2024-12-26T13:00:00+00:00",
          "2024-12-26T14:00:00+00:00",
          "2024-12-26T15:00:00+00:00",
          "2024-12-26T16:00:00+00:00",
          "2024-12-26T17:00:00+00:00",
          "2024-12-26T18:00:00+00:00",
          "2024-12-26T19:00:00+00:00",
          "2024-12-26T20:00:00+00:00",
          "2024-12-26T21:00:00+00:00",
          "2024-12-26T22:00:00+00:00",
          "2024-12-26T23:00:00+00:00",
          "2024-12-27T00:00:00+00:00",
          "2024-12-27T01:00:00+00:00",
          "2024-12-27T02:00:00+00:00",
          "2024-12-27T03:00:00+00:00",
          "2024-12-27T04:00:00+00:00",
          "2024-12-27T05:00:00+00:00",
          "2024-12-27T06:00:00+00:00",
          "2024-12-27T07:00:00+00:00",
          "2024-12-27T08:00:00+00:00",
          "2024-12-27T09:00:00+00:00",
          "2024-12-27T10:00:00+00:00",
          "2024-12-27T11:00:00+00:00",
          "2024-12-27T12:00:00+00:00",
          "2024-12-27T13:00:00+00:00",
          "2024-12-27T14:00:00+00:00",
          "2024-12-27T15:00:00+00:00",
          "2024-12-27T16:00:00+00:00",
          "2024-12-27T17:00:00+00:00",
          "2024-12-27T18:00:00+00:00",
          "2024-12-27T19:00:00+00:00",
          "2024-12-27T20:00:00+00:00",
          "2024-12-27T21:00:00+00:00",
          "2024-12-27T22:00:00+00:00",
          "2024-12-27T23:00:00+00:00",
          "2024-12-28T00:00:00+00:00",
          "2024-12-28T01:00:00+00:00",
          "2024-12-28T02:00:00+00:00",
          "2024-12-28T03:00:00+00:00",
          "2024-12-28T04:00:00+00:00",
          "2024-12-28T05:00:00+00:00",
          "2024-12-28T06:00:00+00:00",
          "2024-12-28T07:00:00+00:00",
          "2024-12-28T08:00:00+00:00",
          "2024-12-28T09:00:00+00:00",
          "2024-12-28T10:00:00+00:00",
          "2024-12-28T11:00:00+00:00",
          "2024-12-28T12:00:00+00:00",
          "2024-12-28T13:00:00+00:00",
          "2024-12-28T14:00:00+00:00",
          "2024-12-28T15:00:00+00:00",
          "2024-12-28T16:00:00+00:00",
          "2024-12-28T17:00:00+00:00",
          "2024-12-28T18:00:00+00:00",
          "2024-12-28T19:00:00+00:00",
          "2024-12-28T20:00:00+00:00",
          "2024-12-28T21:00:00+00:00",
          "2024-12-28T22:00:00+00:00",
          "2024-12-28T23:00:00+00:00",
          "2024-12-29T00:00:00+00:00",
          "2024-12-29T01:00:00+00:00",
          "2024-12-29T02:00:00+00:00",
          "2024-12-29T03:00:00+00:00",
          "2024-12-29T04:00:00+00:00",
          "2024-12-29T05:00:00+00:00",
          "2024-12-29T06:00:00+00:00",
          "2024-12-29T07:00:00+00:00",
          "2024-12-29T08:00:00+00:00",
          "2024-12-29T09:00:00+00:00",
          "2024-12-29T10:00:00+00:00",
          "2024-12-29T11:00:00+00:00",
          "2024-12-29T12:00:00+00:00",
          "2024-12-29T13:00:00+00:00",
          "2024-12-29T14:00:00+00:00",
          "2024-12-29T15:00:00+00:00",
          "2024-12-29T16:00:00+00:00",
          "2024-12-29T17:00:00+00:00",
          "2024-12-29T18:00:00+00:00",
          "2024-12-29T19:00:00+00:00",
          "2024-12-29T20:00:00+00:00",
          "2024-12-29T21:00:00+00:00",
          "2024-12-29T22:00:00+00:00",
          "2024-12-29T23:00:00+00:00",
          "2024-12-30T00:00:00+00:00",
          "2024-12-30T01:00:00+00:00",
          "2024-12-30T02:00:00+00:00",
          "2024-12-30T03:00:00+00:00",
          "2024-12-30T04:00:00+00:00",
          "2024-12-30T05:00:00+00:00",
          "2024-12-30T06:00:00+00:00",
          "2024-12-30T07:00:00+00:00",
          "2024-12-30T08:00:00+00:00",
          "2024-12-30T09:00:00+00:00",
          "2024-12-30T10:00:00+00:00",
          "2024-12-30T11:00:00+00:00",
          "2024-12-30T12:00:00+00:00",
          "2024-12-30T13:00:00+00:00",
          "2024-12-30T14:00:00+00:00",
          "2024-12-30T15:00:00+00:00",
          "2024-12-30T16:00:00+00:00",
          "2024-12-30T17:00:00+00:00",
          "2024-12-30T18:00:00+00:00",
          "2024-12-30T19:00:00+00:00",
          "2024-12-30T20:00:00+00:00",
          "2024-12-30T21:00:00+00:00",
          "2024-12-30T22:00:00+00:00",
          "2024-12-30T23:00:00+00:00",
          "2024-12-31T00:00:00+00:00",
          "2024-12-31T01:00:00+00:00",
          "2024-12-31T02:00:00+00:00",
          "2024-12-31T03:00:00+00:00",
          "2024-12-31T04:00:00+00:00",
          "2024-12-31T05:00:00+00:00",
          "2024-12-31T06:00:00+00:00",
          "2024-12-31T07:00:00+00:00",
          "2024-12-31T08:00:00+00:00",
          "2024-12-31T09:00:00+00:00",
          "2024-12-31T10:00:00+00:00",
          "2024-12-31T11:00:00+00:00",
          "2024-12-31T12:00:00+00:00",
          "2024-12-31T13:00:00+00:00",
          "2024-12-31T14:00:00+00:00",
          "2024-12-31T15:00:00+00:00",
          "2024-12-31T16:00:00+00:00",
          "2024-12-31T17:00:00+00:00",
          "2024-12-31T18:00:00+00:00",
          "2024-12-31T19:00:00+00:00",
          "2024-12-31T20:00:00+00:00",
          "2024-12-31T21:00:00+00:00",
          "2024-12-31T22:00:00+00:00",
          "2024-12-31T23:00:00+00:00"
         ],
         "xaxis": "x",
         "y": [
          12482,
          12852,
          12724,
          12484,
          12186,
          11730,
          11244,
          10791,
          10399,
          10096,
          9953,
          9905,
          10096,
          10629,
          11515,
          12170,
          12231,
          12295,
          12374,
          12432,
          12539,
          12608,
          12680,
          12751,
          13090,
          13521,
          13485,
          13236,
          13144,
          12866,
          12455,
          12054,
          11730,
          11433,
          11259,
          11213,
          11314,
          11736,
          12522,
          13094,
          13039,
          12660,
          12402,
          12117,
          11930,
          11747,
          11783,
          12132,
          12661,
          12970,
          12975,
          12835,
          12607,
          12283,
          11900,
          11685,
          11259,
          10960,
          10777,
          10683,
          10771,
          11174,
          11925,
          12465,
          12427,
          12153,
          12034,
          12048,
          12012,
          12019,
          11987,
          11982,
          12096,
          12266,
          12082,
          11938,
          11709,
          11446,
          11156,
          10747,
          10372,
          10094,
          9893,
          9783,
          9821,
          10019,
          10302,
          10690,
          10840,
          10819,
          10810,
          10745,
          10490,
          10099,
          9994,
          10272,
          10874,
          11388,
          11313,
          11130,
          10952,
          10683,
          10398,
          10064,
          9744,
          9514,
          9393,
          9346,
          9362,
          9534,
          9790,
          10148,
          10383,
          10523,
          10590,
          10597,
          10764,
          10805,
          10844,
          10986,
          11392,
          11806,
          11693,
          11511,
          11226,
          10845,
          10425,
          9998,
          9684,
          9515,
          9457,
          9442,
          9685,
          10236,
          11163,
          11918,
          11913,
          11615,
          11565,
          11612,
          11849,
          12063,
          12147,
          12251,
          12588,
          12882,
          12786,
          12592,
          12324,
          11919,
          11426,
          10969,
          10653,
          10397,
          10274,
          10232,
          10409,
          10914,
          11713,
          12325,
          12401,
          12198,
          12250,
          12272,
          12288,
          12364,
          12356,
          12409,
          12747,
          13154,
          13088,
          12843,
          12581,
          12276,
          11903,
          11508,
          11135,
          10893,
          10826,
          10875,
          11088,
          11695,
          12587,
          13266,
          13325,
          12950,
          12773,
          12667,
          12654,
          12697,
          12871,
          13214,
          13624,
          14094,
          13980,
          13822,
          13701,
          13546,
          13167,
          12708,
          12405,
          12223,
          12100,
          12078,
          12209,
          12591,
          13182,
          13699,
          13776,
          13459,
          13186,
          13198,
          13107,
          13088,
          13139,
          13165,
          13286,
          13654,
          13598,
          13450,
          13539,
          13570,
          13276,
          12889,
          12498,
          12221,
          12039,
          12021,
          12120,
          12537,
          13228,
          13804,
          13716,
          13354,
          12970,
          12778,
          12693,
          12748,
          12845,
          13042,
          13398,
          13709,
          13455,
          13190,
          12965,
          12632,
          12324,
          11930,
          11547,
          11227,
          11054,
          10948,
          10947,
          11102,
          11327,
          11580,
          11978,
          12267,
          12368,
          12373,
          12266,
          12227,
          12139,
          12107,
          12290,
          12516,
          12376,
          12195,
          11931,
          11587,
          11112,
          10823,
          10489,
          10218,
          10046,
          9959,
          9941,
          9976,
          10241,
          10688,
          10912,
          11121,
          11377,
          11453,
          11551,
          11522,
          11512,
          11542,
          11892,
          12244,
          12102,
          11949,
          11622,
          11247,
          10769,
          10335,
          9996,
          9778,
          9705,
          9721,
          9867,
          10403,
          11257,
          11996,
          12088,
          11986,
          11860,
          11878,
          12056,
          12209,
          12275,
          12354,
          12662,
          12922,
          12793,
          12563,
          12295,
          11909,
          11453,
          10995,
          10657,
          10420,
          10306,
          10241,
          10418,
          10860,
          11634,
          12239,
          12477,
          12473,
          12478,
          12409,
          12412,
          12424,
          12435,
          12461,
          12794,
          13035,
          12979,
          12799,
          12556,
          12158,
          11691,
          11201,
          10865,
          10652,
          10537,
          10585,
          10791,
          11181,
          11960,
          12441,
          12636,
          12598,
          12765,
          12659,
          12639,
          12587,
          12557,
          12687,
          13122,
          13523,
          13452,
          13303,
          13060,
          12645,
          12279,
          11793,
          11363,
          11065,
          10945,
          10880,
          11031,
          11495,
          12202,
          12853,
          12997,
          13022,
          13002,
          12975,
          12902,
          12915,
          12873,
          12940,
          13232,
          13621,
          13508,
          13283,
          13017,
          12617,
          12197,
          11794,
          11418,
          11141,
          10979,
          10993,
          11137,
          11494,
          12190,
          12847,
          13009,
          12944,
          12830,
          12746,
          12670,
          12627,
          12593,
          12485,
          12729,
          13087,
          13007,
          12846,
          12851,
          12754,
          12489,
          12129,
          11800,
          11534,
          11377,
          11302,
          11325,
          11483,
          11746,
          12122,
          12395,
          12517,
          12499,
          12396,
          12261,
          12126,
          12026,
          12084,
          12357,
          12708,
          12615,
          12399,
          12212,
          11945,
          11608,
          11241,
          10919,
          10661,
          10419,
          10339,
          10359,
          10571,
          10827,
          11202,
          11419,
          11435,
          11222,
          11016,
          10965,
          10969,
          11151,
          11362,
          11772,
          12262,
          12202,
          12070,
          11833,
          11492,
          11101,
          10677,
          10333,
          10122,
          10043,
          9988,
          10162,
          10567,
          11134,
          11723,
          12012,
          12107,
          12034,
          11913,
          11942,
          11849,
          11847,
          11962,
          12324,
          12706,
          12593,
          12379,
          12188,
          11860,
          11491,
          11100,
          10667,
          10393,
          10248,
          10202,
          10284,
          10556,
          10957,
          11407,
          11694,
          11907,
          12005,
          11969,
          11821,
          11691,
          11590,
          11503,
          11576,
          11724,
          11410,
          11105,
          10954,
          10820,
          10708,
          10405,
          10126,
          9795,
          9694,
          9620,
          9642,
          9828,
          10051,
          10429,
          10743,
          10966,
          11036,
          11000,
          10869,
          10704,
          10615,
          10656,
          10944,
          11274,
          11188,
          11122,
          10999,
          10766,
          10494,
          10112,
          9835,
          9653,
          9553,
          9546,
          9682,
          10088,
          10675,
          11228,
          11522,
          11670,
          11749,
          11805,
          11864,
          11833,
          11769,
          11754,
          11960,
          12200,
          11999,
          11751,
          11503,
          11116,
          10768,
          10292,
          9915,
          9646,
          9480,
          9420,
          9544,
          9921,
          10466,
          11002,
          11268,
          11476,
          11564,
          11631,
          11659,
          11586,
          11552,
          11559,
          11739,
          11899,
          11685,
          11386,
          11140,
          10850,
          10540,
          10132,
          9772,
          9498,
          9359,
          9332,
          9377,
          9553,
          9822,
          10177,
          10476,
          10586,
          10486,
          10335,
          10171,
          9969,
          9909,
          10210,
          10717,
          11245,
          11221,
          11085,
          10884,
          10715,
          10337,
          9983,
          9693,
          9491,
          9387,
          9347,
          9398,
          9562,
          9744,
          10065,
          10378,
          10602,
          10709,
          10745,
          10767,
          10723,
          10690,
          10798,
          11053,
          11537,
          11450,
          11422,
          11191,
          10902,
          10575,
          10254,
          9951,
          9814,
          9715,
          9738,
          9890,
          10293,
          10899,
          11478,
          11747,
          11895,
          12002,
          12056,
          12117,
          12098,
          12043,
          12037,
          12197,
          12461,
          12309,
          12072,
          11796,
          11446,
          11083,
          10697,
          10313,
          10048,
          9935,
          9898,
          10012,
          10359,
          10925,
          11444,
          12000,
          12006,
          12025,
          11983,
          11942,
          11916,
          12003,
          12063,
          12210
         ],
         "yaxis": "y"
        },
        {
         "line": {
          "color": "green"
         },
         "marker": {
          "size": 10
         },
         "mode": "markers",
         "name": "actual value",
         "type": "scatter",
         "x": [
          "2024-12-31T23:00:00+00:00"
         ],
         "y": [
          12210
         ]
        },
        {
         "line": {
          "color": "red"
         },
         "marker": {
          "size": 15,
          "symbol": "x"
         },
         "mode": "markers",
         "name": "prediction",
         "type": "scatter",
         "x": [
          "2024-12-31T23:00:00+00:00"
         ],
         "y": [
          12040.921590489914
         ]
        }
       ],
       "layout": {
        "legend": {
         "tracegroupgap": 0
        },
        "template": {
         "data": {
          "bar": [
           {
            "error_x": {
             "color": "#f2f5fa"
            },
            "error_y": {
             "color": "#f2f5fa"
            },
            "marker": {
             "line": {
              "color": "rgb(17,17,17)",
              "width": 0.5
             },
             "pattern": {
              "fillmode": "overlay",
              "size": 10,
              "solidity": 0.2
             }
            },
            "type": "bar"
           }
          ],
          "barpolar": [
           {
            "marker": {
             "line": {
              "color": "rgb(17,17,17)",
              "width": 0.5
             },
             "pattern": {
              "fillmode": "overlay",
              "size": 10,
              "solidity": 0.2
             }
            },
            "type": "barpolar"
           }
          ],
          "carpet": [
           {
            "aaxis": {
             "endlinecolor": "#A2B1C6",
             "gridcolor": "#506784",
             "linecolor": "#506784",
             "minorgridcolor": "#506784",
             "startlinecolor": "#A2B1C6"
            },
            "baxis": {
             "endlinecolor": "#A2B1C6",
             "gridcolor": "#506784",
             "linecolor": "#506784",
             "minorgridcolor": "#506784",
             "startlinecolor": "#A2B1C6"
            },
            "type": "carpet"
           }
          ],
          "choropleth": [
           {
            "colorbar": {
             "outlinewidth": 0,
             "ticks": ""
            },
            "type": "choropleth"
           }
          ],
          "contour": [
           {
            "colorbar": {
             "outlinewidth": 0,
             "ticks": ""
            },
            "colorscale": [
             [
              0,
              "#0d0887"
             ],
             [
              0.1111111111111111,
              "#46039f"
             ],
             [
              0.2222222222222222,
              "#7201a8"
             ],
             [
              0.3333333333333333,
              "#9c179e"
             ],
             [
              0.4444444444444444,
              "#bd3786"
             ],
             [
              0.5555555555555556,
              "#d8576b"
             ],
             [
              0.6666666666666666,
              "#ed7953"
             ],
             [
              0.7777777777777778,
              "#fb9f3a"
             ],
             [
              0.8888888888888888,
              "#fdca26"
             ],
             [
              1,
              "#f0f921"
             ]
            ],
            "type": "contour"
           }
          ],
          "contourcarpet": [
           {
            "colorbar": {
             "outlinewidth": 0,
             "ticks": ""
            },
            "type": "contourcarpet"
           }
          ],
          "heatmap": [
           {
            "colorbar": {
             "outlinewidth": 0,
             "ticks": ""
            },
            "colorscale": [
             [
              0,
              "#0d0887"
             ],
             [
              0.1111111111111111,
              "#46039f"
             ],
             [
              0.2222222222222222,
              "#7201a8"
             ],
             [
              0.3333333333333333,
              "#9c179e"
             ],
             [
              0.4444444444444444,
              "#bd3786"
             ],
             [
              0.5555555555555556,
              "#d8576b"
             ],
             [
              0.6666666666666666,
              "#ed7953"
             ],
             [
              0.7777777777777778,
              "#fb9f3a"
             ],
             [
              0.8888888888888888,
              "#fdca26"
             ],
             [
              1,
              "#f0f921"
             ]
            ],
            "type": "heatmap"
           }
          ],
          "heatmapgl": [
           {
            "colorbar": {
             "outlinewidth": 0,
             "ticks": ""
            },
            "colorscale": [
             [
              0,
              "#0d0887"
             ],
             [
              0.1111111111111111,
              "#46039f"
             ],
             [
              0.2222222222222222,
              "#7201a8"
             ],
             [
              0.3333333333333333,
              "#9c179e"
             ],
             [
              0.4444444444444444,
              "#bd3786"
             ],
             [
              0.5555555555555556,
              "#d8576b"
             ],
             [
              0.6666666666666666,
              "#ed7953"
             ],
             [
              0.7777777777777778,
              "#fb9f3a"
             ],
             [
              0.8888888888888888,
              "#fdca26"
             ],
             [
              1,
              "#f0f921"
             ]
            ],
            "type": "heatmapgl"
           }
          ],
          "histogram": [
           {
            "marker": {
             "pattern": {
              "fillmode": "overlay",
              "size": 10,
              "solidity": 0.2
             }
            },
            "type": "histogram"
           }
          ],
          "histogram2d": [
           {
            "colorbar": {
             "outlinewidth": 0,
             "ticks": ""
            },
            "colorscale": [
             [
              0,
              "#0d0887"
             ],
             [
              0.1111111111111111,
              "#46039f"
             ],
             [
              0.2222222222222222,
              "#7201a8"
             ],
             [
              0.3333333333333333,
              "#9c179e"
             ],
             [
              0.4444444444444444,
              "#bd3786"
             ],
             [
              0.5555555555555556,
              "#d8576b"
             ],
             [
              0.6666666666666666,
              "#ed7953"
             ],
             [
              0.7777777777777778,
              "#fb9f3a"
             ],
             [
              0.8888888888888888,
              "#fdca26"
             ],
             [
              1,
              "#f0f921"
             ]
            ],
            "type": "histogram2d"
           }
          ],
          "histogram2dcontour": [
           {
            "colorbar": {
             "outlinewidth": 0,
             "ticks": ""
            },
            "colorscale": [
             [
              0,
              "#0d0887"
             ],
             [
              0.1111111111111111,
              "#46039f"
             ],
             [
              0.2222222222222222,
              "#7201a8"
             ],
             [
              0.3333333333333333,
              "#9c179e"
             ],
             [
              0.4444444444444444,
              "#bd3786"
             ],
             [
              0.5555555555555556,
              "#d8576b"
             ],
             [
              0.6666666666666666,
              "#ed7953"
             ],
             [
              0.7777777777777778,
              "#fb9f3a"
             ],
             [
              0.8888888888888888,
              "#fdca26"
             ],
             [
              1,
              "#f0f921"
             ]
            ],
            "type": "histogram2dcontour"
           }
          ],
          "mesh3d": [
           {
            "colorbar": {
             "outlinewidth": 0,
             "ticks": ""
            },
            "type": "mesh3d"
           }
          ],
          "parcoords": [
           {
            "line": {
             "colorbar": {
              "outlinewidth": 0,
              "ticks": ""
             }
            },
            "type": "parcoords"
           }
          ],
          "pie": [
           {
            "automargin": true,
            "type": "pie"
           }
          ],
          "scatter": [
           {
            "marker": {
             "line": {
              "color": "#283442"
             }
            },
            "type": "scatter"
           }
          ],
          "scatter3d": [
           {
            "line": {
             "colorbar": {
              "outlinewidth": 0,
              "ticks": ""
             }
            },
            "marker": {
             "colorbar": {
              "outlinewidth": 0,
              "ticks": ""
             }
            },
            "type": "scatter3d"
           }
          ],
          "scattercarpet": [
           {
            "marker": {
             "colorbar": {
              "outlinewidth": 0,
              "ticks": ""
             }
            },
            "type": "scattercarpet"
           }
          ],
          "scattergeo": [
           {
            "marker": {
             "colorbar": {
              "outlinewidth": 0,
              "ticks": ""
             }
            },
            "type": "scattergeo"
           }
          ],
          "scattergl": [
           {
            "marker": {
             "line": {
              "color": "#283442"
             }
            },
            "type": "scattergl"
           }
          ],
          "scattermapbox": [
           {
            "marker": {
             "colorbar": {
              "outlinewidth": 0,
              "ticks": ""
             }
            },
            "type": "scattermapbox"
           }
          ],
          "scatterpolar": [
           {
            "marker": {
             "colorbar": {
              "outlinewidth": 0,
              "ticks": ""
             }
            },
            "type": "scatterpolar"
           }
          ],
          "scatterpolargl": [
           {
            "marker": {
             "colorbar": {
              "outlinewidth": 0,
              "ticks": ""
             }
            },
            "type": "scatterpolargl"
           }
          ],
          "scatterternary": [
           {
            "marker": {
             "colorbar": {
              "outlinewidth": 0,
              "ticks": ""
             }
            },
            "type": "scatterternary"
           }
          ],
          "surface": [
           {
            "colorbar": {
             "outlinewidth": 0,
             "ticks": ""
            },
            "colorscale": [
             [
              0,
              "#0d0887"
             ],
             [
              0.1111111111111111,
              "#46039f"
             ],
             [
              0.2222222222222222,
              "#7201a8"
             ],
             [
              0.3333333333333333,
              "#9c179e"
             ],
             [
              0.4444444444444444,
              "#bd3786"
             ],
             [
              0.5555555555555556,
              "#d8576b"
             ],
             [
              0.6666666666666666,
              "#ed7953"
             ],
             [
              0.7777777777777778,
              "#fb9f3a"
             ],
             [
              0.8888888888888888,
              "#fdca26"
             ],
             [
              1,
              "#f0f921"
             ]
            ],
            "type": "surface"
           }
          ],
          "table": [
           {
            "cells": {
             "fill": {
              "color": "#506784"
             },
             "line": {
              "color": "rgb(17,17,17)"
             }
            },
            "header": {
             "fill": {
              "color": "#2a3f5f"
             },
             "line": {
              "color": "rgb(17,17,17)"
             }
            },
            "type": "table"
           }
          ]
         },
         "layout": {
          "annotationdefaults": {
           "arrowcolor": "#f2f5fa",
           "arrowhead": 0,
           "arrowwidth": 1
          },
          "autotypenumbers": "strict",
          "coloraxis": {
           "colorbar": {
            "outlinewidth": 0,
            "ticks": ""
           }
          },
          "colorscale": {
           "diverging": [
            [
             0,
             "#8e0152"
            ],
            [
             0.1,
             "#c51b7d"
            ],
            [
             0.2,
             "#de77ae"
            ],
            [
             0.3,
             "#f1b6da"
            ],
            [
             0.4,
             "#fde0ef"
            ],
            [
             0.5,
             "#f7f7f7"
            ],
            [
             0.6,
             "#e6f5d0"
            ],
            [
             0.7,
             "#b8e186"
            ],
            [
             0.8,
             "#7fbc41"
            ],
            [
             0.9,
             "#4d9221"
            ],
            [
             1,
             "#276419"
            ]
           ],
           "sequential": [
            [
             0,
             "#0d0887"
            ],
            [
             0.1111111111111111,
             "#46039f"
            ],
            [
             0.2222222222222222,
             "#7201a8"
            ],
            [
             0.3333333333333333,
             "#9c179e"
            ],
            [
             0.4444444444444444,
             "#bd3786"
            ],
            [
             0.5555555555555556,
             "#d8576b"
            ],
            [
             0.6666666666666666,
             "#ed7953"
            ],
            [
             0.7777777777777778,
             "#fb9f3a"
            ],
            [
             0.8888888888888888,
             "#fdca26"
            ],
            [
             1,
             "#f0f921"
            ]
           ],
           "sequentialminus": [
            [
             0,
             "#0d0887"
            ],
            [
             0.1111111111111111,
             "#46039f"
            ],
            [
             0.2222222222222222,
             "#7201a8"
            ],
            [
             0.3333333333333333,
             "#9c179e"
            ],
            [
             0.4444444444444444,
             "#bd3786"
            ],
            [
             0.5555555555555556,
             "#d8576b"
            ],
            [
             0.6666666666666666,
             "#ed7953"
            ],
            [
             0.7777777777777778,
             "#fb9f3a"
            ],
            [
             0.8888888888888888,
             "#fdca26"
            ],
            [
             1,
             "#f0f921"
            ]
           ]
          },
          "colorway": [
           "#636efa",
           "#EF553B",
           "#00cc96",
           "#ab63fa",
           "#FFA15A",
           "#19d3f3",
           "#FF6692",
           "#B6E880",
           "#FF97FF",
           "#FECB52"
          ],
          "font": {
           "color": "#f2f5fa"
          },
          "geo": {
           "bgcolor": "rgb(17,17,17)",
           "lakecolor": "rgb(17,17,17)",
           "landcolor": "rgb(17,17,17)",
           "showlakes": true,
           "showland": true,
           "subunitcolor": "#506784"
          },
          "hoverlabel": {
           "align": "left"
          },
          "hovermode": "closest",
          "mapbox": {
           "style": "dark"
          },
          "paper_bgcolor": "rgb(17,17,17)",
          "plot_bgcolor": "rgb(17,17,17)",
          "polar": {
           "angularaxis": {
            "gridcolor": "#506784",
            "linecolor": "#506784",
            "ticks": ""
           },
           "bgcolor": "rgb(17,17,17)",
           "radialaxis": {
            "gridcolor": "#506784",
            "linecolor": "#506784",
            "ticks": ""
           }
          },
          "scene": {
           "xaxis": {
            "backgroundcolor": "rgb(17,17,17)",
            "gridcolor": "#506784",
            "gridwidth": 2,
            "linecolor": "#506784",
            "showbackground": true,
            "ticks": "",
            "zerolinecolor": "#C8D4E3"
           },
           "yaxis": {
            "backgroundcolor": "rgb(17,17,17)",
            "gridcolor": "#506784",
            "gridwidth": 2,
            "linecolor": "#506784",
            "showbackground": true,
            "ticks": "",
            "zerolinecolor": "#C8D4E3"
           },
           "zaxis": {
            "backgroundcolor": "rgb(17,17,17)",
            "gridcolor": "#506784",
            "gridwidth": 2,
            "linecolor": "#506784",
            "showbackground": true,
            "ticks": "",
            "zerolinecolor": "#C8D4E3"
           }
          },
          "shapedefaults": {
           "line": {
            "color": "#f2f5fa"
           }
          },
          "sliderdefaults": {
           "bgcolor": "#C8D4E3",
           "bordercolor": "rgb(17,17,17)",
           "borderwidth": 1,
           "tickwidth": 0
          },
          "ternary": {
           "aaxis": {
            "gridcolor": "#506784",
            "linecolor": "#506784",
            "ticks": ""
           },
           "baxis": {
            "gridcolor": "#506784",
            "linecolor": "#506784",
            "ticks": ""
           },
           "bgcolor": "rgb(17,17,17)",
           "caxis": {
            "gridcolor": "#506784",
            "linecolor": "#506784",
            "ticks": ""
           }
          },
          "title": {
           "x": 0.05
          },
          "updatemenudefaults": {
           "bgcolor": "#506784",
           "borderwidth": 0
          },
          "xaxis": {
           "automargin": true,
           "gridcolor": "#283442",
           "linecolor": "#506784",
           "ticks": "",
           "title": {
            "standoff": 15
           },
           "zerolinecolor": "#283442",
           "zerolinewidth": 2
          },
          "yaxis": {
           "automargin": true,
           "gridcolor": "#283442",
           "linecolor": "#506784",
           "ticks": "",
           "title": {
            "standoff": 15
           },
           "zerolinecolor": "#283442",
           "zerolinewidth": 2
          }
         }
        },
        "title": {
         "text": "demand hour r=2024-12-31 23:00:00+00:00, sub regions=0"
        },
        "xaxis": {
         "anchor": "y",
         "domain": [
          0,
          1
         ],
         "title": {
          "text": "x"
         }
        },
        "yaxis": {
         "anchor": "x",
         "domain": [
          0,
          1
         ],
         "title": {
          "text": "y"
         }
        }
       }
      }
     },
     "metadata": {},
     "output_type": "display_data"
    }
   ],
   "source": [
    "#plot the result\n",
    "from src.plot import plot_one_sample\n",
    "\n",
    "plot_one_sample(\n",
    "    example_id=1,\n",
    "    features=X_test,\n",
    "    targets=y_test,\n",
    "    predictions=pd.Series(predictions)\n",
    ")"
   ]
  }
 ],
 "metadata": {
  "kernelspec": {
   "display_name": "src-o1faXYQI-py3.12",
   "language": "python",
   "name": "python3"
  },
  "language_info": {
   "codemirror_mode": {
    "name": "ipython",
    "version": 3
   },
   "file_extension": ".py",
   "mimetype": "text/x-python",
   "name": "python",
   "nbconvert_exporter": "python",
   "pygments_lexer": "ipython3",
   "version": "3.12.1"
  }
 },
 "nbformat": 4,
 "nbformat_minor": 2
}
