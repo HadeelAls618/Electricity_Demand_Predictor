{
 "cells": [
  {
   "cell_type": "code",
   "execution_count": 1,
   "metadata": {},
   "outputs": [],
   "source": [
    "from datetime import datetime, timedelta\n",
    "from datetime import datetime, timedelta\n",
    "import pandas as pd\n",
    "\n",
    "from src.component.monitoring import load_predictions_and_actual_values_from_store\n",
    "\n"
   ]
  },
  {
   "cell_type": "code",
   "execution_count": 2,
   "metadata": {},
   "outputs": [
    {
     "name": "stderr",
     "output_type": "stream",
     "text": [
      "DeprecationWarning: datetime.datetime.utcnow() is deprecated and scheduled for removal in a future version. Use timezone-aware objects to represent datetimes in UTC: datetime.datetime.now(datetime.UTC).\n"
     ]
    },
    {
     "data": {
      "text/plain": [
       "Timestamp('2025-02-04 14:00:00+0000', tz='UTC')"
      ]
     },
     "execution_count": 2,
     "metadata": {},
     "output_type": "execute_result"
    }
   ],
   "source": [
    "\n",
    "current_date = pd.to_datetime(datetime.utcnow(), utc=True).floor('H')\n",
    "current_date"
   ]
  },
  {
   "cell_type": "code",
   "execution_count": 3,
   "metadata": {},
   "outputs": [
    {
     "name": "stdout",
     "output_type": "stream",
     "text": [
      "2025-01-21 14:00:00+00:00\n",
      "2025-02-04 14:00:00+00:00\n",
      "2025-02-04 14:58:15,130 INFO: Initializing external client\n",
      "2025-02-04 14:58:15,131 INFO: Base URL: https://c.app.hopsworks.ai:443\n",
      "2025-02-04 14:58:16,469 INFO: Python Engine initialized.\n",
      "\n",
      "Logged in to project, explore it here https://c.app.hopsworks.ai:443/p/1212591\n",
      "2025-02-04 14:58:17,864 INFO: Closing external client and cleaning up certificates.\n",
      "Connection closed.\n",
      "2025-02-04 14:58:17,869 INFO: Initializing external client\n",
      "2025-02-04 14:58:17,870 INFO: Base URL: https://c.app.hopsworks.ai:443\n",
      "2025-02-04 14:58:18,832 INFO: Python Engine initialized.\n",
      "\n",
      "Logged in to project, explore it here https://c.app.hopsworks.ai:443/p/1212591\n",
      "2025-02-04 14:58:20,142 INFO: Closing external client and cleaning up certificates.\n",
      "Connection closed.\n",
      "2025-02-04 14:58:20,147 INFO: Initializing external client\n",
      "2025-02-04 14:58:20,147 INFO: Base URL: https://c.app.hopsworks.ai:443\n",
      "2025-02-04 14:58:21,062 INFO: Python Engine initialized.\n",
      "\n",
      "Logged in to project, explore it here https://c.app.hopsworks.ai:443/p/1212591\n",
      "2025-02-04 14:58:23,306 INFO: Feature view already existed. Skipping creation.\n",
      "Finished: Reading data from Hopsworks, using Hopsworks Feature Query Service (1.05s) \n",
      "Finished: Reading data from Hopsworks, using Hopsworks Feature Query Service (1.08s) \n",
      "Latest data in Feature View: 2025-02-04 14:00:00+00:00\n"
     ]
    }
   ],
   "source": [
    "monitoring_df = load_predictions_and_actual_values_from_store(\n",
    "        from_date=current_date - timedelta(days=14),\n",
    "        to_date=current_date\n",
    "    )"
   ]
  },
  {
   "cell_type": "code",
   "execution_count": 4,
   "metadata": {},
   "outputs": [
    {
     "data": {
      "text/html": [
       "<div>\n",
       "<style scoped>\n",
       "    .dataframe tbody tr th:only-of-type {\n",
       "        vertical-align: middle;\n",
       "    }\n",
       "\n",
       "    .dataframe tbody tr th {\n",
       "        vertical-align: top;\n",
       "    }\n",
       "\n",
       "    .dataframe thead th {\n",
       "        text-align: right;\n",
       "    }\n",
       "</style>\n",
       "<table border=\"1\" class=\"dataframe\">\n",
       "  <thead>\n",
       "    <tr style=\"text-align: right;\">\n",
       "      <th></th>\n",
       "      <th>sub_region_code</th>\n",
       "      <th>predicted_demand</th>\n",
       "      <th>date</th>\n",
       "      <th>actuals_sub_region_code</th>\n",
       "      <th>actuals_date</th>\n",
       "      <th>actuals_demand</th>\n",
       "    </tr>\n",
       "  </thead>\n",
       "  <tbody>\n",
       "    <tr>\n",
       "      <th>281</th>\n",
       "      <td>6</td>\n",
       "      <td>859.0</td>\n",
       "      <td>2025-02-04 09:00:00+00:00</td>\n",
       "      <td>6</td>\n",
       "      <td>2025-02-04 09:00:00+00:00</td>\n",
       "      <td>1024</td>\n",
       "    </tr>\n",
       "    <tr>\n",
       "      <th>282</th>\n",
       "      <td>3</td>\n",
       "      <td>700.0</td>\n",
       "      <td>2025-02-04 10:00:00+00:00</td>\n",
       "      <td>3</td>\n",
       "      <td>2025-02-04 10:00:00+00:00</td>\n",
       "      <td>717</td>\n",
       "    </tr>\n",
       "    <tr>\n",
       "      <th>283</th>\n",
       "      <td>6</td>\n",
       "      <td>857.0</td>\n",
       "      <td>2025-02-04 10:00:00+00:00</td>\n",
       "      <td>6</td>\n",
       "      <td>2025-02-04 10:00:00+00:00</td>\n",
       "      <td>1042</td>\n",
       "    </tr>\n",
       "    <tr>\n",
       "      <th>284</th>\n",
       "      <td>8</td>\n",
       "      <td>624.0</td>\n",
       "      <td>2025-02-04 11:00:00+00:00</td>\n",
       "      <td>8</td>\n",
       "      <td>2025-02-04 11:00:00+00:00</td>\n",
       "      <td>579</td>\n",
       "    </tr>\n",
       "    <tr>\n",
       "      <th>285</th>\n",
       "      <td>2</td>\n",
       "      <td>1629.0</td>\n",
       "      <td>2025-02-04 13:00:00+00:00</td>\n",
       "      <td>2</td>\n",
       "      <td>2025-02-04 13:00:00+00:00</td>\n",
       "      <td>2144</td>\n",
       "    </tr>\n",
       "  </tbody>\n",
       "</table>\n",
       "</div>"
      ],
      "text/plain": [
       "     sub_region_code  predicted_demand                      date  \\\n",
       "281                6             859.0 2025-02-04 09:00:00+00:00   \n",
       "282                3             700.0 2025-02-04 10:00:00+00:00   \n",
       "283                6             857.0 2025-02-04 10:00:00+00:00   \n",
       "284                8             624.0 2025-02-04 11:00:00+00:00   \n",
       "285                2            1629.0 2025-02-04 13:00:00+00:00   \n",
       "\n",
       "     actuals_sub_region_code              actuals_date actuals_demand  \n",
       "281                        6 2025-02-04 09:00:00+00:00           1024  \n",
       "282                        3 2025-02-04 10:00:00+00:00            717  \n",
       "283                        6 2025-02-04 10:00:00+00:00           1042  \n",
       "284                        8 2025-02-04 11:00:00+00:00            579  \n",
       "285                        2 2025-02-04 13:00:00+00:00           2144  "
      ]
     },
     "execution_count": 4,
     "metadata": {},
     "output_type": "execute_result"
    }
   ],
   "source": [
    "monitoring_df.tail(5)"
   ]
  }
 ],
 "metadata": {
  "kernelspec": {
   "display_name": "src-o1faXYQI-py3.12",
   "language": "python",
   "name": "python3"
  },
  "language_info": {
   "codemirror_mode": {
    "name": "ipython",
    "version": 3
   },
   "file_extension": ".py",
   "mimetype": "text/x-python",
   "name": "python",
   "nbconvert_exporter": "python",
   "pygments_lexer": "ipython3",
   "version": "3.12.1"
  }
 },
 "nbformat": 4,
 "nbformat_minor": 2
}
