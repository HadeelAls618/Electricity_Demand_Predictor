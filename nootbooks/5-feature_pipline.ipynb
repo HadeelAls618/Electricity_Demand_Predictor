{
 "cells": [
  {
   "cell_type": "code",
   "execution_count": 1,
   "metadata": {},
   "outputs": [],
   "source": [
    "from src.component.data_info import *"
   ]
  },
  {
   "cell_type": "code",
   "execution_count": null,
   "metadata": {},
   "outputs": [],
   "source": [
    "def fetch_ride_events_from_data_warehouse(\n",
    "    from_date: datetime,\n",
    "    to_date: datetime\n",
    ") -> pd.DataFrame:\n",
    "    \"\"\"\n",
    "    This function is used to simulate production data by sampling historical data\n",
    "    from 52 weeks ago (i.e., 1 year).\n",
    "    It has been adjusted for daily data files instead of monthly data files.\n",
    "\n",
    "    Args:\n",
    "        from_date (datetime): Start date of the target range.\n",
    "        to_date (datetime): End date of the target range (exclusive).\n",
    "    \n",
    "    Returns:\n",
    "        pd.DataFrame: Simulated production data with shifted dates.\n",
    "    \"\"\"\n",
    "    # Calculate the adjusted historical dates\n",
    "    from_date_ = from_date - timedelta(days=7 * 52)\n",
    "    to_date_ = to_date - timedelta(days=7 * 52)\n",
    "\n",
    "    print(f'Fetching demand events from {from_date_} to {to_date_} (historical data)')\n",
    "\n",
    "    all_data = []  # List to store daily DataFrames\n",
    "\n",
    "    # Loop through each day in the historical range\n",
    "    for single_date in pd.date_range(start=from_date_, end=to_date_ - timedelta(days=1)):\n",
    "        # Fetch the daily data file\n",
    "        daily_data = load_full_data(\n",
    "            start_date=single_date.strftime('%Y-%m-%d'),\n",
    "            end_date=single_date.strftime('%Y-%m-%d')\n",
    "        )\n",
    "        if not daily_data.empty:\n",
    "            all_data.append(daily_data)\n",
    "\n",
    "    # Concatenate all daily DataFrames\n",
    "    if all_data:\n",
    "        demand_values = pd.concat(all_data, ignore_index=True)\n",
    "    else:\n",
    "        print(\"No historical data found.\")\n",
    "        return pd.DataFrame()\n",
    "\n",
    "    # Convert 'date' column to datetime for filtering and shifting\n",
    "    demand_values['date'] = pd.to_datetime(demand_values['date'])\n",
    "\n",
    "    # Filter the data to ensure it matches the exact historical range\n",
    "    demand_values = demand_values[(demand_values['date'] >= from_date_) & (demand_values['date'] < to_date_)]\n",
    "\n",
    "    # Shift the 'date' column forward by 52 weeks to simulate production data\n",
    "    demand_values['date'] += timedelta(days=7 * 52)\n",
    "\n",
    "    # Sort the data by sub_region_code and date\n",
    "    demand_values.sort_values(by=['sub_region_code', 'date'], inplace=True)\n",
    "\n",
    "    return demand_values\n"
   ]
  },
  {
   "cell_type": "code",
   "execution_count": null,
   "metadata": {},
   "outputs": [],
   "source": [
    "electricity_demand_data="
   ]
  },
  {
   "cell_type": "code",
   "execution_count": null,
   "metadata": {},
   "outputs": [],
   "source": []
  },
  {
   "cell_type": "code",
   "execution_count": null,
   "metadata": {},
   "outputs": [],
   "source": []
  },
  {
   "cell_type": "code",
   "execution_count": null,
   "metadata": {},
   "outputs": [],
   "source": []
  },
  {
   "cell_type": "code",
   "execution_count": null,
   "metadata": {},
   "outputs": [],
   "source": []
  },
  {
   "cell_type": "code",
   "execution_count": null,
   "metadata": {},
   "outputs": [],
   "source": []
  }
 ],
 "metadata": {
  "kernelspec": {
   "display_name": "src-o1faXYQI-py3.12",
   "language": "python",
   "name": "python3"
  },
  "language_info": {
   "codemirror_mode": {
    "name": "ipython",
    "version": 3
   },
   "file_extension": ".py",
   "mimetype": "text/x-python",
   "name": "python",
   "nbconvert_exporter": "python",
   "pygments_lexer": "ipython3",
   "version": "3.12.1"
  }
 },
 "nbformat": 4,
 "nbformat_minor": 2
}
