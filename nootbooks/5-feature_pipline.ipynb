{
 "cells": [
  {
   "cell_type": "code",
   "execution_count": 1,
   "metadata": {},
   "outputs": [],
   "source": [
    "from src.component.data_info import *\n",
    "from datetime import datetime, timedelta"
   ]
  },
  {
   "cell_type": "code",
   "execution_count": 2,
   "metadata": {},
   "outputs": [
    {
     "name": "stdout",
     "output_type": "stream",
     "text": [
      "current_date=Timestamp('2025-02-03 00:00:00+0000', tz='UTC')\n",
      "2025-02-03 00:00:00+00:00 2024-11-01 05:00:00+00:00\n"
     ]
    },
    {
     "name": "stderr",
     "output_type": "stream",
     "text": [
      "C:\\Users\\Hadeel\\AppData\\Local\\Temp\\ipykernel_39608\\3565368181.py:6: DeprecationWarning: datetime.datetime.utcnow() is deprecated and scheduled for removal in a future version. Use timezone-aware objects to represent datetimes in UTC: datetime.datetime.now(datetime.UTC).\n",
      "  current_date = pd.to_datetime(datetime.utcnow(),utc=True).floor('h')\n"
     ]
    }
   ],
   "source": [
    "# specify the date we want to fetch our data\n",
    "from datetime import datetime, timedelta\n",
    "\n",
    "import pandas as pd\n",
    "#specify the current time\n",
    "current_date = pd.to_datetime(datetime.utcnow(),utc=True).floor('h')\n",
    "print(f'{current_date=}')\n",
    "\n",
    "# we fetch raw data for the last 28 days, to add redundancy to our data pipeline\n",
    "fetch_data_to = current_date\n",
    "fetch_data_from = current_date - timedelta(days=90)#it should only fetch for the last hour but because we dont want the pipline to break in case this data or the provois our was not availble so thats why we added for the entier month\n",
    "fetch_data_from = pd.Timestamp(year=fetch_data_from.year, month=fetch_data_from.month, day=1,hour=5,tz='UTC')\n",
    "print(fetch_data_to, fetch_data_from )"
   ]
  },
  {
   "cell_type": "code",
   "execution_count": 3,
   "metadata": {},
   "outputs": [],
   "source": [
    "#fetch batch of data from the wherehous\n",
    "\n",
    "def fetch_batch_raw_data(from_date: datetime, to_date: datetime) -> pd.DataFrame:\n",
    "    \"\"\"\n",
    "    Simulate production data by sampling historical data from 52 weeks ago (i.e. 1 year)\n",
    "    \"\"\"\n",
    "    from_date_ = from_date - timedelta(days=7*52)\n",
    "    to_date_ = to_date - timedelta(days=7*52)\n",
    "    print(f'{from_date=}, {to_date_=}')\n",
    "\n",
    "    # download 2 files from website\n",
    "    demand_values = load_full_data(from_date_,to_date_)\n",
    "    demand_values = demand_values[(demand_values.date >= from_date_) & (demand_values.date < to_date_)]\n",
    "\n",
    "\n",
    "    # shift the data to pretend this is recent data\n",
    "    demand_values['date'] += timedelta(days=7*52)\n",
    "\n",
    "    demand_values.sort_values(by=['sub_region_code', 'date'], inplace=True)\n",
    "\n",
    "    return demand_values"
   ]
  },
  {
   "cell_type": "code",
   "execution_count": 4,
   "metadata": {},
   "outputs": [
    {
     "name": "stdout",
     "output_type": "stream",
     "text": [
      "from_date=Timestamp('2024-11-01 05:00:00+0000', tz='UTC'), to_date_=Timestamp('2024-02-05 00:00:00+0000', tz='UTC')\n",
      "Loading file D:\\Electricity_demand_predictor2\\data\\raw\\electricity_raw_data\\hourly_demand_2023-11-03.json\n",
      "Loading file D:\\Electricity_demand_predictor2\\data\\raw\\electricity_raw_data\\hourly_demand_2023-11-04.json\n",
      "Loading file D:\\Electricity_demand_predictor2\\data\\raw\\electricity_raw_data\\hourly_demand_2023-11-05.json\n",
      "Loading file D:\\Electricity_demand_predictor2\\data\\raw\\electricity_raw_data\\hourly_demand_2023-11-06.json\n",
      "Loading file D:\\Electricity_demand_predictor2\\data\\raw\\electricity_raw_data\\hourly_demand_2023-11-07.json\n",
      "Loading file D:\\Electricity_demand_predictor2\\data\\raw\\electricity_raw_data\\hourly_demand_2023-11-08.json\n",
      "Loading file D:\\Electricity_demand_predictor2\\data\\raw\\electricity_raw_data\\hourly_demand_2023-11-09.json\n",
      "Loading file D:\\Electricity_demand_predictor2\\data\\raw\\electricity_raw_data\\hourly_demand_2023-11-10.json\n",
      "Loading file D:\\Electricity_demand_predictor2\\data\\raw\\electricity_raw_data\\hourly_demand_2023-11-11.json\n",
      "Loading file D:\\Electricity_demand_predictor2\\data\\raw\\electricity_raw_data\\hourly_demand_2023-11-12.json\n",
      "Loading file D:\\Electricity_demand_predictor2\\data\\raw\\electricity_raw_data\\hourly_demand_2023-11-13.json\n",
      "Loading file D:\\Electricity_demand_predictor2\\data\\raw\\electricity_raw_data\\hourly_demand_2023-11-14.json\n",
      "Loading file D:\\Electricity_demand_predictor2\\data\\raw\\electricity_raw_data\\hourly_demand_2023-11-15.json\n",
      "Loading file D:\\Electricity_demand_predictor2\\data\\raw\\electricity_raw_data\\hourly_demand_2023-11-16.json\n",
      "Loading file D:\\Electricity_demand_predictor2\\data\\raw\\electricity_raw_data\\hourly_demand_2023-11-17.json\n",
      "Loading file D:\\Electricity_demand_predictor2\\data\\raw\\electricity_raw_data\\hourly_demand_2023-11-18.json\n",
      "Loading file D:\\Electricity_demand_predictor2\\data\\raw\\electricity_raw_data\\hourly_demand_2023-11-19.json\n",
      "Loading file D:\\Electricity_demand_predictor2\\data\\raw\\electricity_raw_data\\hourly_demand_2023-11-20.json\n",
      "Loading file D:\\Electricity_demand_predictor2\\data\\raw\\electricity_raw_data\\hourly_demand_2023-11-21.json\n",
      "Loading file D:\\Electricity_demand_predictor2\\data\\raw\\electricity_raw_data\\hourly_demand_2023-11-22.json\n",
      "Loading file D:\\Electricity_demand_predictor2\\data\\raw\\electricity_raw_data\\hourly_demand_2023-11-23.json\n",
      "Loading file D:\\Electricity_demand_predictor2\\data\\raw\\electricity_raw_data\\hourly_demand_2023-11-24.json\n",
      "Loading file D:\\Electricity_demand_predictor2\\data\\raw\\electricity_raw_data\\hourly_demand_2023-11-25.json\n",
      "Loading file D:\\Electricity_demand_predictor2\\data\\raw\\electricity_raw_data\\hourly_demand_2023-11-26.json\n",
      "Loading file D:\\Electricity_demand_predictor2\\data\\raw\\electricity_raw_data\\hourly_demand_2023-11-27.json\n",
      "Loading file D:\\Electricity_demand_predictor2\\data\\raw\\electricity_raw_data\\hourly_demand_2023-11-28.json\n",
      "Loading file D:\\Electricity_demand_predictor2\\data\\raw\\electricity_raw_data\\hourly_demand_2023-11-29.json\n",
      "Loading file D:\\Electricity_demand_predictor2\\data\\raw\\electricity_raw_data\\hourly_demand_2023-11-30.json\n",
      "Loading file D:\\Electricity_demand_predictor2\\data\\raw\\electricity_raw_data\\hourly_demand_2023-12-01.json\n",
      "Loading file D:\\Electricity_demand_predictor2\\data\\raw\\electricity_raw_data\\hourly_demand_2023-12-02.json\n",
      "Loading file D:\\Electricity_demand_predictor2\\data\\raw\\electricity_raw_data\\hourly_demand_2023-12-03.json\n",
      "Loading file D:\\Electricity_demand_predictor2\\data\\raw\\electricity_raw_data\\hourly_demand_2023-12-04.json\n",
      "Loading file D:\\Electricity_demand_predictor2\\data\\raw\\electricity_raw_data\\hourly_demand_2023-12-05.json\n",
      "Loading file D:\\Electricity_demand_predictor2\\data\\raw\\electricity_raw_data\\hourly_demand_2023-12-06.json\n",
      "Loading file D:\\Electricity_demand_predictor2\\data\\raw\\electricity_raw_data\\hourly_demand_2023-12-07.json\n",
      "Loading file D:\\Electricity_demand_predictor2\\data\\raw\\electricity_raw_data\\hourly_demand_2023-12-08.json\n",
      "Loading file D:\\Electricity_demand_predictor2\\data\\raw\\electricity_raw_data\\hourly_demand_2023-12-09.json\n",
      "Loading file D:\\Electricity_demand_predictor2\\data\\raw\\electricity_raw_data\\hourly_demand_2023-12-10.json\n",
      "Loading file D:\\Electricity_demand_predictor2\\data\\raw\\electricity_raw_data\\hourly_demand_2023-12-11.json\n",
      "Loading file D:\\Electricity_demand_predictor2\\data\\raw\\electricity_raw_data\\hourly_demand_2023-12-12.json\n",
      "Loading file D:\\Electricity_demand_predictor2\\data\\raw\\electricity_raw_data\\hourly_demand_2023-12-13.json\n",
      "Loading file D:\\Electricity_demand_predictor2\\data\\raw\\electricity_raw_data\\hourly_demand_2023-12-14.json\n",
      "Loading file D:\\Electricity_demand_predictor2\\data\\raw\\electricity_raw_data\\hourly_demand_2023-12-15.json\n",
      "Loading file D:\\Electricity_demand_predictor2\\data\\raw\\electricity_raw_data\\hourly_demand_2023-12-16.json\n",
      "Loading file D:\\Electricity_demand_predictor2\\data\\raw\\electricity_raw_data\\hourly_demand_2023-12-17.json\n",
      "Loading file D:\\Electricity_demand_predictor2\\data\\raw\\electricity_raw_data\\hourly_demand_2023-12-18.json\n",
      "Loading file D:\\Electricity_demand_predictor2\\data\\raw\\electricity_raw_data\\hourly_demand_2023-12-19.json\n",
      "Loading file D:\\Electricity_demand_predictor2\\data\\raw\\electricity_raw_data\\hourly_demand_2023-12-20.json\n",
      "Loading file D:\\Electricity_demand_predictor2\\data\\raw\\electricity_raw_data\\hourly_demand_2023-12-21.json\n",
      "Loading file D:\\Electricity_demand_predictor2\\data\\raw\\electricity_raw_data\\hourly_demand_2023-12-22.json\n",
      "Loading file D:\\Electricity_demand_predictor2\\data\\raw\\electricity_raw_data\\hourly_demand_2023-12-23.json\n",
      "Loading file D:\\Electricity_demand_predictor2\\data\\raw\\electricity_raw_data\\hourly_demand_2023-12-24.json\n",
      "Loading file D:\\Electricity_demand_predictor2\\data\\raw\\electricity_raw_data\\hourly_demand_2023-12-25.json\n",
      "Loading file D:\\Electricity_demand_predictor2\\data\\raw\\electricity_raw_data\\hourly_demand_2023-12-26.json\n",
      "Loading file D:\\Electricity_demand_predictor2\\data\\raw\\electricity_raw_data\\hourly_demand_2023-12-27.json\n",
      "Loading file D:\\Electricity_demand_predictor2\\data\\raw\\electricity_raw_data\\hourly_demand_2023-12-28.json\n",
      "Loading file D:\\Electricity_demand_predictor2\\data\\raw\\electricity_raw_data\\hourly_demand_2023-12-29.json\n",
      "Loading file D:\\Electricity_demand_predictor2\\data\\raw\\electricity_raw_data\\hourly_demand_2023-12-30.json\n",
      "Loading file D:\\Electricity_demand_predictor2\\data\\raw\\electricity_raw_data\\hourly_demand_2023-12-31.json\n",
      "Loading file D:\\Electricity_demand_predictor2\\data\\raw\\electricity_raw_data\\hourly_demand_2024-01-01.json\n",
      "Loading file D:\\Electricity_demand_predictor2\\data\\raw\\electricity_raw_data\\hourly_demand_2024-01-02.json\n",
      "Loading file D:\\Electricity_demand_predictor2\\data\\raw\\electricity_raw_data\\hourly_demand_2024-01-03.json\n",
      "Loading file D:\\Electricity_demand_predictor2\\data\\raw\\electricity_raw_data\\hourly_demand_2024-01-04.json\n",
      "Loading file D:\\Electricity_demand_predictor2\\data\\raw\\electricity_raw_data\\hourly_demand_2024-01-05.json\n",
      "Loading file D:\\Electricity_demand_predictor2\\data\\raw\\electricity_raw_data\\hourly_demand_2024-01-06.json\n",
      "Loading file D:\\Electricity_demand_predictor2\\data\\raw\\electricity_raw_data\\hourly_demand_2024-01-07.json\n",
      "Loading file D:\\Electricity_demand_predictor2\\data\\raw\\electricity_raw_data\\hourly_demand_2024-01-08.json\n",
      "Loading file D:\\Electricity_demand_predictor2\\data\\raw\\electricity_raw_data\\hourly_demand_2024-01-09.json\n",
      "Loading file D:\\Electricity_demand_predictor2\\data\\raw\\electricity_raw_data\\hourly_demand_2024-01-10.json\n",
      "Loading file D:\\Electricity_demand_predictor2\\data\\raw\\electricity_raw_data\\hourly_demand_2024-01-11.json\n",
      "Loading file D:\\Electricity_demand_predictor2\\data\\raw\\electricity_raw_data\\hourly_demand_2024-01-12.json\n",
      "Loading file D:\\Electricity_demand_predictor2\\data\\raw\\electricity_raw_data\\hourly_demand_2024-01-13.json\n",
      "Loading file D:\\Electricity_demand_predictor2\\data\\raw\\electricity_raw_data\\hourly_demand_2024-01-14.json\n",
      "Loading file D:\\Electricity_demand_predictor2\\data\\raw\\electricity_raw_data\\hourly_demand_2024-01-15.json\n",
      "Loading file D:\\Electricity_demand_predictor2\\data\\raw\\electricity_raw_data\\hourly_demand_2024-01-16.json\n",
      "Loading file D:\\Electricity_demand_predictor2\\data\\raw\\electricity_raw_data\\hourly_demand_2024-01-17.json\n",
      "Loading file D:\\Electricity_demand_predictor2\\data\\raw\\electricity_raw_data\\hourly_demand_2024-01-18.json\n",
      "Loading file D:\\Electricity_demand_predictor2\\data\\raw\\electricity_raw_data\\hourly_demand_2024-01-19.json\n",
      "Loading file D:\\Electricity_demand_predictor2\\data\\raw\\electricity_raw_data\\hourly_demand_2024-01-20.json\n",
      "Loading file D:\\Electricity_demand_predictor2\\data\\raw\\electricity_raw_data\\hourly_demand_2024-01-21.json\n",
      "Loading file D:\\Electricity_demand_predictor2\\data\\raw\\electricity_raw_data\\hourly_demand_2024-01-22.json\n",
      "Loading file D:\\Electricity_demand_predictor2\\data\\raw\\electricity_raw_data\\hourly_demand_2024-01-23.json\n",
      "Loading file D:\\Electricity_demand_predictor2\\data\\raw\\electricity_raw_data\\hourly_demand_2024-01-24.json\n",
      "Loading file D:\\Electricity_demand_predictor2\\data\\raw\\electricity_raw_data\\hourly_demand_2024-01-25.json\n",
      "Loading file D:\\Electricity_demand_predictor2\\data\\raw\\electricity_raw_data\\hourly_demand_2024-01-26.json\n",
      "Loading file D:\\Electricity_demand_predictor2\\data\\raw\\electricity_raw_data\\hourly_demand_2024-01-27.json\n",
      "Loading file D:\\Electricity_demand_predictor2\\data\\raw\\electricity_raw_data\\hourly_demand_2024-01-28.json\n",
      "Loading file D:\\Electricity_demand_predictor2\\data\\raw\\electricity_raw_data\\hourly_demand_2024-01-29.json\n",
      "Loading file D:\\Electricity_demand_predictor2\\data\\raw\\electricity_raw_data\\hourly_demand_2024-01-30.json\n",
      "Loading file D:\\Electricity_demand_predictor2\\data\\raw\\electricity_raw_data\\hourly_demand_2024-01-31.json\n",
      "Loading file D:\\Electricity_demand_predictor2\\data\\raw\\electricity_raw_data\\hourly_demand_2024-02-01.json\n",
      "Loading file D:\\Electricity_demand_predictor2\\data\\raw\\electricity_raw_data\\hourly_demand_2024-02-02.json\n",
      "Loading file D:\\Electricity_demand_predictor2\\data\\raw\\electricity_raw_data\\hourly_demand_2024-02-03.json\n",
      "Loading file D:\\Electricity_demand_predictor2\\data\\raw\\electricity_raw_data\\hourly_demand_2024-02-04.json\n",
      "Successfully loaded and processed data for 2023-11-03 05:00:00+00:00 to 2024-02-05 00:00:00+00:00\n",
      "Weather data saved to D:\\Electricity_demand_predictor2\\data\\raw\\weather_raw_data\\weather_data_2023-11-03_to_2024-02-05.csv\n"
     ]
    }
   ],
   "source": [
    "data=fetch_batch_raw_data(fetch_data_from,fetch_data_to)"
   ]
  },
  {
   "cell_type": "code",
   "execution_count": 5,
   "metadata": {},
   "outputs": [],
   "source": [
    "# string to datetime\n",
    "data['date'] = pd.to_datetime(data['date'], utc=True)\n",
    "\n",
    "# add column with Unix epoch milliseconds\n",
    "data['seconds'] = data['date'].astype('int64') // 10**6"
   ]
  },
  {
   "cell_type": "code",
   "execution_count": 6,
   "metadata": {},
   "outputs": [
    {
     "data": {
      "text/plain": [
       "date               0\n",
       "sub_region_code    0\n",
       "demand             0\n",
       "temperature_2m     0\n",
       "seconds            0\n",
       "dtype: int64"
      ]
     },
     "execution_count": 6,
     "metadata": {},
     "output_type": "execute_result"
    }
   ],
   "source": [
    "data.isna().sum()"
   ]
  },
  {
   "cell_type": "code",
   "execution_count": 7,
   "metadata": {},
   "outputs": [
    {
     "data": {
      "text/html": [
       "<div>\n",
       "<style scoped>\n",
       "    .dataframe tbody tr th:only-of-type {\n",
       "        vertical-align: middle;\n",
       "    }\n",
       "\n",
       "    .dataframe tbody tr th {\n",
       "        vertical-align: top;\n",
       "    }\n",
       "\n",
       "    .dataframe thead th {\n",
       "        text-align: right;\n",
       "    }\n",
       "</style>\n",
       "<table border=\"1\" class=\"dataframe\">\n",
       "  <thead>\n",
       "    <tr style=\"text-align: right;\">\n",
       "      <th></th>\n",
       "      <th>date</th>\n",
       "      <th>sub_region_code</th>\n",
       "      <th>demand</th>\n",
       "      <th>temperature_2m</th>\n",
       "      <th>seconds</th>\n",
       "    </tr>\n",
       "  </thead>\n",
       "  <tbody>\n",
       "    <tr>\n",
       "      <th>220</th>\n",
       "      <td>2024-11-01 05:00:00+00:00</td>\n",
       "      <td>0</td>\n",
       "      <td>1559</td>\n",
       "      <td>8.5085</td>\n",
       "      <td>1730437200000</td>\n",
       "    </tr>\n",
       "    <tr>\n",
       "      <th>209</th>\n",
       "      <td>2024-11-01 06:00:00+00:00</td>\n",
       "      <td>0</td>\n",
       "      <td>1528</td>\n",
       "      <td>7.9085</td>\n",
       "      <td>1730440800000</td>\n",
       "    </tr>\n",
       "    <tr>\n",
       "      <th>198</th>\n",
       "      <td>2024-11-01 07:00:00+00:00</td>\n",
       "      <td>0</td>\n",
       "      <td>1512</td>\n",
       "      <td>7.9085</td>\n",
       "      <td>1730444400000</td>\n",
       "    </tr>\n",
       "    <tr>\n",
       "      <th>187</th>\n",
       "      <td>2024-11-01 08:00:00+00:00</td>\n",
       "      <td>0</td>\n",
       "      <td>1520</td>\n",
       "      <td>8.9585</td>\n",
       "      <td>1730448000000</td>\n",
       "    </tr>\n",
       "    <tr>\n",
       "      <th>176</th>\n",
       "      <td>2024-11-01 09:00:00+00:00</td>\n",
       "      <td>0</td>\n",
       "      <td>1524</td>\n",
       "      <td>9.5585</td>\n",
       "      <td>1730451600000</td>\n",
       "    </tr>\n",
       "    <tr>\n",
       "      <th>...</th>\n",
       "      <td>...</td>\n",
       "      <td>...</td>\n",
       "      <td>...</td>\n",
       "      <td>...</td>\n",
       "      <td>...</td>\n",
       "    </tr>\n",
       "    <tr>\n",
       "      <th>25585</th>\n",
       "      <td>2025-02-02 19:00:00+00:00</td>\n",
       "      <td>10</td>\n",
       "      <td>1706</td>\n",
       "      <td>7.3085</td>\n",
       "      <td>1738522800000</td>\n",
       "    </tr>\n",
       "    <tr>\n",
       "      <th>25574</th>\n",
       "      <td>2025-02-02 20:00:00+00:00</td>\n",
       "      <td>10</td>\n",
       "      <td>1780</td>\n",
       "      <td>7.1585</td>\n",
       "      <td>1738526400000</td>\n",
       "    </tr>\n",
       "    <tr>\n",
       "      <th>25563</th>\n",
       "      <td>2025-02-02 21:00:00+00:00</td>\n",
       "      <td>10</td>\n",
       "      <td>1926</td>\n",
       "      <td>7.1085</td>\n",
       "      <td>1738530000000</td>\n",
       "    </tr>\n",
       "    <tr>\n",
       "      <th>25552</th>\n",
       "      <td>2025-02-02 22:00:00+00:00</td>\n",
       "      <td>10</td>\n",
       "      <td>2147</td>\n",
       "      <td>7.2585</td>\n",
       "      <td>1738533600000</td>\n",
       "    </tr>\n",
       "    <tr>\n",
       "      <th>25541</th>\n",
       "      <td>2025-02-02 23:00:00+00:00</td>\n",
       "      <td>10</td>\n",
       "      <td>2387</td>\n",
       "      <td>6.9085</td>\n",
       "      <td>1738537200000</td>\n",
       "    </tr>\n",
       "  </tbody>\n",
       "</table>\n",
       "<p>25773 rows × 5 columns</p>\n",
       "</div>"
      ],
      "text/plain": [
       "                           date  sub_region_code demand  temperature_2m  \\\n",
       "220   2024-11-01 05:00:00+00:00                0   1559          8.5085   \n",
       "209   2024-11-01 06:00:00+00:00                0   1528          7.9085   \n",
       "198   2024-11-01 07:00:00+00:00                0   1512          7.9085   \n",
       "187   2024-11-01 08:00:00+00:00                0   1520          8.9585   \n",
       "176   2024-11-01 09:00:00+00:00                0   1524          9.5585   \n",
       "...                         ...              ...    ...             ...   \n",
       "25585 2025-02-02 19:00:00+00:00               10   1706          7.3085   \n",
       "25574 2025-02-02 20:00:00+00:00               10   1780          7.1585   \n",
       "25563 2025-02-02 21:00:00+00:00               10   1926          7.1085   \n",
       "25552 2025-02-02 22:00:00+00:00               10   2147          7.2585   \n",
       "25541 2025-02-02 23:00:00+00:00               10   2387          6.9085   \n",
       "\n",
       "             seconds  \n",
       "220    1730437200000  \n",
       "209    1730440800000  \n",
       "198    1730444400000  \n",
       "187    1730448000000  \n",
       "176    1730451600000  \n",
       "...              ...  \n",
       "25585  1738522800000  \n",
       "25574  1738526400000  \n",
       "25563  1738530000000  \n",
       "25552  1738533600000  \n",
       "25541  1738537200000  \n",
       "\n",
       "[25773 rows x 5 columns]"
      ]
     },
     "execution_count": 7,
     "metadata": {},
     "output_type": "execute_result"
    }
   ],
   "source": [
    "data"
   ]
  },
  {
   "cell_type": "code",
   "execution_count": 8,
   "metadata": {},
   "outputs": [
    {
     "name": "stderr",
     "output_type": "stream",
     "text": [
      "d:\\poetry_virtualenvs\\src-o1faXYQI-py3.12\\Lib\\site-packages\\tqdm\\auto.py:21: TqdmWarning: IProgress not found. Please update jupyter and ipywidgets. See https://ipywidgets.readthedocs.io/en/stable/user_install.html\n",
      "  from .autonotebook import tqdm as notebook_tqdm\n"
     ]
    }
   ],
   "source": [
    "import hopsworks\n",
    "from src.component import feature_group_config"
   ]
  },
  {
   "cell_type": "code",
   "execution_count": 9,
   "metadata": {},
   "outputs": [
    {
     "data": {
      "text/plain": [
       "'4.1.5'"
      ]
     },
     "execution_count": 9,
     "metadata": {},
     "output_type": "execute_result"
    }
   ],
   "source": [
    "hopsworks.__version__"
   ]
  },
  {
   "cell_type": "code",
   "execution_count": 10,
   "metadata": {},
   "outputs": [
    {
     "name": "stdout",
     "output_type": "stream",
     "text": [
      "2025-02-03 00:02:32,239 INFO: Initializing external client\n",
      "2025-02-03 00:02:32,240 INFO: Base URL: https://c.app.hopsworks.ai:443\n",
      "2025-02-03 00:02:33,445 INFO: Python Engine initialized.\n",
      "\n",
      "Logged in to project, explore it here https://c.app.hopsworks.ai:443/p/1212591\n"
     ]
    }
   ],
   "source": [
    "project = hopsworks.login(\n",
    "    project=feature_group_config.HOPSWORKS_PROJECT_NAME,\n",
    "    api_key_value=feature_group_config.HOPSWORKS_API_KEY\n",
    ")\n",
    "feature_store = project.get_feature_store()\n",
    "\n",
    "FEATURE_GROUP_NAME = 'electricity_demand_feature_group'\n",
    "FEATURE_GROUP_VERSION = 3\n",
    "\n",
    "feature_group = feature_store.get_or_create_feature_group(\n",
    "    name=FEATURE_GROUP_NAME,\n",
    "    version=FEATURE_GROUP_VERSION,\n",
    "    description=\"Time-series data at hourly frequency\",\n",
    "    primary_key = ['sub_region_code','date'],\n",
    "    event_time='date',\n",
    ")"
   ]
  },
  {
   "cell_type": "code",
   "execution_count": 11,
   "metadata": {},
   "outputs": [
    {
     "name": "stderr",
     "output_type": "stream",
     "text": [
      "Uploading Dataframe: 100.00% |██████████| Rows 25773/25773 | Elapsed Time: 00:02 | Remaining Time: 00:00\n"
     ]
    },
    {
     "name": "stdout",
     "output_type": "stream",
     "text": [
      "Launching job: electricity_demand_feature_group_3_offline_fg_materialization\n",
      "Job started successfully, you can follow the progress at \n",
      "https://c.app.hopsworks.ai:443/p/1212591/jobs/named/electricity_demand_feature_group_3_offline_fg_materialization/executions\n"
     ]
    },
    {
     "data": {
      "text/plain": [
       "(Job('electricity_demand_feature_group_3_offline_fg_materialization', 'SPARK'),\n",
       " None)"
      ]
     },
     "execution_count": 11,
     "metadata": {},
     "output_type": "execute_result"
    }
   ],
   "source": [
    "feature_group.insert(data, write_options={\"wait_for_job\": False})"
   ]
  }
 ],
 "metadata": {
  "kernelspec": {
   "display_name": "src-o1faXYQI-py3.12",
   "language": "python",
   "name": "python3"
  },
  "language_info": {
   "codemirror_mode": {
    "name": "ipython",
    "version": 3
   },
   "file_extension": ".py",
   "mimetype": "text/x-python",
   "name": "python",
   "nbconvert_exporter": "python",
   "pygments_lexer": "ipython3",
   "version": "3.12.1"
  }
 },
 "nbformat": 4,
 "nbformat_minor": 2
}
